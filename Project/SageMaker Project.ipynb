{
 "cells": [
  {
   "cell_type": "markdown",
   "metadata": {},
   "source": [
    "# Creating a Sentiment Analysis Web App\n",
    "## Using PyTorch and SageMaker\n",
    "\n",
    "_Deep Learning Nanodegree Program | Deployment_\n",
    "\n",
    "---\n",
    "\n",
    "Now that we have a basic understanding of how SageMaker works we will try to use it to construct a complete project from end to end. Our goal will be to have a simple web page which a user can use to enter a movie review. The web page will then send the review off to our deployed model which will predict the sentiment of the entered review.\n",
    "\n",
    "## Instructions\n",
    "\n",
    "Some template code has already been provided for you, and you will need to implement additional functionality to successfully complete this notebook. You will not need to modify the included code beyond what is requested. Sections that begin with '**TODO**' in the header indicate that you need to complete or implement some portion within them. Instructions will be provided for each section and the specifics of the implementation are marked in the code block with a `# TODO: ...` comment. Please be sure to read the instructions carefully!\n",
    "\n",
    "In addition to implementing code, there will be questions for you to answer which relate to the task and your implementation. Each section where you will answer a question is preceded by a '**Question:**' header. Carefully read each question and provide your answer below the '**Answer:**' header by editing the Markdown cell.\n",
    "\n",
    "> **Note**: Code and Markdown cells can be executed using the **Shift+Enter** keyboard shortcut. In addition, a cell can be edited by typically clicking it (double-click for Markdown cells) or by pressing **Enter** while it is highlighted.\n",
    "\n",
    "## General Outline\n",
    "\n",
    "Recall the general outline for SageMaker projects using a notebook instance.\n",
    "\n",
    "1. Download or otherwise retrieve the data.\n",
    "2. Process / Prepare the data.\n",
    "3. Upload the processed data to S3.\n",
    "4. Train a chosen model.\n",
    "5. Test the trained model (typically using a batch transform job).\n",
    "6. Deploy the trained model.\n",
    "7. Use the deployed model.\n",
    "\n",
    "For this project, you will be following the steps in the general outline with some modifications. \n",
    "\n",
    "First, you will not be testing the model in its own step. You will still be testing the model, however, you will do it by deploying your model and then using the deployed model by sending the test data to it. One of the reasons for doing this is so that you can make sure that your deployed model is working correctly before moving forward.\n",
    "\n",
    "In addition, you will deploy and use your trained model a second time. In the second iteration you will customize the way that your trained model is deployed by including some of your own code. In addition, your newly deployed model will be used in the sentiment analysis web app."
   ]
  },
  {
   "cell_type": "code",
   "execution_count": 1,
   "metadata": {},
   "outputs": [
    {
     "name": "stdout",
     "output_type": "stream",
     "text": [
      "Looking in indexes: https://pypi.org/simple, https://pip.repos.neuron.amazonaws.com\n",
      "Collecting sagemaker==1.72.0\n",
      "  Downloading sagemaker-1.72.0.tar.gz (297 kB)\n",
      "\u001b[2K     \u001b[90m━━━━━━━━━━━━━━━━━━━━━━━━━━━━━━━━━━━━━━━\u001b[0m \u001b[32m297.3/297.3 KB\u001b[0m \u001b[31m7.2 MB/s\u001b[0m eta \u001b[36m0:00:00\u001b[0m00:01\u001b[0m\n",
      "\u001b[?25h  Preparing metadata (setup.py) ... \u001b[?25ldone\n",
      "\u001b[?25hRequirement already satisfied: boto3>=1.14.12 in /home/ec2-user/anaconda3/envs/pytorch_p38/lib/python3.8/site-packages (from sagemaker==1.72.0) (1.24.90)\n",
      "Requirement already satisfied: numpy>=1.9.0 in /home/ec2-user/anaconda3/envs/pytorch_p38/lib/python3.8/site-packages (from sagemaker==1.72.0) (1.21.2)\n",
      "Requirement already satisfied: protobuf>=3.1 in /home/ec2-user/anaconda3/envs/pytorch_p38/lib/python3.8/site-packages (from sagemaker==1.72.0) (3.19.4)\n",
      "Requirement already satisfied: scipy>=0.19.0 in /home/ec2-user/anaconda3/envs/pytorch_p38/lib/python3.8/site-packages (from sagemaker==1.72.0) (1.7.2)\n",
      "Requirement already satisfied: protobuf3-to-dict>=0.1.5 in /home/ec2-user/anaconda3/envs/pytorch_p38/lib/python3.8/site-packages (from sagemaker==1.72.0) (0.1.5)\n",
      "Collecting smdebug-rulesconfig==0.1.4\n",
      "  Downloading smdebug_rulesconfig-0.1.4-py2.py3-none-any.whl (10 kB)\n",
      "Requirement already satisfied: importlib-metadata>=1.4.0 in /home/ec2-user/anaconda3/envs/pytorch_p38/lib/python3.8/site-packages (from sagemaker==1.72.0) (4.8.2)\n",
      "Requirement already satisfied: packaging>=20.0 in /home/ec2-user/anaconda3/envs/pytorch_p38/lib/python3.8/site-packages (from sagemaker==1.72.0) (21.3)\n",
      "Requirement already satisfied: jmespath<2.0.0,>=0.7.1 in /home/ec2-user/anaconda3/envs/pytorch_p38/lib/python3.8/site-packages (from boto3>=1.14.12->sagemaker==1.72.0) (0.10.0)\n",
      "Collecting botocore<1.28.0,>=1.27.90\n",
      "  Downloading botocore-1.27.96-py3-none-any.whl (9.3 MB)\n",
      "\u001b[2K     \u001b[90m━━━━━━━━━━━━━━━━━━━━━━━━━━━━━━━━━━━━━━━━\u001b[0m \u001b[32m9.3/9.3 MB\u001b[0m \u001b[31m68.1 MB/s\u001b[0m eta \u001b[36m0:00:00\u001b[0m:00:01\u001b[0m00:01\u001b[0m\n",
      "\u001b[?25hRequirement already satisfied: s3transfer<0.7.0,>=0.6.0 in /home/ec2-user/anaconda3/envs/pytorch_p38/lib/python3.8/site-packages (from boto3>=1.14.12->sagemaker==1.72.0) (0.6.0)\n",
      "Requirement already satisfied: zipp>=0.5 in /home/ec2-user/anaconda3/envs/pytorch_p38/lib/python3.8/site-packages (from importlib-metadata>=1.4.0->sagemaker==1.72.0) (3.6.0)\n",
      "Requirement already satisfied: pyparsing!=3.0.5,>=2.0.2 in /home/ec2-user/anaconda3/envs/pytorch_p38/lib/python3.8/site-packages (from packaging>=20.0->sagemaker==1.72.0) (3.0.6)\n",
      "Requirement already satisfied: six in /home/ec2-user/anaconda3/envs/pytorch_p38/lib/python3.8/site-packages (from protobuf3-to-dict>=0.1.5->sagemaker==1.72.0) (1.16.0)\n",
      "Requirement already satisfied: python-dateutil<3.0.0,>=2.1 in /home/ec2-user/anaconda3/envs/pytorch_p38/lib/python3.8/site-packages (from botocore<1.28.0,>=1.27.90->boto3>=1.14.12->sagemaker==1.72.0) (2.8.2)\n",
      "Requirement already satisfied: urllib3<1.27,>=1.25.4 in /home/ec2-user/anaconda3/envs/pytorch_p38/lib/python3.8/site-packages (from botocore<1.28.0,>=1.27.90->boto3>=1.14.12->sagemaker==1.72.0) (1.26.8)\n",
      "Building wheels for collected packages: sagemaker\n",
      "  Building wheel for sagemaker (setup.py) ... \u001b[?25ldone\n",
      "\u001b[?25h  Created wheel for sagemaker: filename=sagemaker-1.72.0-py2.py3-none-any.whl size=386379 sha256=23106ad60d8c7e7bb72b9408380b97257bf1bc5fdd0de8a0e6f5a7efbba82e25\n",
      "  Stored in directory: /home/ec2-user/.cache/pip/wheels/86/0e/1f/7c255f46c88da77dc4d0145188d39efda49e7e69fa9d320edf\n",
      "Successfully built sagemaker\n",
      "Installing collected packages: smdebug-rulesconfig, botocore, sagemaker\n",
      "  Attempting uninstall: smdebug-rulesconfig\n",
      "    Found existing installation: smdebug-rulesconfig 1.0.1\n",
      "    Uninstalling smdebug-rulesconfig-1.0.1:\n",
      "      Successfully uninstalled smdebug-rulesconfig-1.0.1\n",
      "  Attempting uninstall: botocore\n",
      "    Found existing installation: botocore 1.24.19\n",
      "    Uninstalling botocore-1.24.19:\n",
      "      Successfully uninstalled botocore-1.24.19\n",
      "  Attempting uninstall: sagemaker\n",
      "    Found existing installation: sagemaker 2.112.2\n",
      "    Uninstalling sagemaker-2.112.2:\n",
      "      Successfully uninstalled sagemaker-2.112.2\n",
      "\u001b[31mERROR: pip's dependency resolver does not currently take into account all the packages that are installed. This behaviour is the source of the following dependency conflicts.\n",
      "awscli 1.25.91 requires botocore==1.27.90, but you have botocore 1.27.96 which is incompatible.\n",
      "aiobotocore 2.0.1 requires botocore<1.22.9,>=1.22.8, but you have botocore 1.27.96 which is incompatible.\u001b[0m\u001b[31m\n",
      "\u001b[0mSuccessfully installed botocore-1.27.96 sagemaker-1.72.0 smdebug-rulesconfig-0.1.4\n",
      "\u001b[33mWARNING: You are using pip version 22.0.4; however, version 22.3 is available.\n",
      "You should consider upgrading via the '/home/ec2-user/anaconda3/envs/pytorch_p38/bin/python -m pip install --upgrade pip' command.\u001b[0m\u001b[33m\n",
      "\u001b[0m"
     ]
    }
   ],
   "source": [
    "# Make sure that we use SageMaker 1.x\n",
    "!pip install sagemaker==1.72.0"
   ]
  },
  {
   "cell_type": "markdown",
   "metadata": {},
   "source": [
    "## Step 1: Downloading the data\n",
    "\n",
    "As in the XGBoost in SageMaker notebook, we will be using the [IMDb dataset](http://ai.stanford.edu/~amaas/data/sentiment/)\n",
    "\n",
    "> Maas, Andrew L., et al. [Learning Word Vectors for Sentiment Analysis](http://ai.stanford.edu/~amaas/data/sentiment/). In _Proceedings of the 49th Annual Meeting of the Association for Computational Linguistics: Human Language Technologies_. Association for Computational Linguistics, 2011."
   ]
  },
  {
   "cell_type": "code",
   "execution_count": 2,
   "metadata": {},
   "outputs": [
    {
     "name": "stdout",
     "output_type": "stream",
     "text": [
      "--2022-10-26 14:06:27--  http://ai.stanford.edu/~amaas/data/sentiment/aclImdb_v1.tar.gz\n",
      "Resolving ai.stanford.edu (ai.stanford.edu)... 171.64.68.10\n",
      "Connecting to ai.stanford.edu (ai.stanford.edu)|171.64.68.10|:80... connected.\n",
      "HTTP request sent, awaiting response... 200 OK\n",
      "Length: 84125825 (80M) [application/x-gzip]\n",
      "Saving to: ‘../data/aclImdb_v1.tar.gz’\n",
      "\n",
      "100%[======================================>] 84,125,825  22.2MB/s   in 5.0s   \n",
      "\n",
      "2022-10-26 14:06:32 (16.0 MB/s) - ‘../data/aclImdb_v1.tar.gz’ saved [84125825/84125825]\n",
      "\n"
     ]
    }
   ],
   "source": [
    "%mkdir ../data\n",
    "!wget -O ../data/aclImdb_v1.tar.gz http://ai.stanford.edu/~amaas/data/sentiment/aclImdb_v1.tar.gz\n",
    "!tar -zxf ../data/aclImdb_v1.tar.gz -C ../data"
   ]
  },
  {
   "cell_type": "markdown",
   "metadata": {},
   "source": [
    "## Step 2: Preparing and Processing the data\n",
    "\n",
    "Also, as in the XGBoost notebook, we will be doing some initial data processing. The first few steps are the same as in the XGBoost example. To begin with, we will read in each of the reviews and combine them into a single input structure. Then, we will split the dataset into a training set and a testing set."
   ]
  },
  {
   "cell_type": "code",
   "execution_count": 3,
   "metadata": {},
   "outputs": [],
   "source": [
    "import os\n",
    "import glob\n",
    "\n",
    "def read_imdb_data(data_dir='../data/aclImdb'):\n",
    "    data = {}\n",
    "    labels = {}\n",
    "    \n",
    "    for data_type in ['train', 'test']:\n",
    "        data[data_type] = {}\n",
    "        labels[data_type] = {}\n",
    "        \n",
    "        for sentiment in ['pos', 'neg']:\n",
    "            data[data_type][sentiment] = []\n",
    "            labels[data_type][sentiment] = []\n",
    "            \n",
    "            path = os.path.join(data_dir, data_type, sentiment, '*.txt')\n",
    "            files = glob.glob(path)\n",
    "            \n",
    "            for f in files:\n",
    "                with open(f) as review:\n",
    "                    data[data_type][sentiment].append(review.read())\n",
    "                    # Here we represent a positive review by '1' and a negative review by '0'\n",
    "                    labels[data_type][sentiment].append(1 if sentiment == 'pos' else 0)\n",
    "                    \n",
    "            assert len(data[data_type][sentiment]) == len(labels[data_type][sentiment]), \\\n",
    "                    \"{}/{} data size does not match labels size\".format(data_type, sentiment)\n",
    "                \n",
    "    return data, labels"
   ]
  },
  {
   "cell_type": "code",
   "execution_count": 4,
   "metadata": {},
   "outputs": [
    {
     "name": "stdout",
     "output_type": "stream",
     "text": [
      "IMDB reviews: train = 12500 pos / 12500 neg, test = 12500 pos / 12500 neg\n"
     ]
    }
   ],
   "source": [
    "data, labels = read_imdb_data()\n",
    "print(\"IMDB reviews: train = {} pos / {} neg, test = {} pos / {} neg\".format(\n",
    "            len(data['train']['pos']), len(data['train']['neg']),\n",
    "            len(data['test']['pos']), len(data['test']['neg'])))"
   ]
  },
  {
   "cell_type": "markdown",
   "metadata": {},
   "source": [
    "Now that we've read the raw training and testing data from the downloaded dataset, we will combine the positive and negative reviews and shuffle the resulting records."
   ]
  },
  {
   "cell_type": "code",
   "execution_count": 5,
   "metadata": {},
   "outputs": [],
   "source": [
    "from sklearn.utils import shuffle\n",
    "\n",
    "def prepare_imdb_data(data, labels):\n",
    "    \"\"\"Prepare training and test sets from IMDb movie reviews.\"\"\"\n",
    "    \n",
    "    #Combine positive and negative reviews and labels\n",
    "    data_train = data['train']['pos'] + data['train']['neg']\n",
    "    data_test = data['test']['pos'] + data['test']['neg']\n",
    "    labels_train = labels['train']['pos'] + labels['train']['neg']\n",
    "    labels_test = labels['test']['pos'] + labels['test']['neg']\n",
    "    \n",
    "    #Shuffle reviews and corresponding labels within training and test sets\n",
    "    data_train, labels_train = shuffle(data_train, labels_train)\n",
    "    data_test, labels_test = shuffle(data_test, labels_test)\n",
    "    \n",
    "    # Return a unified training data, test data, training labels, test labets\n",
    "    return data_train, data_test, labels_train, labels_test"
   ]
  },
  {
   "cell_type": "code",
   "execution_count": 6,
   "metadata": {},
   "outputs": [
    {
     "name": "stdout",
     "output_type": "stream",
     "text": [
      "IMDb reviews (combined): train = 25000, test = 25000\n"
     ]
    }
   ],
   "source": [
    "train_X, test_X, train_y, test_y = prepare_imdb_data(data, labels)\n",
    "print(\"IMDb reviews (combined): train = {}, test = {}\".format(len(train_X), len(test_X)))"
   ]
  },
  {
   "cell_type": "markdown",
   "metadata": {},
   "source": [
    "Now that we have our training and testing sets unified and prepared, we should do a quick check and see an example of the data our model will be trained on. This is generally a good idea as it allows you to see how each of the further processing steps affects the reviews and it also ensures that the data has been loaded correctly."
   ]
  },
  {
   "cell_type": "code",
   "execution_count": 7,
   "metadata": {},
   "outputs": [
    {
     "name": "stdout",
     "output_type": "stream",
     "text": [
      "Hayao Miyazaki name became prominent with Spitied Away, however what is often overlooked are director's first film efforts. Who remembers that Spielberg directed Duel or George Lucas directed THX 1138? I remember seeing fragments of this movie - almost certainly the last 45 minutes in late 80s and what stuck with me was the visual lushness of the design and animation. So when I found a copy in a well known store for £9 I couldn't resist but buy it. The odd thing is that the last 45 minutes of the movie do not tally with my memory of it (memory is funny that way).<br /><br />Viewing this movie now with all the gained knowledge of artists portfolios is how very like Jean 'Moebius' Giraud some of the artwork is. I can only assume some influence here.<br /><br />When Pazu catches a falling girl (Sheeta) his adventure really begins - the quest for Laputa - a reference to Jonathan Swift's overlooked portion of Gulliver's Travels. With healthy references to Jules Verne it's a basic good vs. bad chase movie with the final portion having the heroes end up on Laputa.<br /><br />This is the portion that is strongest in my memory - the 'pastoral' ecological aspect of Laputa returned to nature - the multitude of robots covered in moss beneath the giant tree. This is, in my opinion, the highlight of the movie - the views of the surface of Laputa, as opposed to the mechanised underground.<br /><br />Although this is the dichotomy of this movie - to show that even technology cannot overcome nature - the irony of the last robot tending the garden and animals. The ending of the movie Silent Running is almost exactly the same.<br /><br />It is incredibly stylish, I would not say 'slick' - very beautiful and organic and a tremendous amount of detail in the buildings, airships and the design and look of just about everything.<br /><br />Myazaki is a true master of this kind of Japnanese anime. Buy this movie and treasure it.\n",
      "1\n"
     ]
    }
   ],
   "source": [
    "print(train_X[100])\n",
    "print(train_y[100])"
   ]
  },
  {
   "cell_type": "markdown",
   "metadata": {},
   "source": [
    "The first step in processing the reviews is to make sure that any html tags that appear should be removed. In addition we wish to tokenize our input, that way words such as *entertained* and *entertaining* are considered the same with regard to sentiment analysis."
   ]
  },
  {
   "cell_type": "code",
   "execution_count": 8,
   "metadata": {},
   "outputs": [
    {
     "name": "stdout",
     "output_type": "stream",
     "text": [
      "Looking in indexes: https://pypi.org/simple, https://pip.repos.neuron.amazonaws.com\n",
      "Requirement already satisfied: nltk in /home/ec2-user/anaconda3/envs/pytorch_p38/lib/python3.8/site-packages (3.6.5)\n",
      "Requirement already satisfied: regex>=2021.8.3 in /home/ec2-user/anaconda3/envs/pytorch_p38/lib/python3.8/site-packages (from nltk) (2021.11.10)\n",
      "Requirement already satisfied: joblib in /home/ec2-user/anaconda3/envs/pytorch_p38/lib/python3.8/site-packages (from nltk) (1.1.0)\n",
      "Requirement already satisfied: tqdm in /home/ec2-user/anaconda3/envs/pytorch_p38/lib/python3.8/site-packages (from nltk) (4.62.3)\n",
      "Requirement already satisfied: click in /home/ec2-user/anaconda3/envs/pytorch_p38/lib/python3.8/site-packages (from nltk) (8.0.3)\n",
      "\u001b[33mWARNING: You are using pip version 22.0.4; however, version 22.3 is available.\n",
      "You should consider upgrading via the '/home/ec2-user/anaconda3/envs/pytorch_p38/bin/python -m pip install --upgrade pip' command.\u001b[0m\u001b[33m\n",
      "\u001b[0m"
     ]
    }
   ],
   "source": [
    "!pip install nltk\n",
    "\n",
    "import nltk\n",
    "from nltk.corpus import stopwords\n",
    "from nltk.stem.porter import *\n",
    "\n",
    "import re\n",
    "from bs4 import BeautifulSoup\n",
    "\n",
    "def review_to_words(review):\n",
    "    nltk.download(\"stopwords\", quiet=True)\n",
    "    stemmer = PorterStemmer()\n",
    "    \n",
    "    text = BeautifulSoup(review, \"html.parser\").get_text() # Remove HTML tags\n",
    "    text = re.sub(r\"[^a-zA-Z0-9]\", \" \", text.lower()) # Convert to lower case\n",
    "    words = text.split() # Split string into words\n",
    "    words = [w for w in words if w not in stopwords.words(\"english\")] # Remove stopwords\n",
    "    words = [PorterStemmer().stem(w) for w in words] # stem\n",
    "    \n",
    "    return words"
   ]
  },
  {
   "cell_type": "markdown",
   "metadata": {},
   "source": [
    "The `review_to_words` method defined above uses `BeautifulSoup` to remove any html tags that appear and uses the `nltk` package to tokenize the reviews. As a check to ensure we know how everything is working, try applying `review_to_words` to one of the reviews in the training set."
   ]
  },
  {
   "cell_type": "code",
   "execution_count": 9,
   "metadata": {},
   "outputs": [
    {
     "name": "stdout",
     "output_type": "stream",
     "text": [
      "Raw: Hayao Miyazaki name became prominent with Spitied Away, however what is often overlooked are director's first film efforts. Who remembers that Spielberg directed Duel or George Lucas directed THX 1138? I remember seeing fragments of this movie - almost certainly the last 45 minutes in late 80s and what stuck with me was the visual lushness of the design and animation. So when I found a copy in a well known store for £9 I couldn't resist but buy it. The odd thing is that the last 45 minutes of the movie do not tally with my memory of it (memory is funny that way).<br /><br />Viewing this movie now with all the gained knowledge of artists portfolios is how very like Jean 'Moebius' Giraud some of the artwork is. I can only assume some influence here.<br /><br />When Pazu catches a falling girl (Sheeta) his adventure really begins - the quest for Laputa - a reference to Jonathan Swift's overlooked portion of Gulliver's Travels. With healthy references to Jules Verne it's a basic good vs. bad chase movie with the final portion having the heroes end up on Laputa.<br /><br />This is the portion that is strongest in my memory - the 'pastoral' ecological aspect of Laputa returned to nature - the multitude of robots covered in moss beneath the giant tree. This is, in my opinion, the highlight of the movie - the views of the surface of Laputa, as opposed to the mechanised underground.<br /><br />Although this is the dichotomy of this movie - to show that even technology cannot overcome nature - the irony of the last robot tending the garden and animals. The ending of the movie Silent Running is almost exactly the same.<br /><br />It is incredibly stylish, I would not say 'slick' - very beautiful and organic and a tremendous amount of detail in the buildings, airships and the design and look of just about everything.<br /><br />Myazaki is a true master of this kind of Japnanese anime. Buy this movie and treasure it.\n",
      "\n",
      "New: ['hayao', 'miyazaki', 'name', 'becam', 'promin', 'spiti', 'away', 'howev', 'often', 'overlook', 'director', 'first', 'film', 'effort', 'rememb', 'spielberg', 'direct', 'duel', 'georg', 'luca', 'direct', 'thx', '1138', 'rememb', 'see', 'fragment', 'movi', 'almost', 'certainli', 'last', '45', 'minut', 'late', '80', 'stuck', 'visual', 'lush', 'design', 'anim', 'found', 'copi', 'well', 'known', 'store', '9', 'resist', 'buy', 'odd', 'thing', 'last', '45', 'minut', 'movi', 'talli', 'memori', 'memori', 'funni', 'way', 'view', 'movi', 'gain', 'knowledg', 'artist', 'portfolio', 'like', 'jean', 'moebiu', 'giraud', 'artwork', 'assum', 'influenc', 'pazu', 'catch', 'fall', 'girl', 'sheeta', 'adventur', 'realli', 'begin', 'quest', 'laputa', 'refer', 'jonathan', 'swift', 'overlook', 'portion', 'gulliv', 'travel', 'healthi', 'refer', 'jule', 'vern', 'basic', 'good', 'vs', 'bad', 'chase', 'movi', 'final', 'portion', 'hero', 'end', 'laputa', 'portion', 'strongest', 'memori', 'pastor', 'ecolog', 'aspect', 'laputa', 'return', 'natur', 'multitud', 'robot', 'cover', 'moss', 'beneath', 'giant', 'tree', 'opinion', 'highlight', 'movi', 'view', 'surfac', 'laputa', 'oppos', 'mechanis', 'underground', 'although', 'dichotomi', 'movi', 'show', 'even', 'technolog', 'cannot', 'overcom', 'natur', 'ironi', 'last', 'robot', 'tend', 'garden', 'anim', 'end', 'movi', 'silent', 'run', 'almost', 'exactli', 'incred', 'stylish', 'would', 'say', 'slick', 'beauti', 'organ', 'tremend', 'amount', 'detail', 'build', 'airship', 'design', 'look', 'everyth', 'myazaki', 'true', 'master', 'kind', 'japnanes', 'anim', 'buy', 'movi', 'treasur']\n"
     ]
    }
   ],
   "source": [
    "# TODO: Apply review_to_words to a review (train_X[100] or any other review)\n",
    "print('Raw:', train_X[100], end='\\n\\n')\n",
    "print('New:', review_to_words(train_X[100]))"
   ]
  },
  {
   "cell_type": "markdown",
   "metadata": {},
   "source": [
    "**Question:** Above we mentioned that `review_to_words` method removes html formatting and allows us to tokenize the words found in a review, for example, converting *entertained* and *entertaining* into *entertain* so that they are treated as though they are the same word. What else, if anything, does this method do to the input?"
   ]
  },
  {
   "cell_type": "markdown",
   "metadata": {},
   "source": [
    "**Answer:** It converts all letters into lower cases, removes anything that's not number or characters, and removes stopwords"
   ]
  },
  {
   "cell_type": "markdown",
   "metadata": {},
   "source": [
    "The method below applies the `review_to_words` method to each of the reviews in the training and testing datasets. In addition it caches the results. This is because performing this processing step can take a long time. This way if you are unable to complete the notebook in the current session, you can come back without needing to process the data a second time."
   ]
  },
  {
   "cell_type": "code",
   "execution_count": 10,
   "metadata": {},
   "outputs": [],
   "source": [
    "import pickle\n",
    "\n",
    "cache_dir = os.path.join(\"../cache\", \"sentiment_analysis\")  # where to store cache files\n",
    "os.makedirs(cache_dir, exist_ok=True)  # ensure cache directory exists\n",
    "\n",
    "def preprocess_data(data_train, data_test, labels_train, labels_test,\n",
    "                    cache_dir=cache_dir, cache_file=\"preprocessed_data.pkl\"):\n",
    "    \"\"\"Convert each review to words; read from cache if available.\"\"\"\n",
    "\n",
    "    # If cache_file is not None, try to read from it first\n",
    "    cache_data = None\n",
    "    if cache_file is not None:\n",
    "        try:\n",
    "            with open(os.path.join(cache_dir, cache_file), \"rb\") as f:\n",
    "                cache_data = pickle.load(f)\n",
    "            print(\"Read preprocessed data from cache file:\", cache_file)\n",
    "        except:\n",
    "            pass  # unable to read from cache, but that's okay\n",
    "    \n",
    "    # If cache is missing, then do the heavy lifting\n",
    "    if cache_data is None:\n",
    "        # Preprocess training and test data to obtain words for each review\n",
    "        #words_train = list(map(review_to_words, data_train))\n",
    "        #words_test = list(map(review_to_words, data_test))\n",
    "        words_train = [review_to_words(review) for review in data_train]\n",
    "        words_test = [review_to_words(review) for review in data_test]\n",
    "        \n",
    "        # Write to cache file for future runs\n",
    "        if cache_file is not None:\n",
    "            cache_data = dict(words_train=words_train, words_test=words_test,\n",
    "                              labels_train=labels_train, labels_test=labels_test)\n",
    "            with open(os.path.join(cache_dir, cache_file), \"wb\") as f:\n",
    "                pickle.dump(cache_data, f)\n",
    "            print(\"Wrote preprocessed data to cache file:\", cache_file)\n",
    "    else:\n",
    "        # Unpack data loaded from cache file\n",
    "        words_train, words_test, labels_train, labels_test = (cache_data['words_train'],\n",
    "                cache_data['words_test'], cache_data['labels_train'], cache_data['labels_test'])\n",
    "    \n",
    "    return words_train, words_test, labels_train, labels_test"
   ]
  },
  {
   "cell_type": "code",
   "execution_count": 11,
   "metadata": {},
   "outputs": [
    {
     "name": "stdout",
     "output_type": "stream",
     "text": [
      "Wrote preprocessed data to cache file: preprocessed_data.pkl\n"
     ]
    }
   ],
   "source": [
    "# Preprocess data\n",
    "train_X, test_X, train_y, test_y = preprocess_data(train_X, test_X, train_y, test_y)"
   ]
  },
  {
   "cell_type": "markdown",
   "metadata": {},
   "source": [
    "## Transform the data\n",
    "\n",
    "In the XGBoost notebook we transformed the data from its word representation to a bag-of-words feature representation. For the model we are going to construct in this notebook we will construct a feature representation which is very similar. To start, we will represent each word as an integer. Of course, some of the words that appear in the reviews occur very infrequently and so likely don't contain much information for the purposes of sentiment analysis. The way we will deal with this problem is that we will fix the size of our working vocabulary and we will only include the words that appear most frequently. We will then combine all of the infrequent words into a single category and, in our case, we will label it as `1`.\n",
    "\n",
    "Since we will be using a recurrent neural network, it will be convenient if the length of each review is the same. To do this, we will fix a size for our reviews and then pad short reviews with the category 'no word' (which we will label `0`) and truncate long reviews."
   ]
  },
  {
   "cell_type": "markdown",
   "metadata": {},
   "source": [
    "### (TODO) Create a word dictionary\n",
    "\n",
    "To begin with, we need to construct a way to map words that appear in the reviews to integers. Here we fix the size of our vocabulary (including the 'no word' and 'infrequent' categories) to be `5000` but you may wish to change this to see how it affects the model.\n",
    "\n",
    "> **TODO:** Complete the implementation for the `build_dict()` method below. Note that even though the vocab_size is set to `5000`, we only want to construct a mapping for the most frequently appearing `4998` words. This is because we want to reserve the special labels `0` for 'no word' and `1` for 'infrequent word'."
   ]
  },
  {
   "cell_type": "code",
   "execution_count": 12,
   "metadata": {},
   "outputs": [],
   "source": [
    "import numpy as np\n",
    "import re\n",
    "from collections import Counter\n",
    "\n",
    "def build_dict(data, vocab_size = 5000):\n",
    "    \"\"\"Construct and return a dictionary mapping each of the most frequently appearing words to a unique integer.\"\"\"\n",
    "    \n",
    "    # TODO: Determine how often each word appears in `data`. Note that `data` is a list of sentences and that a\n",
    "    #       sentence is a list of words.\n",
    "    \n",
    "    word_counts = Counter(np.concatenate( data, axis=0 )) # A dict storing the words that appear in the reviews along with how often they occur\n",
    "    \n",
    "    # TODO: Sort the words found in `data` so that sorted_words[0] is the most frequently appearing word and\n",
    "    #       sorted_words[-1] is the least frequently appearing word.\n",
    "    \n",
    "    sorted_words = sorted(word_counts, key=word_counts.get, reverse=True)\n",
    "    \n",
    "    word_dict = {} # This is what we are building, a dictionary that translates words into integers\n",
    "    for idx, word in enumerate(sorted_words[:vocab_size - 2]): # The -2 is so that we save room for the 'no word'\n",
    "        word_dict[word] = idx + 2                              # 'infrequent' labels\n",
    "        \n",
    "    return word_dict"
   ]
  },
  {
   "cell_type": "code",
   "execution_count": 13,
   "metadata": {},
   "outputs": [
    {
     "name": "stdout",
     "output_type": "stream",
     "text": [
      "{'movi': 2, 'film': 3, 'one': 4, 'like': 5, 'time': 6, 'good': 7, 'make': 8, 'charact': 9, 'get': 10, 'see': 11, 'watch': 12, 'stori': 13, 'even': 14, 'would': 15, 'realli': 16, 'well': 17, 'scene': 18, 'look': 19, 'show': 20, 'much': 21, 'end': 22, 'peopl': 23, 'bad': 24, 'go': 25, 'great': 26, 'also': 27, 'first': 28, 'love': 29, 'think': 30, 'way': 31, 'act': 32, 'play': 33, 'made': 34, 'thing': 35, 'could': 36, 'know': 37, 'say': 38, 'seem': 39, 'work': 40, 'plot': 41, 'two': 42, 'actor': 43, 'year': 44, 'come': 45, 'mani': 46, 'seen': 47, 'take': 48, 'life': 49, 'want': 50, 'never': 51, 'littl': 52, 'best': 53, 'tri': 54, 'man': 55, 'ever': 56, 'give': 57, 'better': 58, 'still': 59, 'perform': 60, 'find': 61, 'feel': 62, 'part': 63, 'back': 64, 'use': 65, 'someth': 66, 'director': 67, 'actual': 68, 'interest': 69, 'lot': 70, 'real': 71, 'old': 72, 'cast': 73, 'though': 74, 'live': 75, 'star': 76, 'enjoy': 77, 'guy': 78, 'anoth': 79, 'new': 80, 'role': 81, 'noth': 82, '10': 83, 'funni': 84, 'music': 85, 'point': 86, 'start': 87, 'set': 88, 'girl': 89, 'origin': 90, 'day': 91, 'world': 92, 'everi': 93, 'believ': 94, 'turn': 95, 'quit': 96, 'us': 97, 'direct': 98, 'thought': 99, 'fact': 100, 'minut': 101, 'horror': 102, 'kill': 103, 'action': 104, 'comedi': 105, 'pretti': 106, 'young': 107, 'wonder': 108, 'happen': 109, 'around': 110, 'got': 111, 'effect': 112, 'right': 113, 'long': 114, 'howev': 115, 'big': 116, 'line': 117, 'famili': 118, 'enough': 119, 'seri': 120, 'may': 121, 'need': 122, 'fan': 123, 'bit': 124, 'script': 125, 'beauti': 126, 'person': 127, 'becom': 128, 'without': 129, 'must': 130, 'alway': 131, 'friend': 132, 'tell': 133, 'reason': 134, 'saw': 135, 'last': 136, 'final': 137, 'kid': 138, 'almost': 139, 'put': 140, 'least': 141, 'sure': 142, 'done': 143, 'whole': 144, 'place': 145, 'complet': 146, 'kind': 147, 'differ': 148, 'expect': 149, 'shot': 150, 'far': 151, 'mean': 152, 'anyth': 153, 'book': 154, 'laugh': 155, 'might': 156, 'name': 157, 'sinc': 158, 'begin': 159, '2': 160, 'probabl': 161, 'woman': 162, 'help': 163, 'entertain': 164, 'let': 165, 'screen': 166, 'call': 167, 'tv': 168, 'moment': 169, 'away': 170, 'read': 171, 'yet': 172, 'rather': 173, 'worst': 174, 'run': 175, 'fun': 176, 'lead': 177, 'hard': 178, 'audienc': 179, 'idea': 180, 'anyon': 181, 'episod': 182, 'american': 183, 'found': 184, 'appear': 185, 'bore': 186, 'especi': 187, 'although': 188, 'hope': 189, 'keep': 190, 'cours': 191, 'anim': 192, 'job': 193, 'goe': 194, 'move': 195, 'sens': 196, 'version': 197, 'dvd': 198, 'war': 199, 'money': 200, 'someon': 201, 'mind': 202, 'mayb': 203, 'problem': 204, 'true': 205, 'hous': 206, 'everyth': 207, 'nice': 208, 'second': 209, 'rate': 210, 'three': 211, 'night': 212, 'face': 213, 'follow': 214, 'recommend': 215, 'product': 216, 'main': 217, 'worth': 218, 'leav': 219, 'human': 220, 'special': 221, 'excel': 222, 'togeth': 223, 'wast': 224, 'everyon': 225, 'sound': 226, 'john': 227, 'hand': 228, '1': 229, 'father': 230, 'later': 231, 'eye': 232, 'said': 233, 'view': 234, 'instead': 235, 'review': 236, 'boy': 237, 'high': 238, 'hour': 239, 'miss': 240, 'classic': 241, 'talk': 242, 'wife': 243, 'understand': 244, 'left': 245, 'care': 246, 'black': 247, 'death': 248, 'open': 249, 'murder': 250, 'write': 251, 'half': 252, 'head': 253, 'rememb': 254, 'chang': 255, 'viewer': 256, 'fight': 257, 'gener': 258, 'surpris': 259, 'short': 260, 'includ': 261, 'die': 262, 'fall': 263, 'less': 264, 'els': 265, 'entir': 266, 'piec': 267, 'involv': 268, 'pictur': 269, 'simpli': 270, 'top': 271, 'home': 272, 'power': 273, 'total': 274, 'usual': 275, 'budget': 276, 'attempt': 277, 'suppos': 278, 'releas': 279, 'hollywood': 280, 'terribl': 281, 'song': 282, 'men': 283, 'possibl': 284, 'featur': 285, 'portray': 286, 'disappoint': 287, 'poor': 288, '3': 289, 'coupl': 290, 'camera': 291, 'stupid': 292, 'dead': 293, 'wrong': 294, 'produc': 295, 'low': 296, 'either': 297, 'video': 298, 'aw': 299, 'definit': 300, 'except': 301, 'rest': 302, 'given': 303, 'absolut': 304, 'women': 305, 'lack': 306, 'word': 307, 'writer': 308, 'titl': 309, 'talent': 310, 'decid': 311, 'full': 312, 'perfect': 313, 'along': 314, 'style': 315, 'close': 316, 'truli': 317, 'school': 318, 'save': 319, 'emot': 320, 'age': 321, 'sex': 322, 'next': 323, 'bring': 324, 'mr': 325, 'case': 326, 'killer': 327, 'heart': 328, 'comment': 329, 'sort': 330, 'creat': 331, 'perhap': 332, 'came': 333, 'brother': 334, 'sever': 335, 'joke': 336, 'art': 337, 'dialogu': 338, 'game': 339, 'small': 340, 'base': 341, 'flick': 342, 'written': 343, 'sequenc': 344, 'meet': 345, 'earli': 346, 'often': 347, 'other': 348, 'mother': 349, 'develop': 350, 'humor': 351, 'actress': 352, 'consid': 353, 'dark': 354, 'guess': 355, 'amaz': 356, 'unfortun': 357, 'lost': 358, 'light': 359, 'exampl': 360, 'cinema': 361, 'drama': 362, 'ye': 363, 'white': 364, 'experi': 365, 'imagin': 366, 'mention': 367, 'stop': 368, 'natur': 369, 'forc': 370, 'manag': 371, 'felt': 372, 'cut': 373, 'present': 374, 'children': 375, 'fail': 376, 'son': 377, 'car': 378, 'support': 379, 'qualiti': 380, 'ask': 381, 'hit': 382, 'side': 383, 'voic': 384, 'extrem': 385, 'impress': 386, 'evil': 387, 'wors': 388, 'stand': 389, 'went': 390, 'certainli': 391, 'basic': 392, 'oh': 393, 'overal': 394, 'favorit': 395, 'horribl': 396, 'mysteri': 397, 'number': 398, 'type': 399, 'danc': 400, 'wait': 401, 'hero': 402, 'alreadi': 403, '5': 404, 'learn': 405, 'matter': 406, '4': 407, 'michael': 408, 'genr': 409, 'fine': 410, 'despit': 411, 'throughout': 412, 'walk': 413, 'success': 414, 'histori': 415, 'question': 416, 'zombi': 417, 'town': 418, 'realiz': 419, 'relationship': 420, 'child': 421, 'past': 422, 'daughter': 423, 'late': 424, 'b': 425, 'wish': 426, 'hate': 427, 'credit': 428, 'event': 429, 'theme': 430, 'touch': 431, 'citi': 432, 'today': 433, 'sometim': 434, 'behind': 435, 'god': 436, 'twist': 437, 'sit': 438, 'deal': 439, 'annoy': 440, 'stay': 441, 'abl': 442, 'rent': 443, 'pleas': 444, 'edit': 445, 'blood': 446, 'deserv': 447, 'comic': 448, 'anyway': 449, 'appar': 450, 'soon': 451, 'gave': 452, 'etc': 453, 'level': 454, 'slow': 455, 'chanc': 456, 'score': 457, 'bodi': 458, 'brilliant': 459, 'incred': 460, 'figur': 461, 'situat': 462, 'major': 463, 'self': 464, 'stuff': 465, 'decent': 466, 'element': 467, 'return': 468, 'dream': 469, 'obvious': 470, 'continu': 471, 'order': 472, 'pace': 473, 'ridicul': 474, 'happi': 475, 'highli': 476, 'add': 477, 'group': 478, 'thank': 479, 'ladi': 480, 'novel': 481, 'speak': 482, 'pain': 483, 'career': 484, 'shoot': 485, 'strang': 486, 'heard': 487, 'sad': 488, 'polic': 489, 'husband': 490, 'import': 491, 'break': 492, 'took': 493, 'strong': 494, 'cannot': 495, 'predict': 496, 'robert': 497, 'violenc': 498, 'hilari': 499, 'recent': 500, 'countri': 501, 'known': 502, 'particularli': 503, 'pick': 504, 'documentari': 505, 'season': 506, 'critic': 507, 'jame': 508, 'compar': 509, 'alon': 510, 'obviou': 511, 'told': 512, 'state': 513, 'visual': 514, 'rock': 515, 'theater': 516, 'offer': 517, 'exist': 518, 'opinion': 519, 'gore': 520, 'crap': 521, 'hold': 522, 'result': 523, 'hear': 524, 'realiti': 525, 'room': 526, 'clich': 527, 'effort': 528, 'thriller': 529, 'caus': 530, 'explain': 531, 'sequel': 532, 'serious': 533, 'king': 534, 'local': 535, 'ago': 536, 'none': 537, 'hell': 538, 'note': 539, 'allow': 540, 'david': 541, 'sister': 542, 'simpl': 543, 'femal': 544, 'deliv': 545, 'ok': 546, 'class': 547, 'convinc': 548, 'check': 549, 'suspens': 550, 'win': 551, 'buy': 552, 'oscar': 553, 'huge': 554, 'valu': 555, 'sexual': 556, 'cool': 557, 'scari': 558, 'similar': 559, 'excit': 560, 'apart': 561, 'exactli': 562, 'provid': 563, 'avoid': 564, 'shown': 565, 'seriou': 566, 'english': 567, 'whose': 568, 'taken': 569, 'cinematographi': 570, 'shock': 571, 'polit': 572, 'spoiler': 573, 'offic': 574, 'across': 575, 'middl': 576, 'pass': 577, 'street': 578, 'messag': 579, 'somewhat': 580, 'silli': 581, 'charm': 582, 'modern': 583, 'filmmak': 584, 'confus': 585, 'form': 586, 'tale': 587, 'singl': 588, 'jack': 589, 'mostli': 590, 'carri': 591, 'william': 592, 'attent': 593, 'sing': 594, 'five': 595, 'subject': 596, 'richard': 597, 'prove': 598, 'team': 599, 'stage': 600, 'cop': 601, 'unlik': 602, 'georg': 603, 'monster': 604, 'televis': 605, 'earth': 606, 'villain': 607, 'cover': 608, 'pay': 609, 'marri': 610, 'toward': 611, 'build': 612, 'parent': 613, 'pull': 614, 'due': 615, 'respect': 616, 'fill': 617, 'four': 618, 'dialog': 619, 'remind': 620, 'futur': 621, 'typic': 622, 'weak': 623, '7': 624, 'cheap': 625, 'intellig': 626, 'atmospher': 627, 'british': 628, 'clearli': 629, '80': 630, 'non': 631, 'dog': 632, 'paul': 633, 'knew': 634, 'artist': 635, '8': 636, 'fast': 637, 'crime': 638, 'easili': 639, 'escap': 640, 'doubt': 641, 'adult': 642, 'detail': 643, 'date': 644, 'member': 645, 'fire': 646, 'romant': 647, 'gun': 648, 'drive': 649, 'straight': 650, 'beyond': 651, 'fit': 652, 'attack': 653, 'imag': 654, 'upon': 655, 'posit': 656, 'whether': 657, 'fantast': 658, 'peter': 659, 'captur': 660, 'appreci': 661, 'aspect': 662, 'ten': 663, 'plan': 664, 'discov': 665, 'remain': 666, 'near': 667, 'period': 668, 'air': 669, 'realist': 670, 'mark': 671, 'red': 672, 'dull': 673, 'adapt': 674, 'within': 675, 'spend': 676, 'lose': 677, 'color': 678, 'materi': 679, 'chase': 680, 'mari': 681, 'storylin': 682, 'forget': 683, 'bunch': 684, 'clear': 685, 'lee': 686, 'victim': 687, 'nearli': 688, 'box': 689, 'york': 690, 'inspir': 691, 'match': 692, 'mess': 693, 'finish': 694, 'standard': 695, 'easi': 696, 'truth': 697, 'suffer': 698, 'busi': 699, 'bill': 700, 'dramat': 701, 'space': 702, 'western': 703, 'e': 704, 'list': 705, 'battl': 706, 'notic': 707, 'de': 708, 'french': 709, 'ad': 710, '9': 711, 'tom': 712, 'larg': 713, 'among': 714, 'eventu': 715, 'accept': 716, 'train': 717, 'agre': 718, 'soundtrack': 719, 'spirit': 720, 'third': 721, 'teenag': 722, 'soldier': 723, 'adventur': 724, 'famou': 725, 'sorri': 726, 'drug': 727, 'suggest': 728, 'cri': 729, 'normal': 730, 'babi': 731, 'troubl': 732, 'ultim': 733, 'contain': 734, 'certain': 735, 'cultur': 736, 'romanc': 737, 'rare': 738, 'lame': 739, 'somehow': 740, 'mix': 741, 'disney': 742, 'gone': 743, 'cartoon': 744, 'student': 745, 'reveal': 746, 'fear': 747, 'kept': 748, 'suck': 749, 'attract': 750, 'appeal': 751, 'premis': 752, 'design': 753, 'greatest': 754, 'secret': 755, 'shame': 756, 'throw': 757, 'scare': 758, 'copi': 759, 'wit': 760, 'admit': 761, 'america': 762, 'brought': 763, 'relat': 764, 'particular': 765, 'screenplay': 766, 'whatev': 767, 'pure': 768, '70': 769, 'averag': 770, 'harri': 771, 'master': 772, 'describ': 773, 'male': 774, 'treat': 775, '20': 776, 'fantasi': 777, 'issu': 778, 'warn': 779, 'inde': 780, 'background': 781, 'forward': 782, 'free': 783, 'project': 784, 'memor': 785, 'japanes': 786, 'poorli': 787, 'award': 788, 'locat': 789, 'potenti': 790, 'amus': 791, 'struggl': 792, 'weird': 793, 'magic': 794, 'societi': 795, 'okay': 796, 'doctor': 797, 'accent': 798, 'imdb': 799, 'hot': 800, 'water': 801, 'dr': 802, 'express': 803, 'alien': 804, '30': 805, 'odd': 806, 'choic': 807, 'crazi': 808, 'studio': 809, 'fiction': 810, 'becam': 811, 'control': 812, 'masterpiec': 813, 'difficult': 814, 'fli': 815, 'joe': 816, 'scream': 817, 'costum': 818, 'lover': 819, 'refer': 820, 'uniqu': 821, 'remak': 822, 'girlfriend': 823, 'vampir': 824, 'prison': 825, 'execut': 826, 'wear': 827, 'jump': 828, 'wood': 829, 'unless': 830, 'creepi': 831, 'cheesi': 832, 'superb': 833, 'otherwis': 834, 'parti': 835, 'roll': 836, 'ghost': 837, 'public': 838, 'mad': 839, 'depict': 840, 'badli': 841, 'moral': 842, 'earlier': 843, 'jane': 844, 'week': 845, 'dumb': 846, 'fi': 847, 'flaw': 848, 'grow': 849, 'deep': 850, 'sci': 851, 'maker': 852, 'cat': 853, 'older': 854, 'connect': 855, 'footag': 856, 'bother': 857, 'plenti': 858, 'outsid': 859, 'stick': 860, 'gay': 861, 'catch': 862, 'co': 863, 'plu': 864, 'popular': 865, 'equal': 866, 'social': 867, 'quickli': 868, 'disturb': 869, 'perfectli': 870, 'dress': 871, '90': 872, 'era': 873, 'mistak': 874, 'lie': 875, 'ride': 876, 'previou': 877, 'combin': 878, 'concept': 879, 'band': 880, 'rich': 881, 'answer': 882, 'surviv': 883, 'front': 884, 'sweet': 885, 'christma': 886, 'insid': 887, 'concern': 888, 'bare': 889, 'eat': 890, 'beat': 891, 'ben': 892, 'listen': 893, 'c': 894, 'serv': 895, 'term': 896, 'german': 897, 'meant': 898, 'la': 899, 'hardli': 900, 'stereotyp': 901, 'law': 902, 'innoc': 903, 'desper': 904, 'memori': 905, 'promis': 906, 'cute': 907, 'intent': 908, 'steal': 909, 'inform': 910, 'variou': 911, 'brain': 912, 'post': 913, 'tone': 914, 'island': 915, 'amount': 916, 'track': 917, 'compani': 918, 'nuditi': 919, 'store': 920, 'claim': 921, '50': 922, 'hair': 923, 'flat': 924, 'land': 925, 'univers': 926, 'kick': 927, 'fairli': 928, 'scott': 929, 'danger': 930, 'player': 931, 'step': 932, 'plain': 933, 'crew': 934, 'toni': 935, 'share': 936, 'centuri': 937, 'tast': 938, 'engag': 939, 'achiev': 940, 'travel': 941, 'cold': 942, 'suit': 943, 'rip': 944, 'record': 945, 'manner': 946, 'sadli': 947, 'spot': 948, 'wrote': 949, 'tension': 950, 'fascin': 951, 'intens': 952, 'familiar': 953, 'burn': 954, 'remark': 955, 'depth': 956, 'destroy': 957, 'histor': 958, 'sleep': 959, 'purpos': 960, 'languag': 961, 'ruin': 962, 'ignor': 963, 'delight': 964, 'italian': 965, 'unbeliev': 966, 'abil': 967, 'collect': 968, 'soul': 969, 'detect': 970, 'clever': 971, 'violent': 972, 'rape': 973, 'reach': 974, 'door': 975, 'liter': 976, 'trash': 977, 'scienc': 978, 'caught': 979, 'commun': 980, 'reveng': 981, 'creatur': 982, 'trip': 983, 'approach': 984, 'fashion': 985, 'intrigu': 986, 'introduc': 987, 'paint': 988, 'skill': 989, 'channel': 990, 'complex': 991, 'camp': 992, 'christian': 993, 'extra': 994, 'hole': 995, 'immedi': 996, 'mental': 997, 'limit': 998, 'ann': 999, 'slightli': 1000, 'comput': 1001, 'million': 1002, '6': 1003, 'mere': 1004, 'conclus': 1005, 'slasher': 1006, 'imposs': 1007, 'suddenli': 1008, 'neither': 1009, 'crimin': 1010, 'teen': 1011, 'physic': 1012, 'spent': 1013, 'nation': 1014, 'respons': 1015, 'planet': 1016, 'receiv': 1017, 'fake': 1018, 'blue': 1019, 'sick': 1020, 'bizarr': 1021, 'embarrass': 1022, 'indian': 1023, '15': 1024, 'ring': 1025, 'pop': 1026, 'drop': 1027, 'drag': 1028, 'haunt': 1029, 'pointless': 1030, 'suspect': 1031, 'edg': 1032, 'search': 1033, 'handl': 1034, 'biggest': 1035, 'common': 1036, 'faith': 1037, 'arriv': 1038, 'hurt': 1039, 'technic': 1040, 'angel': 1041, 'dad': 1042, 'genuin': 1043, 'awesom': 1044, 'f': 1045, 'solid': 1046, 'focu': 1047, 'colleg': 1048, 'former': 1049, 'van': 1050, 'count': 1051, 'heavi': 1052, 'tear': 1053, 'rais': 1054, 'wall': 1055, 'younger': 1056, 'visit': 1057, 'laughabl': 1058, 'sign': 1059, 'excus': 1060, 'fair': 1061, 'cult': 1062, 'motion': 1063, 'tough': 1064, 'key': 1065, 'super': 1066, 'desir': 1067, 'addit': 1068, 'stun': 1069, 'cloth': 1070, 'exploit': 1071, 'smith': 1072, 'tortur': 1073, 'davi': 1074, 'race': 1075, 'author': 1076, 'cross': 1077, 'jim': 1078, 'focus': 1079, 'compel': 1080, 'consist': 1081, 'minor': 1082, 'chemistri': 1083, 'commit': 1084, 'pathet': 1085, 'park': 1086, 'tradit': 1087, 'obsess': 1088, 'frank': 1089, 'grade': 1090, 'asid': 1091, '60': 1092, 'brutal': 1093, 'steve': 1094, 'somewher': 1095, 'depress': 1096, 'explor': 1097, 'u': 1098, 'opportun': 1099, 'grant': 1100, 'rule': 1101, 'besid': 1102, 'honest': 1103, 'anti': 1104, 'dub': 1105, 'intend': 1106, 'trailer': 1107, 'bar': 1108, 'scientist': 1109, 'regard': 1110, 'west': 1111, 'longer': 1112, 'judg': 1113, 'decad': 1114, 'silent': 1115, 'armi': 1116, 'creativ': 1117, 'wild': 1118, 'south': 1119, 'g': 1120, 'stewart': 1121, 'draw': 1122, 'road': 1123, 'govern': 1124, 'ex': 1125, 'boss': 1126, 'practic': 1127, 'festiv': 1128, 'surprisingli': 1129, 'motiv': 1130, 'gang': 1131, 'club': 1132, 'london': 1133, 'page': 1134, 'green': 1135, 'redeem': 1136, 'aliv': 1137, 'militari': 1138, 'machin': 1139, 'display': 1140, 'idiot': 1141, 'repeat': 1142, 'thrill': 1143, 'folk': 1144, '100': 1145, 'yeah': 1146, 'nobodi': 1147, '40': 1148, 'journey': 1149, 'garbag': 1150, 'ground': 1151, 'smile': 1152, 'tire': 1153, 'mood': 1154, 'bought': 1155, 'cost': 1156, 'sam': 1157, 'stone': 1158, 'mouth': 1159, 'noir': 1160, 'terrif': 1161, 'agent': 1162, 'utterli': 1163, 'requir': 1164, 'sexi': 1165, 'honestli': 1166, 'area': 1167, 'geniu': 1168, 'report': 1169, 'investig': 1170, 'humour': 1171, 'glad': 1172, 'enter': 1173, 'serial': 1174, 'narr': 1175, 'occasion': 1176, 'passion': 1177, 'marriag': 1178, 'climax': 1179, 'studi': 1180, 'industri': 1181, 'ship': 1182, 'charli': 1183, 'nowher': 1184, 'demon': 1185, 'center': 1186, 'hors': 1187, 'loos': 1188, 'bear': 1189, 'hang': 1190, 'wow': 1191, 'graphic': 1192, 'giant': 1193, 'admir': 1194, 'send': 1195, 'damn': 1196, 'loud': 1197, 'nake': 1198, 'rel': 1199, 'subtl': 1200, 'profession': 1201, 'blow': 1202, 'bottom': 1203, 'insult': 1204, 'batman': 1205, 'kelli': 1206, 'r': 1207, 'boyfriend': 1208, 'doubl': 1209, 'initi': 1210, 'frame': 1211, 'opera': 1212, 'gem': 1213, 'drawn': 1214, 'challeng': 1215, 'church': 1216, 'cinemat': 1217, 'affect': 1218, 'nightmar': 1219, 'l': 1220, 'j': 1221, 'seek': 1222, 'fulli': 1223, 'evid': 1224, 'arm': 1225, 'essenti': 1226, 'conflict': 1227, 'wind': 1228, 'christoph': 1229, 'grace': 1230, 'henri': 1231, 'witch': 1232, 'assum': 1233, 'narrat': 1234, 'push': 1235, 'hunt': 1236, 'chri': 1237, 'wise': 1238, 'month': 1239, 'nomin': 1240, 'repres': 1241, 'hide': 1242, 'affair': 1243, 'avail': 1244, 'sceneri': 1245, 'justic': 1246, 'smart': 1247, 'thu': 1248, 'bond': 1249, 'flashback': 1250, 'interview': 1251, 'outstand': 1252, 'constantli': 1253, 'presenc': 1254, 'satisfi': 1255, 'bed': 1256, 'central': 1257, 'content': 1258, 'iron': 1259, 'sell': 1260, 'everybodi': 1261, 'gag': 1262, 'hotel': 1263, 'slowli': 1264, 'hire': 1265, 'system': 1266, 'thrown': 1267, 'adam': 1268, 'hey': 1269, 'charl': 1270, 'individu': 1271, 'mediocr': 1272, 'jone': 1273, 'allen': 1274, 'ray': 1275, 'lesson': 1276, 'billi': 1277, 'photographi': 1278, 'cameo': 1279, 'fellow': 1280, 'pari': 1281, 'strike': 1282, 'rise': 1283, 'brief': 1284, 'independ': 1285, 'absurd': 1286, 'neg': 1287, 'impact': 1288, 'phone': 1289, 'born': 1290, 'model': 1291, 'ill': 1292, 'fresh': 1293, 'angl': 1294, 'spoil': 1295, 'likabl': 1296, 'abus': 1297, 'hill': 1298, 'discuss': 1299, 'sight': 1300, 'ahead': 1301, 'photograph': 1302, 'sent': 1303, 'shine': 1304, 'blame': 1305, 'occur': 1306, 'logic': 1307, 'mainli': 1308, 'bruce': 1309, 'commerci': 1310, 'skip': 1311, 'forev': 1312, 'held': 1313, 'surround': 1314, 'teacher': 1315, 'segment': 1316, 'zero': 1317, 'blond': 1318, 'resembl': 1319, 'trap': 1320, 'satir': 1321, 'summer': 1322, 'queen': 1323, 'fool': 1324, 'ball': 1325, 'six': 1326, 'sub': 1327, 'tragedi': 1328, 'twice': 1329, 'reaction': 1330, 'pack': 1331, 'bomb': 1332, 'protagonist': 1333, 'hospit': 1334, 'will': 1335, 'mile': 1336, 'sport': 1337, 'jerri': 1338, 'trust': 1339, 'mom': 1340, 'drink': 1341, 'vote': 1342, 'encount': 1343, 'plane': 1344, 'station': 1345, 'program': 1346, 'current': 1347, 'al': 1348, 'celebr': 1349, 'martin': 1350, 'choos': 1351, 'join': 1352, 'field': 1353, 'tragic': 1354, 'lord': 1355, 'favourit': 1356, 'round': 1357, 'vision': 1358, 'jean': 1359, 'robot': 1360, 'tie': 1361, 'arthur': 1362, 'random': 1363, 'fortun': 1364, 'roger': 1365, 'psycholog': 1366, 'dread': 1367, 'intern': 1368, 'prefer': 1369, 'nonsens': 1370, 'epic': 1371, 'improv': 1372, 'legend': 1373, 'pleasur': 1374, 'highlight': 1375, 'formula': 1376, 'dollar': 1377, 'tape': 1378, '11': 1379, 'gorgeou': 1380, 'porn': 1381, 'fox': 1382, 'object': 1383, 'wide': 1384, 'thin': 1385, 'influenc': 1386, 'ugli': 1387, 'buddi': 1388, 'nasti': 1389, 'prepar': 1390, 'ii': 1391, 'reflect': 1392, 'supposedli': 1393, 'warm': 1394, 'progress': 1395, 'youth': 1396, 'worthi': 1397, 'length': 1398, 'latter': 1399, 'unusu': 1400, 'crash': 1401, 'childhood': 1402, 'seven': 1403, 'superior': 1404, 'shop': 1405, 'remot': 1406, 'theatr': 1407, 'pilot': 1408, 'disgust': 1409, 'funniest': 1410, 'paid': 1411, 'trick': 1412, 'castl': 1413, 'fell': 1414, 'convers': 1415, 'rob': 1416, 'disast': 1417, 'gangster': 1418, 'establish': 1419, 'disappear': 1420, 'suicid': 1421, 'ident': 1422, 'heaven': 1423, 'mine': 1424, 'heroin': 1425, 'forgotten': 1426, 'mask': 1427, 'singer': 1428, 'tend': 1429, 'decis': 1430, 'partner': 1431, 'brian': 1432, 'alan': 1433, 'desert': 1434, 'recogn': 1435, 'stuck': 1436, 'p': 1437, 'thoroughli': 1438, 'ms': 1439, 'sky': 1440, 'replac': 1441, 'accur': 1442, 'market': 1443, 'clue': 1444, 'uncl': 1445, 'commentari': 1446, 'eddi': 1447, 'andi': 1448, 'danni': 1449, 'seemingli': 1450, 'jackson': 1451, 'devil': 1452, 'that': 1453, 'therefor': 1454, 'refus': 1455, 'pair': 1456, 'unit': 1457, 'fate': 1458, 'river': 1459, 'accid': 1460, 'ed': 1461, 'fault': 1462, 'afraid': 1463, 'tune': 1464, 'hidden': 1465, 'russian': 1466, 'clean': 1467, 'stephen': 1468, 'captain': 1469, 'instanc': 1470, 'irrit': 1471, 'quick': 1472, 'test': 1473, 'convey': 1474, 'readi': 1475, 'european': 1476, 'daniel': 1477, 'insan': 1478, 'frustrat': 1479, 'food': 1480, '1950': 1481, 'wed': 1482, 'chines': 1483, 'rescu': 1484, 'dirti': 1485, 'lock': 1486, 'angri': 1487, 'joy': 1488, 'price': 1489, 'steven': 1490, 'bland': 1491, 'cage': 1492, 'rang': 1493, 'anymor': 1494, 'wooden': 1495, 'news': 1496, 'rush': 1497, 'jason': 1498, 'n': 1499, 'twenti': 1500, 'worri': 1501, '12': 1502, 'board': 1503, 'martial': 1504, 'led': 1505, 'transform': 1506, 'cgi': 1507, 'symbol': 1508, 'hunter': 1509, 'x': 1510, 'invent': 1511, 'onto': 1512, 'piti': 1513, 'sentiment': 1514, 'johnni': 1515, 'attitud': 1516, 'explan': 1517, 'process': 1518, 'awar': 1519, 'owner': 1520, 'aim': 1521, 'favor': 1522, 'energi': 1523, 'necessari': 1524, 'target': 1525, 'floor': 1526, 'opposit': 1527, 'religi': 1528, 'chick': 1529, 'insight': 1530, 'window': 1531, 'blind': 1532, 'movement': 1533, 'mountain': 1534, 'possess': 1535, 'comparison': 1536, 'research': 1537, 'deepli': 1538, 'whatsoev': 1539, 'grand': 1540, 'comed': 1541, 'rain': 1542, 'mid': 1543, 'shadow': 1544, 'began': 1545, 'bank': 1546, 'princ': 1547, 'parodi': 1548, 'friendship': 1549, 'credibl': 1550, 'pre': 1551, 'taylor': 1552, 'weapon': 1553, 'teach': 1554, 'flesh': 1555, 'dougla': 1556, 'bloodi': 1557, 'protect': 1558, 'hint': 1559, 'terror': 1560, 'marvel': 1561, 'drunk': 1562, 'leader': 1563, 'anybodi': 1564, 'watchabl': 1565, 'load': 1566, 'accord': 1567, 'superman': 1568, 'brown': 1569, 'freddi': 1570, 'seat': 1571, 'jeff': 1572, 'appropri': 1573, 'hitler': 1574, 'tim': 1575, 'keaton': 1576, 'unknown': 1577, 'charg': 1578, 'villag': 1579, 'knock': 1580, 'unnecessari': 1581, 'enemi': 1582, 'england': 1583, 'empti': 1584, 'media': 1585, 'craft': 1586, 'buck': 1587, 'perspect': 1588, 'dare': 1589, 'wave': 1590, 'strength': 1591, 'utter': 1592, 'contrast': 1593, 'kiss': 1594, 'correct': 1595, 'ford': 1596, 'nativ': 1597, 'nazi': 1598, 'soap': 1599, 'speed': 1600, 'distract': 1601, 'anywher': 1602, 'knowledg': 1603, 'magnific': 1604, 'chill': 1605, '1980': 1606, 'breath': 1607, 'ice': 1608, 'fred': 1609, 'mission': 1610, 'moon': 1611, 'crowd': 1612, 'jr': 1613, 'joan': 1614, 'kate': 1615, 'soft': 1616, 'frighten': 1617, '000': 1618, 'dan': 1619, 'hundr': 1620, 'dick': 1621, 'nick': 1622, 'dozen': 1623, 'radio': 1624, 'somebodi': 1625, 'simon': 1626, 'thousand': 1627, 'andrew': 1628, 'loss': 1629, 'shakespear': 1630, 'academi': 1631, 'sum': 1632, 'account': 1633, 'root': 1634, 'quot': 1635, 'vehicl': 1636, 'behavior': 1637, '1970': 1638, 'leg': 1639, 'convent': 1640, 'regular': 1641, 'gold': 1642, 'compet': 1643, 'worker': 1644, 'pretenti': 1645, 'demand': 1646, 'interpret': 1647, 'candi': 1648, 'explos': 1649, 'japan': 1650, 'privat': 1651, 'notabl': 1652, 'lynch': 1653, 'stretch': 1654, 'constant': 1655, 'debut': 1656, 'tarzan': 1657, 'spi': 1658, 'translat': 1659, 'revolv': 1660, 'sea': 1661, 'prais': 1662, 'threaten': 1663, 'franc': 1664, 'quiet': 1665, 'jesu': 1666, 'technolog': 1667, 'failur': 1668, 'ass': 1669, 'sat': 1670, 'higher': 1671, 'toy': 1672, 'aid': 1673, 'punch': 1674, 'met': 1675, 'kevin': 1676, 'interact': 1677, 'vh': 1678, 'abandon': 1679, 'mike': 1680, 'separ': 1681, 'bet': 1682, 'command': 1683, 'confront': 1684, 'gotten': 1685, 'stunt': 1686, 'servic': 1687, 'techniqu': 1688, 'belong': 1689, 'recal': 1690, 'site': 1691, 'foot': 1692, 'cabl': 1693, 'freak': 1694, 'bug': 1695, 'bright': 1696, 'capabl': 1697, 'jimmi': 1698, 'fu': 1699, 'african': 1700, 'succeed': 1701, 'stock': 1702, 'fat': 1703, 'presid': 1704, 'boat': 1705, 'clark': 1706, 'gene': 1707, 'structur': 1708, 'spanish': 1709, 'kidnap': 1710, 'paper': 1711, 'belief': 1712, 'factor': 1713, 'whilst': 1714, 'witti': 1715, 'bob': 1716, 'attend': 1717, 'educ': 1718, 'realis': 1719, 'tree': 1720, 'complic': 1721, 'realism': 1722, 'finest': 1723, 'broken': 1724, 'santa': 1725, 'assist': 1726, 'up': 1727, 'smoke': 1728, 'depart': 1729, 'determin': 1730, 'observ': 1731, 'v': 1732, 'hat': 1733, 'domin': 1734, 'routin': 1735, 'fame': 1736, 'oper': 1737, 'lewi': 1738, 'rubbish': 1739, 'lone': 1740, 'kinda': 1741, 'advanc': 1742, 'safe': 1743, 'foreign': 1744, 'hook': 1745, 'morgan': 1746, 'numer': 1747, 'rank': 1748, 'shallow': 1749, 'shape': 1750, 'civil': 1751, 'vs': 1752, 'washington': 1753, 'werewolf': 1754, 'rose': 1755, 'gari': 1756, 'morn': 1757, 'accomplish': 1758, 'winner': 1759, 'kong': 1760, 'ordinari': 1761, 'whenev': 1762, 'peac': 1763, 'virtual': 1764, 'grab': 1765, 'offens': 1766, 'luck': 1767, 'h': 1768, 'activ': 1769, 'unfunni': 1770, 'bigger': 1771, 'welcom': 1772, 'contriv': 1773, 'patient': 1774, 'complain': 1775, 'con': 1776, 'trek': 1777, 'pretend': 1778, 'dimension': 1779, 'dri': 1780, 'lesbian': 1781, 'flash': 1782, 'wake': 1783, 'code': 1784, 'cain': 1785, 'eric': 1786, 'statu': 1787, 'albert': 1788, 'dancer': 1789, 'manipul': 1790, 'corrupt': 1791, 'guard': 1792, 'sourc': 1793, 'signific': 1794, 'gain': 1795, 'speech': 1796, 'awkward': 1797, 'context': 1798, '13': 1799, 'anthoni': 1800, 'corni': 1801, 'clip': 1802, 'psycho': 1803, 'sean': 1804, 'reli': 1805, 'theatric': 1806, 'curiou': 1807, 'w': 1808, 'advic': 1809, 'priest': 1810, 'religion': 1811, 'flow': 1812, 'addict': 1813, 'secur': 1814, 'specif': 1815, 'skin': 1816, 'asian': 1817, 'jennif': 1818, 'howard': 1819, 'comfort': 1820, 'core': 1821, 'organ': 1822, 'golden': 1823, 'luke': 1824, 'promot': 1825, 'cheat': 1826, 'lucki': 1827, 'cash': 1828, 'dislik': 1829, 'lower': 1830, 'associ': 1831, 'devic': 1832, 'degre': 1833, 'wing': 1834, 'spell': 1835, 'regret': 1836, 'contribut': 1837, 'frequent': 1838, 'frankli': 1839, 'balanc': 1840, 'forgiv': 1841, 'sake': 1842, 'print': 1843, 'lake': 1844, 'mass': 1845, 'thoma': 1846, 'betti': 1847, 'crack': 1848, 'gordon': 1849, 'unexpect': 1850, 'depend': 1851, 'categori': 1852, 'construct': 1853, 'amateur': 1854, 'grown': 1855, 'unfold': 1856, 'invit': 1857, 'intellectu': 1858, 'walter': 1859, 'grew': 1860, 'condit': 1861, 'anna': 1862, 'honor': 1863, 'matur': 1864, 'spectacular': 1865, 'sole': 1866, 'sudden': 1867, 'veteran': 1868, 'mirror': 1869, 'meanwhil': 1870, 'card': 1871, 'overli': 1872, 'liner': 1873, 'experienc': 1874, 'gift': 1875, 'demonstr': 1876, 'robin': 1877, 'grip': 1878, 'freedom': 1879, 'sheriff': 1880, 'theori': 1881, 'crappi': 1882, 'circumst': 1883, 'unabl': 1884, 'subtitl': 1885, 'section': 1886, 'brilliantli': 1887, 'colour': 1888, 'oliv': 1889, 'drew': 1890, 'matt': 1891, 'pile': 1892, 'cook': 1893, 'parker': 1894, 'sheer': 1895, 'path': 1896, 'laughter': 1897, 'altern': 1898, 'sinatra': 1899, 'relief': 1900, 'treatment': 1901, 'lawyer': 1902, 'wander': 1903, 'defin': 1904, 'accident': 1905, 'hall': 1906, 'hank': 1907, 'captiv': 1908, 'dragon': 1909, 'gratuit': 1910, 'halloween': 1911, 'moor': 1912, 'wound': 1913, 'wayn': 1914, 'barbara': 1915, 'jacki': 1916, 'kung': 1917, 'cowboy': 1918, 'unintent': 1919, 'k': 1920, 'broadway': 1921, 'canadian': 1922, 'statement': 1923, 'surreal': 1924, 'spoof': 1925, 'winter': 1926, 'cheer': 1927, 'gonna': 1928, 'fare': 1929, 'treasur': 1930, 'compos': 1931, 'fish': 1932, 'emerg': 1933, 'unrealist': 1934, 'sensit': 1935, 'victor': 1936, 'woodi': 1937, 'driven': 1938, 'neighbor': 1939, 'sympathet': 1940, 'ran': 1941, 'topic': 1942, 'overlook': 1943, 'menac': 1944, 'glass': 1945, 'authent': 1946, 'expos': 1947, 'gross': 1948, 'handsom': 1949, 'ancient': 1950, 'michel': 1951, 'chief': 1952, 'comedian': 1953, 'cinderella': 1954, 'feet': 1955, 'russel': 1956, 'stranger': 1957, 'network': 1958, 'pleasant': 1959, 'nevertheless': 1960, 'contemporari': 1961, 'built': 1962, 'blockbust': 1963, 'gori': 1964, 'letter': 1965, 'consider': 1966, 'miser': 1967, 'underr': 1968, 'earn': 1969, 'endless': 1970, 'solv': 1971, 'switch': 1972, 'brook': 1973, 'virgin': 1974, 'victoria': 1975, 'bullet': 1976, 'edward': 1977, 'convict': 1978, 'joseph': 1979, 'chosen': 1980, 'scale': 1981, 'scenario': 1982, '0': 1983, 'cynic': 1984, 'alex': 1985, 'curs': 1986, 'gut': 1987, 'sword': 1988, 'com': 1989, 'outrag': 1990, 'driver': 1991, 'monkey': 1992, 'wrap': 1993, 'screenwrit': 1994, 'substanc': 1995, 'proper': 1996, 'uk': 1997, 'juli': 1998, 'court': 1999, 'par': 2000, 'indic': 2001, 'bird': 2002, 'remov': 2003, 'roy': 2004, 'loser': 2005, 'grave': 2006, 'rental': 2007, 'inevit': 2008, 'naiv': 2009, 'consequ': 2010, 'advertis': 2011, 'nanci': 2012, 'bridg': 2013, 'le': 2014, 'slap': 2015, 'brave': 2016, 'invis': 2017, 'germani': 2018, 'fatal': 2019, 'footbal': 2020, 'loui': 2021, 'anger': 2022, 'provok': 2023, 'ador': 2024, 'anderson': 2025, 'alcohol': 2026, 'chan': 2027, 'stumbl': 2028, 'ryan': 2029, 'willi': 2030, 'professor': 2031, 'patrick': 2032, '1930': 2033, 'bat': 2034, 'sharp': 2035, 'australian': 2036, 'assassin': 2037, 'liber': 2038, 'amateurish': 2039, 'trilog': 2040, 'refresh': 2041, 'lousi': 2042, 'heck': 2043, 'ape': 2044, 'strongli': 2045, 'cell': 2046, 'deni': 2047, 'saturday': 2048, 'eight': 2049, 'sin': 2050, 'vagu': 2051, 'resid': 2052, 'justifi': 2053, 'san': 2054, 'mini': 2055, 'terrifi': 2056, 'sympathi': 2057, 'creator': 2058, 'defeat': 2059, 'indi': 2060, 'reput': 2061, 'task': 2062, 'expert': 2063, 'tediou': 2064, 'tabl': 2065, 'prevent': 2066, 'endur': 2067, 'imit': 2068, 'basebal': 2069, 'trial': 2070, 'offend': 2071, 'rival': 2072, 'employ': 2073, 'che': 2074, 'fairi': 2075, 'europ': 2076, 'max': 2077, 'beach': 2078, 'pitch': 2079, 'weekend': 2080, 'dig': 2081, 'complaint': 2082, 'format': 2083, 'risk': 2084, 'murphi': 2085, 'purchas': 2086, 'tini': 2087, 'titan': 2088, 'harsh': 2089, 'bite': 2090, 'powel': 2091, 'reminisc': 2092, 'glimps': 2093, 'hype': 2094, 'nois': 2095, 'till': 2096, 'fals': 2097, 'asleep': 2098, '14': 2099, 'north': 2100, 'strip': 2101, 'prime': 2102, 'texa': 2103, 'destruct': 2104, 'revel': 2105, 'descript': 2106, 'africa': 2107, 'uninterest': 2108, 'semi': 2109, 'sitcom': 2110, 'surfac': 2111, 'arrest': 2112, 'inner': 2113, 'spin': 2114, 'excess': 2115, 'massiv': 2116, 'makeup': 2117, 'controversi': 2118, 'hitchcock': 2119, 'dinosaur': 2120, 'twin': 2121, 'argu': 2122, 'maintain': 2123, 'reject': 2124, 'kim': 2125, 'melodrama': 2126, 'expens': 2127, 'stare': 2128, 'insist': 2129, 'ludicr': 2130, 'ideal': 2131, 'subplot': 2132, 'press': 2133, 'ga': 2134, 'supernatur': 2135, 'host': 2136, 'nail': 2137, 'erot': 2138, 'forest': 2139, 'atroci': 2140, 'columbo': 2141, 'ala': 2142, 'identifi': 2143, 'cant': 2144, 'notch': 2145, 'presum': 2146, 'dude': 2147, 'crude': 2148, 'forgett': 2149, 'closer': 2150, 'character': 2151, 'method': 2152, 'guest': 2153, 'plagu': 2154, 'landscap': 2155, 'princess': 2156, 'beast': 2157, 'border': 2158, 'ear': 2159, 'foster': 2160, 'lion': 2161, 'aunt': 2162, 'bound': 2163, 'jungl': 2164, 'storytel': 2165, 'previous': 2166, 'accus': 2167, 'pacino': 2168, 'damag': 2169, 'birth': 2170, 'urban': 2171, 'chose': 2172, 'propaganda': 2173, 'emma': 2174, 'jess': 2175, 'nude': 2176, 'guid': 2177, 'thirti': 2178, 'doll': 2179, '25': 2180, 'warrior': 2181, 'mainstream': 2182, 'whoever': 2183, 'pet': 2184, 'mate': 2185, 'size': 2186, 'exact': 2187, 'upset': 2188, 'poster': 2189, 'deadli': 2190, 'merit': 2191, 'gritti': 2192, 'latest': 2193, 'cooper': 2194, 'friday': 2195, 'corps': 2196, 'rough': 2197, 'warner': 2198, '1990': 2199, 'wilson': 2200, 'buff': 2201, 'blend': 2202, 'contact': 2203, 'sun': 2204, 'popul': 2205, 'contest': 2206, 'ton': 2207, 'citizen': 2208, 'settl': 2209, 'mgm': 2210, 'overcom': 2211, 'alic': 2212, 'metal': 2213, 'select': 2214, 'bu': 2215, 'environ': 2216, 'widow': 2217, 'pitt': 2218, 'rat': 2219, 'lift': 2220, 'guilti': 2221, 'ted': 2222, 'revolut': 2223, 'particip': 2224, 'link': 2225, 'afternoon': 2226, '1960': 2227, 'moron': 2228, 'exagger': 2229, 'corner': 2230, 'johnson': 2231, 'accompani': 2232, 'matrix': 2233, 'prostitut': 2234, 'corpor': 2235, 'hood': 2236, 'multipl': 2237, 'leagu': 2238, 'clair': 2239, 'doom': 2240, 'friendli': 2241, 'instal': 2242, 'sincer': 2243, 'holm': 2244, 'lugosi': 2245, 'aka': 2246, 'grim': 2247, 'irish': 2248, 'defend': 2249, 'string': 2250, 'hip': 2251, 'campi': 2252, 'sunday': 2253, 'examin': 2254, 'junk': 2255, 'blah': 2256, 'advis': 2257, 'tight': 2258, 'pro': 2259, 'confid': 2260, 'varieti': 2261, 'icon': 2262, 'shake': 2263, 'rachel': 2264, 'shut': 2265, 'denni': 2266, 'goal': 2267, 'jaw': 2268, 'medic': 2269, 'attach': 2270, 'directli': 2271, 'mexican': 2272, 'sullivan': 2273, 'breast': 2274, 'courag': 2275, 'sarah': 2276, 'terrorist': 2277, 'dean': 2278, 'vietnam': 2279, 'legendari': 2280, 'sentenc': 2281, 'truck': 2282, 'duke': 2283, 'prior': 2284, 'bourn': 2285, 'entri': 2286, 'donald': 2287, 'nose': 2288, 'yell': 2289, 'split': 2290, 'un': 2291, 'hong': 2292, 'behav': 2293, 'proceed': 2294, 'buri': 2295, 'unconvinc': 2296, 'stolen': 2297, 'gather': 2298, 'crush': 2299, 'lifetim': 2300, 'forth': 2301, 'everywher': 2302, 'concentr': 2303, 'jerk': 2304, 'swim': 2305, 'confess': 2306, 'borrow': 2307, 'turkey': 2308, 'pan': 2309, 'spite': 2310, 'lip': 2311, 'california': 2312, 'deliveri': 2313, 'julia': 2314, 'hoffman': 2315, 'downright': 2316, 'quest': 2317, 'freeman': 2318, 'china': 2319, 'reward': 2320, 'flight': 2321, 'proud': 2322, 'offici': 2323, 'jail': 2324, 'fabul': 2325, 'encourag': 2326, 'sir': 2327, 'sink': 2328, 'worthwhil': 2329, 'notori': 2330, 'fade': 2331, 'inept': 2332, 'betray': 2333, 'lazi': 2334, 'jon': 2335, 'bag': 2336, 'storm': 2337, 'lisa': 2338, 'relev': 2339, 'bell': 2340, 'retard': 2341, 'survivor': 2342, 'teeth': 2343, 'branagh': 2344, 'susan': 2345, 'shower': 2346, 'imageri': 2347, 'cousin': 2348, 'bride': 2349, 'finger': 2350, 'facial': 2351, 'stab': 2352, 'alright': 2353, 'tremend': 2354, 'mexico': 2355, 'trade': 2356, 'summari': 2357, 'toler': 2358, 'hugh': 2359, 'quirki': 2360, 'shark': 2361, 'blown': 2362, 'bitter': 2363, 'hyster': 2364, 'pose': 2365, 'ha': 2366, 'von': 2367, 'scheme': 2368, 'afterward': 2369, 'bone': 2370, 'ron': 2371, 'cruel': 2372, 'larri': 2373, 'ned': 2374, 'christ': 2375, 'address': 2376, 'traci': 2377, 'feed': 2378, 'tour': 2379, 'distinct': 2380, 'screw': 2381, 'swear': 2382, 'snake': 2383, 'pursu': 2384, 'thumb': 2385, 'beg': 2386, 'raw': 2387, 'obscur': 2388, 'stomach': 2389, 'occas': 2390, 'photo': 2391, 'mechan': 2392, 'chair': 2393, 'chain': 2394, 'render': 2395, 'heavili': 2396, 'gruesom': 2397, 'resist': 2398, 'necessarili': 2399, 'cabin': 2400, 'sidney': 2401, 'holiday': 2402, 'argument': 2403, 'southern': 2404, 'hardi': 2405, 'philip': 2406, 'indulg': 2407, 'understood': 2408, 'racist': 2409, 'india': 2410, 'satan': 2411, 'outfit': 2412, 'lay': 2413, 'pregnant': 2414, 'integr': 2415, 'tongu': 2416, 'forgot': 2417, 'fourth': 2418, 'obnoxi': 2419, 'midnight': 2420, 'belov': 2421, 'stalk': 2422, '17': 2423, 'inhabit': 2424, 'magazin': 2425, 'garden': 2426, 'carol': 2427, 'ticket': 2428, 'deeper': 2429, 'restor': 2430, 'slapstick': 2431, 'incid': 2432, 'shoe': 2433, 'brad': 2434, 'devot': 2435, 'lincoln': 2436, 'divorc': 2437, 'sandler': 2438, 'elizabeth': 2439, 'guarante': 2440, 'maria': 2441, 'disbelief': 2442, 'underground': 2443, 'anticip': 2444, 'lili': 2445, 'benefit': 2446, 'bbc': 2447, 'cring': 2448, 'explod': 2449, 'creation': 2450, 'amazingli': 2451, 'capit': 2452, 'mildli': 2453, 'princip': 2454, 'slave': 2455, 'greater': 2456, 'introduct': 2457, 'funnier': 2458, 'lesli': 2459, 'halfway': 2460, 'extraordinari': 2461, 'extent': 2462, 'text': 2463, 'wreck': 2464, 'tap': 2465, 'punish': 2466, 'transfer': 2467, 'advantag': 2468, 'enhanc': 2469, 'overwhelm': 2470, 'dynam': 2471, 'deliber': 2472, 'jessica': 2473, 'error': 2474, 'preview': 2475, 'east': 2476, 'horrif': 2477, 'plant': 2478, 'lane': 2479, 'lo': 2480, '2000': 2481, 'ensu': 2482, 'vincent': 2483, 'appli': 2484, 'vacat': 2485, 'sophist': 2486, 'homosexu': 2487, 'miscast': 2488, 'basi': 2489, 'miller': 2490, 'bollywood': 2491, 'spoken': 2492, 'reed': 2493, 'mansion': 2494, 'steel': 2495, 'measur': 2496, 'sleazi': 2497, 'extend': 2498, 'via': 2499, 'uncomfort': 2500, 'elev': 2501, 'mous': 2502, 'overact': 2503, 'breathtak': 2504, 'goofi': 2505, 'savag': 2506, 'fix': 2507, 'beer': 2508, 'hippi': 2509, 'dentist': 2510, 'alter': 2511, 'conceiv': 2512, 'assign': 2513, 'blair': 2514, 'stanley': 2515, 'cathol': 2516, 'daili': 2517, 'melt': 2518, 'inspector': 2519, 'nowaday': 2520, 'oppos': 2521, 'sacrific': 2522, 'subsequ': 2523, 'properli': 2524, 'succe': 2525, 'everyday': 2526, 'carpent': 2527, 'burt': 2528, 'circl': 2529, 'laura': 2530, 'massacr': 2531, 'block': 2532, 'neck': 2533, 'lesser': 2534, 'mob': 2535, 'concert': 2536, 'pool': 2537, 'fallen': 2538, 'seagal': 2539, 'fay': 2540, 'portrait': 2541, 'access': 2542, 'christi': 2543, 'grey': 2544, 'usa': 2545, 'relax': 2546, 'competit': 2547, 'jewish': 2548, 'react': 2549, 'chees': 2550, 'sinist': 2551, 'jake': 2552, 'isol': 2553, 'lyric': 2554, 'appal': 2555, 'immens': 2556, 'stink': 2557, 'nonetheless': 2558, 'chop': 2559, 'ironi': 2560, 'spiritu': 2561, 'nine': 2562, 'creep': 2563, '2006': 2564, 'suitabl': 2565, 'rage': 2566, 'showcas': 2567, 'nut': 2568, 'franchis': 2569, 'adopt': 2570, 'luci': 2571, 'sold': 2572, 'needless': 2573, 'shirt': 2574, 'navi': 2575, 'reduc': 2576, 'user': 2577, 'retir': 2578, 'spring': 2579, 'bulli': 2580, 'zone': 2581, 'uninspir': 2582, 'jay': 2583, 'digit': 2584, 'bath': 2585, 'asham': 2586, 'stanwyck': 2587, 'per': 2588, 'nurs': 2589, '1940': 2590, 'oddli': 2591, 'upper': 2592, 'illustr': 2593, 'laid': 2594, 'sutherland': 2595, '2001': 2596, 'broadcast': 2597, 'amongst': 2598, 'fulfil': 2599, 'throat': 2600, 'stylish': 2601, 'baker': 2602, 'brando': 2603, 'aspir': 2604, 'disguis': 2605, 'neighborhood': 2606, 'wwii': 2607, 'thief': 2608, 'impli': 2609, 'em': 2610, 'endear': 2611, '18': 2612, 'pound': 2613, 'wanna': 2614, 'nobl': 2615, 'pride': 2616, 'cinematograph': 2617, 'diseas': 2618, 'shoulder': 2619, 'albeit': 2620, '16': 2621, 'dawn': 2622, 'coher': 2623, 'shift': 2624, 'prop': 2625, 'dinner': 2626, 'bett': 2627, 'bo': 2628, 'tens': 2629, 'distribut': 2630, 'rochest': 2631, 'forti': 2632, 'poignant': 2633, 'function': 2634, 'snow': 2635, 'knife': 2636, 'wash': 2637, 'shout': 2638, 'silenc': 2639, 'rebel': 2640, 'contract': 2641, 'surf': 2642, 'matthau': 2643, 'proof': 2644, 'henc': 2645, 'chuck': 2646, 'eeri': 2647, 'height': 2648, 'silver': 2649, 'cannib': 2650, 'heat': 2651, 'horrend': 2652, 'instinct': 2653, 'mindless': 2654, 'duti': 2655, 'internet': 2656, 'reunion': 2657, 'derek': 2658, 'cancel': 2659, 'widmark': 2660, 'elvira': 2661, 'pie': 2662, 'mill': 2663, 'etern': 2664, 'incoher': 2665, 'innov': 2666, 'elvi': 2667, 'spielberg': 2668, 'glori': 2669, 'greatli': 2670, 'premier': 2671, 'alik': 2672, 'neat': 2673, 'musician': 2674, 'repetit': 2675, 'torn': 2676, 'absorb': 2677, 'bang': 2678, 'diamond': 2679, 'nelson': 2680, 'itali': 2681, 'announc': 2682, 'wealthi': 2683, 'homag': 2684, 'blank': 2685, 'precis': 2686, 'lovabl': 2687, 'racism': 2688, 'horrifi': 2689, 'trite': 2690, 'crisi': 2691, 'fbi': 2692, 'burton': 2693, 'redempt': 2694, 'infam': 2695, 'britain': 2696, 'flop': 2697, 'resolut': 2698, 'happili': 2699, 'ensembl': 2700, 'helen': 2701, 'chaplin': 2702, 'parallel': 2703, 'hammer': 2704, 'dedic': 2705, 'wilder': 2706, 'pat': 2707, 'streisand': 2708, 'disagre': 2709, 'conclud': 2710, 'oil': 2711, 'broke': 2712, 'carter': 2713, 'triumph': 2714, 'plastic': 2715, 'factori': 2716, 'mar': 2717, 'st': 2718, 'cube': 2719, 'march': 2720, 'climb': 2721, 'row': 2722, 'own': 2723, 'weight': 2724, 'chuckl': 2725, 'fighter': 2726, 'vega': 2727, 'bush': 2728, 'rocket': 2729, 'thug': 2730, 'mst3k': 2731, 'dump': 2732, 'dane': 2733, 'luca': 2734, 'lust': 2735, 'kurt': 2736, 'meaning': 2737, 'unforgett': 2738, 'wherea': 2739, 'enorm': 2740, 'sensibl': 2741, 'spare': 2742, 'boot': 2743, 'fifti': 2744, 'difficulti': 2745, 'bobbi': 2746, 'brand': 2747, 'arnold': 2748, 'adequ': 2749, 'karloff': 2750, 'rap': 2751, 'butt': 2752, 'dear': 2753, 'threat': 2754, 'caricatur': 2755, 'engin': 2756, 'stress': 2757, 'homeless': 2758, 'polish': 2759, 'elabor': 2760, 'flynn': 2761, 'secretari': 2762, 'journalist': 2763, 'fest': 2764, 'ralph': 2765, 'swing': 2766, 'ego': 2767, 'arrog': 2768, 'barri': 2769, 'hamlet': 2770, 'arrang': 2771, 'unbear': 2772, 'induc': 2773, 'conspiraci': 2774, 'resort': 2775, 'float': 2776, 'fanci': 2777, 'puppet': 2778, 'grate': 2779, 'tool': 2780, 'simpson': 2781, 'spike': 2782, 'choreograph': 2783, 'phillip': 2784, 'exercis': 2785, 'tribut': 2786, 'cruis': 2787, 'boll': 2788, 'guilt': 2789, 'pig': 2790, 'basement': 2791, 'muppet': 2792, 'ward': 2793, 'ham': 2794, 'slip': 2795, 'fianc': 2796, 'tower': 2797, 'editor': 2798, 'layer': 2799, 'item': 2800, 'puzzl': 2801, 'toilet': 2802, 'babe': 2803, '24': 2804, 'file': 2805, 'medium': 2806, 'korean': 2807, 'document': 2808, 'stan': 2809, 'scarecrow': 2810, 'assur': 2811, 'superfici': 2812, 'larger': 2813, 'persona': 2814, 'spark': 2815, 'doc': 2816, 'transit': 2817, 'portion': 2818, 'philosoph': 2819, 'denzel': 2820, 'slaughter': 2821, 'glover': 2822, 'orient': 2823, 'minim': 2824, 'inexplic': 2825, 'catherin': 2826, 'territori': 2827, 'librari': 2828, 'financi': 2829, 'sneak': 2830, 'pg': 2831, 'jeremi': 2832, 'dorothi': 2833, 'shi': 2834, 'wolf': 2835, 'walken': 2836, 'owe': 2837, 'curti': 2838, 'jet': 2839, 'boredom': 2840, 'ban': 2841, 'ambigu': 2842, 'hudson': 2843, 'metaphor': 2844, 'multi': 2845, 'profound': 2846, 'backdrop': 2847, 'eleph': 2848, 'cusack': 2849, 'whale': 2850, 'ultra': 2851, 'stiff': 2852, 'hack': 2853, 'rave': 2854, 'notion': 2855, 'birthday': 2856, '2005': 2857, 'union': 2858, 'elsewher': 2859, 'viru': 2860, 'implaus': 2861, 'gadget': 2862, 'urg': 2863, 'reader': 2864, 'bibl': 2865, 'distanc': 2866, 'hawk': 2867, 'poison': 2868, 'slight': 2869, 'squar': 2870, '1st': 2871, 'disc': 2872, 'newspap': 2873, 'afford': 2874, 'pad': 2875, 'superhero': 2876, 'deriv': 2877, 'canada': 2878, 'lloyd': 2879, 'eva': 2880, 'eastwood': 2881, 'huh': 2882, 'button': 2883, 'restaur': 2884, 'charisma': 2885, 'montag': 2886, 'skit': 2887, 'essenc': 2888, 'spread': 2889, 'health': 2890, 'sadist': 2891, 'cure': 2892, 'drown': 2893, 'heston': 2894, 'fetch': 2895, 'peak': 2896, 'companion': 2897, 'dealt': 2898, 'estat': 2899, 'invest': 2900, 'gradual': 2901, 'lab': 2902, 'godfath': 2903, 'muslim': 2904, 'maniac': 2905, 'scoobi': 2906, 'cup': 2907, 'tea': 2908, 'servant': 2909, 'countless': 2910, 'gothic': 2911, 'subtleti': 2912, 'kane': 2913, 'miik': 2914, 'ritter': 2915, 'alli': 2916, 'salli': 2917, 'briefli': 2918, 'heroic': 2919, 'charismat': 2920, 'electr': 2921, 'iii': 2922, 'elect': 2923, 'reel': 2924, 'resourc': 2925, 'neil': 2926, 'ingredi': 2927, 'toss': 2928, 'grandmoth': 2929, 'tender': 2930, 'cole': 2931, 'bud': 2932, 'nuanc': 2933, 'admittedli': 2934, 'wannab': 2935, 'poverti': 2936, 'mafia': 2937, 'gate': 2938, 'mild': 2939, 'stronger': 2940, 'label': 2941, 'carrey': 2942, 'shall': 2943, 'punk': 2944, 'dawson': 2945, 'pit': 2946, 'reev': 2947, 'stood': 2948, 'kubrick': 2949, 'pauli': 2950, 'terri': 2951, 'assault': 2952, 'burst': 2953, 'updat': 2954, 'smash': 2955, 'fond': 2956, 'ian': 2957, 'smooth': 2958, 'cox': 2959, 'cardboard': 2960, 'useless': 2961, 'tag': 2962, 'easier': 2963, 'astair': 2964, 'bakshi': 2965, 'outcom': 2966, 'vulner': 2967, 'melodramat': 2968, 'sketch': 2969, 'coincid': 2970, 'qualifi': 2971, 'vari': 2972, '2002': 2973, 'divers': 2974, 'resolv': 2975, 'samurai': 2976, 'increasingli': 2977, 'rex': 2978, 'fist': 2979, 'exchang': 2980, 'blast': 2981, 'insert': 2982, 'scratch': 2983, 'luckili': 2984, 'tame': 2985, 'templ': 2986, 'conveni': 2987, 'suspend': 2988, 'reynold': 2989, 'brillianc': 2990, 'be': 2991, 'nuclear': 2992, 'walker': 2993, 'strictli': 2994, 'matthew': 2995, 'farm': 2996, 'ambiti': 2997, 'fisher': 2998, 'jami': 2999, 'seventi': 3000, 'hamilton': 3001, 'gotta': 3002, 'pin': 3003, 'soprano': 3004, 'coach': 3005, 'meat': 3006, 'monk': 3007, 'struck': 3008, 'grasp': 3009, 'ninja': 3010, 'discoveri': 3011, 'instantli': 3012, 'kudo': 3013, 'spooki': 3014, 'joey': 3015, 'eccentr': 3016, 'convolut': 3017, 'cave': 3018, 'timeless': 3019, 'closet': 3020, 'butcher': 3021, 'worthless': 3022, 'empir': 3023, 'recreat': 3024, 'revers': 3025, 'clock': 3026, 'brosnan': 3027, 'bleak': 3028, 'eighti': 3029, 'sloppi': 3030, 'clown': 3031, 'declar': 3032, 'communist': 3033, 'miracl': 3034, 'seller': 3035, 'cliff': 3036, 'partli': 3037, 'selfish': 3038, 'pal': 3039, 'wipe': 3040, 'inconsist': 3041, 'sidekick': 3042, 'importantli': 3043, 'gray': 3044, 'mitchel': 3045, 'evok': 3046, 'fifteen': 3047, 'norman': 3048, 'piano': 3049, 'enthusiast': 3050, 'chew': 3051, 'cheek': 3052, 'superbl': 3053, '45': 3054, 'websit': 3055, 'lifestyl': 3056, 'aforement': 3057, 'australia': 3058, 'psychiatrist': 3059, 'seed': 3060, 'debat': 3061, 'destin': 3062, 'flawless': 3063, 'stoog': 3064, 'farc': 3065, 'ho': 3066, 'pressur': 3067, 'incompet': 3068, 'kitchen': 3069, 'akshay': 3070, 'emili': 3071, 'splatter': 3072, 'dash': 3073, 'wrestl': 3074, 'regardless': 3075, 'abc': 3076, 'wick': 3077, 'bash': 3078, 'slice': 3079, 'drivel': 3080, 'anni': 3081, 'soviet': 3082, 'directori': 3083, 'dire': 3084, 'flower': 3085, 'artifici': 3086, 'suppli': 3087, 'cia': 3088, 'increas': 3089, 'recov': 3090, 'cameron': 3091, 'curios': 3092, 'jar': 3093, 'blob': 3094, 'ken': 3095, 'helicopt': 3096, 'distant': 3097, 'mann': 3098, 'boil': 3099, 'duo': 3100, 'dave': 3101, 'judi': 3102, 'chapter': 3103, 'seduc': 3104, 'lou': 3105, 'glow': 3106, 'pleasantli': 3107, 'prize': 3108, 'cagney': 3109, 'beaten': 3110, 'doo': 3111, 'psychot': 3112, 'craven': 3113, 'combat': 3114, 'hop': 3115, 'eleg': 3116, 'splendid': 3117, 'ellen': 3118, 'favour': 3119, 'francisco': 3120, 'drunken': 3121, 'ranger': 3122, 'craig': 3123, 'web': 3124, 'panic': 3125, 'perri': 3126, 'turner': 3127, 'laurel': 3128, 'goldberg': 3129, 'glenn': 3130, 'wizard': 3131, 'plausibl': 3132, 'gentl': 3133, 'modesti': 3134, 'greek': 3135, 'flip': 3136, 'slightest': 3137, 'graduat': 3138, 'ruth': 3139, '20th': 3140, 'rid': 3141, 'philosophi': 3142, 'min': 3143, 'hatr': 3144, 'falk': 3145, 'fx': 3146, 'alexand': 3147, 'shortli': 3148, 'gandhi': 3149, 'fund': 3150, 'we': 3151, 'dracula': 3152, 'harm': 3153, 'tall': 3154, 'preciou': 3155, 'knight': 3156, 'lend': 3157, 'holi': 3158, 'jealou': 3159, 'ocean': 3160, 'unpleas': 3161, 'legal': 3162, 'futurist': 3163, 'manhattan': 3164, 'felix': 3165, 'thread': 3166, 'digniti': 3167, 'explicit': 3168, 'forbidden': 3169, 'nod': 3170, 'scientif': 3171, 'overdon': 3172, 'bless': 3173, 'reviv': 3174, 'childish': 3175, 'mock': 3176, 'giallo': 3177, 'ami': 3178, 'tank': 3179, 'elderli': 3180, '2004': 3181, 'pirat': 3182, 'unwatch': 3183, 'nerv': 3184, 'mel': 3185, 'broad': 3186, 'torment': 3187, 'awe': 3188, '99': 3189, 'awaken': 3190, 'yesterday': 3191, 'eve': 3192, 'margaret': 3193, 'repeatedli': 3194, 'fever': 3195, 'verhoeven': 3196, 'thick': 3197, 'timothi': 3198, 'bin': 3199, 'lean': 3200, 'eas': 3201, 'royal': 3202, 'launch': 3203, 'stiller': 3204, 'ambit': 3205, 'automat': 3206, 'absenc': 3207, 'acclaim': 3208, 'roman': 3209, 'uniform': 3210, 'kay': 3211, 'custom': 3212, 'ah': 3213, 'publish': 3214, 'griffith': 3215, 'rivet': 3216, 'romero': 3217, 'politician': 3218, 'bathroom': 3219, 'darker': 3220, 'stinker': 3221, 'foul': 3222, 'crook': 3223, 'wallac': 3224, 'antic': 3225, 'pierc': 3226, 'warren': 3227, 'purpl': 3228, 'homicid': 3229, 'termin': 3230, 'phrase': 3231, 'tomato': 3232, 'transport': 3233, 'gabriel': 3234, 'sunshin': 3235, 'pulp': 3236, 'juvenil': 3237, 'choreographi': 3238, '2003': 3239, 'prom': 3240, 'donna': 3241, 'marin': 3242, 'horrid': 3243, 'contrari': 3244, 'ought': 3245, 'hollow': 3246, 'sixti': 3247, 'rambo': 3248, 'awak': 3249, 'viciou': 3250, 'q': 3251, 'kenneth': 3252, 'revolutionari': 3253, 'album': 3254, 'brazil': 3255, 'packag': 3256, 'pray': 3257, 'li': 3258, 'eyr': 3259, 'evolv': 3260, 'saint': 3261, 'coloni': 3262, 'karen': 3263, 'twelv': 3264, 'overr': 3265, 'ireland': 3266, 'mummi': 3267, 'defi': 3268, 'option': 3269, 'blade': 3270, 'nerd': 3271, 'conserv': 3272, 'dose': 3273, 'mildr': 3274, 'stole': 3275, 'candid': 3276, 'boast': 3277, 'ramon': 3278, 'kapoor': 3279, 'beatti': 3280, 'astonish': 3281, 'detract': 3282, 'jazz': 3283, 'protest': 3284, 'funer': 3285, 'fulci': 3286, 'confirm': 3287, 'trio': 3288, 'collabor': 3289, 'flame': 3290, 'global': 3291, 'altman': 3292, 'natali': 3293, 'kirk': 3294, 'whip': 3295, 'leap': 3296, 'delici': 3297, 'spit': 3298, 'shade': 3299, 'mystic': 3300, 'nicholson': 3301, 'audio': 3302, 'racial': 3303, 'bull': 3304, 'bottl': 3305, 'destini': 3306, 'enterpris': 3307, 'yellow': 3308, 'tommi': 3309, 'blake': 3310, 'vivid': 3311, 'inherit': 3312, 'swedish': 3313, 'merci': 3314, 'meaningless': 3315, 'popcorn': 3316, 'threw': 3317, 'enchant': 3318, 'todd': 3319, 'altogeth': 3320, 'bedroom': 3321, 'adolesc': 3322, 'visibl': 3323, 'neo': 3324, 'harder': 3325, 'fonda': 3326, 'pseudo': 3327, 'reunit': 3328, 'staff': 3329, 'madonna': 3330, 'ruthless': 3331, 'await': 3332, 'suspici': 3333, 'synopsi': 3334, 'atlanti': 3335, 'moodi': 3336, 'lemmon': 3337, 'roommat': 3338, 'wire': 3339, 'fanat': 3340, 'crocodil': 3341, 'jew': 3342, 'befriend': 3343, 'reserv': 3344, 'decor': 3345, 'kennedi': 3346, 'lawrenc': 3347, 'respond': 3348, 'leonard': 3349, 'voight': 3350, 'bust': 3351, 'tip': 3352, 'exhibit': 3353, 'edi': 3354, 'uneven': 3355, 'holli': 3356, 'ventur': 3357, 'incident': 3358, 'garner': 3359, 'dimens': 3360, 'unsettl': 3361, 'bold': 3362, 'carl': 3363, 'clumsi': 3364, 'chao': 3365, 'bargain': 3366, 'rural': 3367, 'voyag': 3368, 'abysm': 3369, 'audit': 3370, '2007': 3371, 'palma': 3372, 'clint': 3373, 'bradi': 3374, 'centr': 3375, '2nd': 3376, 'trail': 3377, 'characterist': 3378, 'wealth': 3379, 'daddi': 3380, 'troop': 3381, 'poetic': 3382, 'hart': 3383, 'cuba': 3384, 'imperson': 3385, 'echo': 3386, 'cari': 3387, 'neglect': 3388, 'elimin': 3389, 'lit': 3390, 'humili': 3391, 'cd': 3392, 'immigr': 3393, 'acknowledg': 3394, 'versu': 3395, 'nearbi': 3396, 'tiger': 3397, 'mall': 3398, 'ant': 3399, 'timon': 3400, 'marshal': 3401, 'repuls': 3402, 'solo': 3403, 'mistaken': 3404, 'saga': 3405, 'paus': 3406, 'pun': 3407, 'infect': 3408, 'collaps': 3409, 'prejudic': 3410, 'mickey': 3411, 'domest': 3412, 'celluloid': 3413, 'jeffrey': 3414, 'homer': 3415, 'tribe': 3416, 'gear': 3417, 'olivi': 3418, 'promin': 3419, '1996': 3420, 'interrupt': 3421, 'apolog': 3422, 'undoubtedli': 3423, 'chest': 3424, 'milk': 3425, 'inan': 3426, 'inappropri': 3427, 'pant': 3428, 'coat': 3429, 'cake': 3430, 'assembl': 3431, 'hbo': 3432, 'equip': 3433, 'coffe': 3434, 'ginger': 3435, 'harvey': 3436, 'sore': 3437, 'leon': 3438, 'instant': 3439, 'vulgar': 3440, 'brooklyn': 3441, 'consum': 3442, 'aveng': 3443, 'devast': 3444, 'retain': 3445, 'jenni': 3446, 'furthermor': 3447, 'humbl': 3448, 'embrac': 3449, 'highest': 3450, 'colleagu': 3451, 'exot': 3452, 'colonel': 3453, 'airplan': 3454, 'primari': 3455, 'institut': 3456, 'pen': 3457, 'florida': 3458, 'pot': 3459, 'maggi': 3460, 'trace': 3461, 'solut': 3462, 'polanski': 3463, 'bowl': 3464, 'descend': 3465, 'rick': 3466, 'dian': 3467, 'poke': 3468, 'illog': 3469, '1999': 3470, 'cope': 3471, 'disabl': 3472, 'ya': 3473, 'outer': 3474, 'linda': 3475, 'strain': 3476, 'wive': 3477, '3rd': 3478, 'godzilla': 3479, 'smaller': 3480, 'seduct': 3481, 'sale': 3482, 'gender': 3483, 'principl': 3484, 'dutch': 3485, 'gloriou': 3486, 'yard': 3487, 'primarili': 3488, 'secondli': 3489, 'bubbl': 3490, 'lol': 3491, 'blatant': 3492, 'rabbit': 3493, 'mixtur': 3494, 'hal': 3495, 'beneath': 3496, 'predecessor': 3497, 'vast': 3498, 'dud': 3499, 'inferior': 3500, 'devoid': 3501, 'glamor': 3502, 'cue': 3503, 'dive': 3504, 'scope': 3505, 'gundam': 3506, 'z': 3507, 'et': 3508, 'senseless': 3509, 'hideou': 3510, 'april': 3511, 'museum': 3512, 'alfr': 3513, 'talki': 3514, 'garbo': 3515, 'disjoint': 3516, 'shirley': 3517, 'aggress': 3518, 'countrysid': 3519, 'breed': 3520, 'casual': 3521, 'simplist': 3522, 'myer': 3523, 'pearl': 3524, 'arab': 3525, 'shelf': 3526, 'trademark': 3527, 'domino': 3528, 'streep': 3529, 'alert': 3530, 'grinch': 3531, 'invas': 3532, 'vanish': 3533, 'acid': 3534, 'mail': 3535, 'robberi': 3536, 'unhappi': 3537, 'oz': 3538, 'defens': 3539, 'stack': 3540, 'stir': 3541, 'applaud': 3542, 'maci': 3543, 'slide': 3544, 'sh': 3545, 'loyal': 3546, 'robinson': 3547, 'illeg': 3548, 'uwe': 3549, 'hopeless': 3550, 'stellar': 3551, 'boom': 3552, 'disgrac': 3553, 'hardcor': 3554, 'experiment': 3555, 'obtain': 3556, 'rendit': 3557, 'mayor': 3558, 'khan': 3559, 'dicken': 3560, 'diana': 3561, 'psychic': 3562, 'declin': 3563, 'wont': 3564, 'span': 3565, 'spider': 3566, 'amanda': 3567, 'berlin': 3568, 'topless': 3569, 'rifl': 3570, 'craze': 3571, 'incomprehens': 3572, 'dismiss': 3573, 'fri': 3574, 'tempt': 3575, 'counter': 3576, 'emphasi': 3577, 'soccer': 3578, 'recruit': 3579, 'blew': 3580, 'scroog': 3581, 'tenant': 3582, 'grandfath': 3583, 'hartley': 3584, 'riot': 3585, 'lumet': 3586, 'wet': 3587, 'trashi': 3588, 'revolt': 3589, 'porno': 3590, 'woo': 3591, 'niro': 3592, 'shed': 3593, 'sibl': 3594, 'goer': 3595, 'faster': 3596, 'justin': 3597, 'bitch': 3598, 'intim': 3599, 'resurrect': 3600, 'shaw': 3601, 'parad': 3602, 'sympath': 3603, 'ration': 3604, 'ethnic': 3605, 'ensur': 3606, 'region': 3607, 'ballet': 3608, 'slick': 3609, 'jonathan': 3610, 'eager': 3611, 'hesit': 3612, 'weakest': 3613, 'unreal': 3614, 'worm': 3615, 'choru': 3616, 'rider': 3617, 'wheel': 3618, 'patriot': 3619, 'mario': 3620, 'partial': 3621, 'steam': 3622, 'biographi': 3623, 'nephew': 3624, 'hopper': 3625, 'lena': 3626, 'enlighten': 3627, 'gap': 3628, 'wendi': 3629, 'immort': 3630, 'dealer': 3631, '00': 3632, 'andr': 3633, 'commend': 3634, 'farmer': 3635, 'honesti': 3636, 'feminist': 3637, 'vice': 3638, 'mutant': 3639, 'blunt': 3640, 'wore': 3641, 'franco': 3642, 'skull': 3643, 'nostalg': 3644, 'psychopath': 3645, 'hung': 3646, 'sappi': 3647, 'victori': 3648, 'snap': 3649, 'prequel': 3650, 'util': 3651, 'similarli': 3652, 'properti': 3653, 'kingdom': 3654, 'charlott': 3655, 'confin': 3656, 'composit': 3657, 'morri': 3658, 'sandra': 3659, 'repress': 3660, 'leo': 3661, 'safeti': 3662, 'owen': 3663, 'macarthur': 3664, 'valuabl': 3665, 'whoopi': 3666, 'montana': 3667, 'dalton': 3668, 'exit': 3669, 'dust': 3670, 'acquir': 3671, 'kyle': 3672, 'farrel': 3673, 'bow': 3674, 'repli': 3675, 'cg': 3676, 'strand': 3677, 'drum': 3678, 'heartbreak': 3679, 'miseri': 3680, 'rocki': 3681, 'compens': 3682, 'rambl': 3683, 'speci': 3684, 'recycl': 3685, 'tad': 3686, 'bonu': 3687, 'latin': 3688, 'snl': 3689, 'thru': 3690, 'pattern': 3691, 'tail': 3692, 'bumbl': 3693, 'drain': 3694, 'rope': 3695, 'hyde': 3696, 'campbel': 3697, 'bergman': 3698, 'deed': 3699, 'nervou': 3700, '1972': 3701, 'despair': 3702, 'compass': 3703, 'del': 3704, 'emperor': 3705, 'tonight': 3706, 'slug': 3707, 'bleed': 3708, 'rotten': 3709, 'gal': 3710, 'pour': 3711, 'gimmick': 3712, 'airport': 3713, 'roth': 3714, 'martian': 3715, 'orson': 3716, 'chess': 3717, 'romp': 3718, 'oppress': 3719, 'radic': 3720, 'mistress': 3721, 'contempl': 3722, 'percept': 3723, 'downhil': 3724, 'wacki': 3725, '35': 3726, 'carradin': 3727, 'da': 3728, 'rapist': 3729, 'olli': 3730, 'stilt': 3731, 'arguabl': 3732, 'belt': 3733, 'tackl': 3734, 'tooth': 3735, 'paltrow': 3736, 'heal': 3737, 'unpredict': 3738, 'pervert': 3739, 'dazzl': 3740, 'pursuit': 3741, 'edgar': 3742, 'pervers': 3743, 'champion': 3744, 'taught': 3745, 'mislead': 3746, 'programm': 3747, 'slash': 3748, 'shelley': 3749, '1983': 3750, 'arc': 3751, 'preach': 3752, 'melodi': 3753, 'banal': 3754, 'attorney': 3755, 'bela': 3756, 'poem': 3757, 'cleverli': 3758, 'uplift': 3759, 'maid': 3760, 'vocal': 3761, 'plight': 3762, 'virginia': 3763, 'passeng': 3764, 'mesmer': 3765, 'closest': 3766, 'sensat': 3767, 'graham': 3768, 'raymond': 3769, 'tiresom': 3770, 'conneri': 3771, 'dixon': 3772, 'orang': 3773, 'duval': 3774, 'employe': 3775, 'franki': 3776, 'chicken': 3777, 'gambl': 3778, 'vengeanc': 3779, 'rubi': 3780, 'marti': 3781, 'engross': 3782, 'habit': 3783, 'inject': 3784, 'paranoia': 3785, 'secretli': 3786, 'scottish': 3787, 'abraham': 3788, 'monologu': 3789, '1968': 3790, 'mute': 3791, 'sirk': 3792, 'volum': 3793, 'climact': 3794, 'profan': 3795, 'clone': 3796, 'bay': 3797, 'numb': 3798, 'yawn': 3799, 'convincingli': 3800, 'lundgren': 3801, 'suffic': 3802, 'swallow': 3803, 'outing': 3804, 'whine': 3805, 'tube': 3806, 'calm': 3807, 'crystal': 3808, 'quarter': 3809, 'extens': 3810, 'iran': 3811, 'giggl': 3812, 'gerard': 3813, 'pokemon': 3814, 'amitabh': 3815, 'ethan': 3816, 'abort': 3817, 'austen': 3818, 'underst': 3819, 'earl': 3820, 'richardson': 3821, 'dispos': 3822, 'grotesqu': 3823, 'profess': 3824, 'junior': 3825, 'backward': 3826, 'trend': 3827, 'fed': 3828, 'meander': 3829, 'surpass': 3830, 'lowest': 3831, 'franci': 3832, 'im': 3833, 'frankenstein': 3834, 'septemb': 3835, 'expand': 3836, 'chicago': 3837, 'plod': 3838, 'bend': 3839, 'linger': 3840, 'nichola': 3841, 'poetri': 3842, 'spock': 3843, 'taxi': 3844, 'literatur': 3845, 'spoke': 3846, 'dysfunct': 3847, 'eugen': 3848, 'myth': 3849, 'tourist': 3850, 'descent': 3851, 'rubber': 3852, 'instrument': 3853, 'mundan': 3854, 'lure': 3855, 'household': 3856, 'catchi': 3857, 'muddl': 3858, 'sue': 3859, 'hum': 3860, 'nostalgia': 3861, 'greedi': 3862, 'econom': 3863, 'der': 3864, 'rant': 3865, 'compliment': 3866, 'simplic': 3867, 'waitress': 3868, 'cannon': 3869, 'stallon': 3870, 'eaten': 3871, 'dement': 3872, 'insur': 3873, 'randi': 3874, 'firstli': 3875, 'equival': 3876, 'bacal': 3877, 'irrelev': 3878, 'furi': 3879, 'duck': 3880, 'louis': 3881, 'mortal': 3882, 'sissi': 3883, 'crucial': 3884, 'occupi': 3885, 'omen': 3886, 'stale': 3887, 'dictat': 3888, 'deaf': 3889, 'recognis': 3890, 'recognit': 3891, 'lang': 3892, 'carel': 3893, 'hello': 3894, 'phantom': 3895, 'mankind': 3896, 'june': 3897, 'map': 3898, 'phoni': 3899, 'alongsid': 3900, 'cent': 3901, 'coast': 3902, 'molli': 3903, 'flee': 3904, 'damon': 3905, 'labor': 3906, 'heel': 3907, 'twilight': 3908, 'onlin': 3909, 'blackmail': 3910, 'bike': 3911, 'lengthi': 3912, 'daisi': 3913, 'distinguish': 3914, 'bump': 3915, 'newli': 3916, 'freez': 3917, 'rude': 3918, 'reign': 3919, 'damm': 3920, 'ashley': 3921, 'loyalti': 3922, 'likewis': 3923, 'antwon': 3924, '1973': 3925, 'grayson': 3926, 'wisdom': 3927, 'dreari': 3928, 'biko': 3929, 'drake': 3930, 'buffalo': 3931, 'rooney': 3932, 'cyborg': 3933, 'tunnel': 3934, 'approv': 3935, 'worn': 3936, 'baddi': 3937, 'prey': 3938, 'boxer': 3939, 'pink': 3940, 'vein': 3941, 'butler': 3942, 'startl': 3943, 'exposur': 3944, 'basketbal': 3945, 'emphas': 3946, 'incorpor': 3947, 'chronicl': 3948, 'attribut': 3949, 'ridden': 3950, 'proce': 3951, 'unorigin': 3952, 'analysi': 3953, 'barrymor': 3954, 'sailor': 3955, 'provoc': 3956, 'keith': 3957, 'nineti': 3958, 'inher': 3959, 'interior': 3960, 'belushi': 3961, 'elm': 3962, 'othello': 3963, 'julian': 3964, 'nicol': 3965, 'meyer': 3966, 'bunni': 3967, 'hypnot': 3968, 'robbin': 3969, 'substitut': 3970, 'stalker': 3971, 'unrel': 3972, 'improvis': 3973, 'condemn': 3974, 'degrad': 3975, 'barrel': 3976, 'undeni': 3977, 'er': 3978, 'drift': 3979, 'mighti': 3980, 'walsh': 3981, 'underli': 3982, 'fleet': 3983, 'mormon': 3984, 'indiffer': 3985, 'carla': 3986, 'millionair': 3987, 'predat': 3988, 'simmon': 3989, 'meg': 3990, 'mtv': 3991, 'errol': 3992, 'shove': 3993, 'disord': 3994, 'palac': 3995, 'dolph': 3996, 'firm': 3997, 'novak': 3998, 'marion': 3999, 'lampoon': 4000, 'vital': 4001, 'alarm': 4002, 'priceless': 4003, 'nyc': 4004, 'unawar': 4005, 'warmth': 4006, 'reid': 4007, 'alison': 4008, 'watson': 4009, 'enthusiasm': 4010, 'roof': 4011, 'exquisit': 4012, 'hay': 4013, 'rukh': 4014, 'agenda': 4015, 'greed': 4016, 'edgi': 4017, '3d': 4018, 'angela': 4019, 'what': 4020, 'randomli': 4021, 'pamela': 4022, 'israel': 4023, 'crown': 4024, 'campaign': 4025, 'showdown': 4026, 'cassidi': 4027, 'petti': 4028, 'eastern': 4029, 'session': 4030, 'unleash': 4031, 'profit': 4032, 'sergeant': 4033, 'simultan': 4034, 'championship': 4035, 'peril': 4036, 'glanc': 4037, 'ponder': 4038, 'drip': 4039, 'spain': 4040, '13th': 4041, 'gestur': 4042, '1933': 4043, 'nun': 4044, 'iraq': 4045, 'minimum': 4046, 'distort': 4047, 'thompson': 4048, 'testament': 4049, 'preserv': 4050, 'peck': 4051, 'beatl': 4052, 'coup': 4053, 'valentin': 4054, 'orlean': 4055, 'zizek': 4056, 'mon': 4057, 'travesti': 4058, 'scotland': 4059, 'contradict': 4060, 'wig': 4061, 'cooki': 4062, 'quinn': 4063, 'restrain': 4064, 'represent': 4065, 'miyazaki': 4066, 'realm': 4067, 'valley': 4068, 'exposit': 4069, 'shootout': 4070, 'climat': 4071, 'fido': 4072, 'brenda': 4073, 'bro': 4074, 'unimagin': 4075, 'crawl': 4076, 'stroke': 4077, 'cream': 4078, 'gentleman': 4079, 'stake': 4080, 'crow': 4081, 'din': 4082, 'rout': 4083, 'kurosawa': 4084, 'jan': 4085, '1984': 4086, 'empathi': 4087, 'han': 4088, 'regist': 4089, 'perpetu': 4090, 'sabrina': 4091, 'reson': 4092, 'calib': 4093, 'buster': 4094, 'demis': 4095, 'geek': 4096, '1997': 4097, 'monoton': 4098, 'cloud': 4099, 'dana': 4100, 'shoddi': 4101, 'tacki': 4102, 'warrant': 4103, 'painter': 4104, 'spacey': 4105, 'passabl': 4106, 'josh': 4107, 'pretens': 4108, 'shaki': 4109, 'perceiv': 4110, '1987': 4111, 'unsatisfi': 4112, 'distress': 4113, 'absent': 4114, 'ross': 4115, 'darren': 4116, 'traumat': 4117, 'wax': 4118, 'sammi': 4119, 'abomin': 4120, 'businessman': 4121, 'censor': 4122, 'stargat': 4123, 'mclaglen': 4124, 'pole': 4125, 'baldwin': 4126, 'derang': 4127, 'femm': 4128, 'sucker': 4129, 'ustinov': 4130, 'delic': 4131, 'fuller': 4132, 'crawford': 4133, 'soderbergh': 4134, 'meryl': 4135, 'unseen': 4136, 'greg': 4137, 'compromis': 4138, 'anchor': 4139, 'deceas': 4140, 'fog': 4141, 'primit': 4142, 'click': 4143, '1993': 4144, 'kumar': 4145, 'wholli': 4146, 'exclus': 4147, 'reluct': 4148, 'austin': 4149, 'tarantino': 4150, 'judgment': 4151, 'nathan': 4152, 'accuraci': 4153, 'verbal': 4154, 'correctli': 4155, 'valid': 4156, 'dee': 4157, 'seal': 4158, 'uncov': 4159, 'unravel': 4160, 'expedit': 4161, 'furiou': 4162, 'jewel': 4163, 'tech': 4164, 'norm': 4165, 'clash': 4166, 'fenc': 4167, 'polici': 4168, 'sid': 4169, 'antonioni': 4170, 'deniro': 4171, 'seldom': 4172, '2008': 4173, 'bake': 4174, 'trait': 4175, 'malon': 4176, 'conduct': 4177, 'slam': 4178, 'enforc': 4179, 'roller': 4180, 'sheet': 4181, 'temper': 4182, 'murray': 4183, 'crippl': 4184, 'logan': 4185, 'tax': 4186, 'wang': 4187, '1971': 4188, 'darn': 4189, 'dreck': 4190, 'wretch': 4191, 'hallucin': 4192, 'fart': 4193, 'fought': 4194, '1995': 4195, 'patienc': 4196, '3000': 4197, 'behold': 4198, 'debt': 4199, 'nicola': 4200, 'mode': 4201, 'sunni': 4202, 'sustain': 4203, 'ritual': 4204, 'sand': 4205, 'fabric': 4206, 'unfair': 4207, 'alec': 4208, 'joel': 4209, 'clerk': 4210, 'vanc': 4211, 'pocket': 4212, 'shanghai': 4213, 'scriptwrit': 4214, 'despis': 4215, 'stark': 4216, 'penni': 4217, 'technicolor': 4218, 'canyon': 4219, 'outlin': 4220, 'sweep': 4221, 'guitar': 4222, 'conscious': 4223, 'legaci': 4224, 'phil': 4225, 'tactic': 4226, 'isabel': 4227, 'critiqu': 4228, 'shell': 4229, 'preposter': 4230, 'bridget': 4231, 'divid': 4232, 'schedul': 4233, 'clau': 4234, 'exhaust': 4235, 'squad': 4236, 'robber': 4237, 'helpless': 4238, 'preston': 4239, 'runner': 4240, 'stuart': 4241, 'fundament': 4242, 'rita': 4243, 'grief': 4244, 'bias': 4245, 'pete': 4246, 'soup': 4247, 'flair': 4248, 'sugar': 4249, 'marc': 4250, 'connor': 4251, 'jacket': 4252, 'passag': 4253, 'alicia': 4254, 'alley': 4255, 'drove': 4256, 'vomit': 4257, 'inabl': 4258, 'lacklust': 4259, 'restrict': 4260, 'propos': 4261, 'invad': 4262, 'culmin': 4263, 'rear': 4264, 'downey': 4265, 'delv': 4266, 'consciou': 4267, 'jodi': 4268, 'unexpectedli': 4269, 'sentinel': 4270, 'liberti': 4271, 'bloom': 4272, 'palanc': 4273, 'boyl': 4274, 'russia': 4275, 'agenc': 4276, 'cigarett': 4277, 'kansa': 4278, 'newman': 4279, 'sniper': 4280, 'rehash': 4281, 'implic': 4282, 'gregori': 4283, 'cap': 4284, 'pale': 4285, 'lush': 4286, 'arrow': 4287, 'horn': 4288, '22': 4289, 'awhil': 4290, 'rod': 4291, 'rehears': 4292, '1936': 4293, 'rampag': 4294, 'tendenc': 4295, 'kolchak': 4296, 'karl': 4297, 'tripe': 4298, 'asylum': 4299, 'mccoy': 4300, 'improb': 4301, 'behaviour': 4302, 'feat': 4303, 'yeti': 4304, 'delet': 4305, 'bacon': 4306, 'chainsaw': 4307, 'aesthet': 4308, 'sharon': 4309, 'foxx': 4310, 'ladder': 4311, 'wrench': 4312, 'vet': 4313, 'hulk': 4314, 'suffici': 4315, 'lurk': 4316, 'rhythm': 4317, 'coaster': 4318, 'thunderbird': 4319, 'hungri': 4320, 'tomorrow': 4321, 'wildli': 4322, 'weav': 4323, 'sung': 4324, 'shortcom': 4325, 'suspicion': 4326, 'loneli': 4327, '19th': 4328, 'el': 4329, 'newcom': 4330, 'stream': 4331, 'globe': 4332, 'minu': 4333, '1920': 4334, 'basing': 4335, 'filler': 4336, '1978': 4337, 'elit': 4338, 'spice': 4339, 'paradis': 4340, 'hackney': 4341, 'underneath': 4342, 'wagner': 4343, 'fright': 4344, 'amazon': 4345, 'financ': 4346, 'aristocrat': 4347, 'conscienc': 4348, 'scoop': 4349, 'tasteless': 4350, 'visitor': 4351, 'paramount': 4352, 'prank': 4353, '1988': 4354, 'rumor': 4355, '1989': 4356, 'recogniz': 4357, 'grudg': 4358, 'tierney': 4359, 'abrupt': 4360, 'naughti': 4361, 'rub': 4362, 'paxton': 4363, 'cancer': 4364, 'secondari': 4365, 'standout': 4366, 'dirt': 4367, 'iv': 4368, 'inmat': 4369, 'couch': 4370, 'ram': 4371, 'entranc': 4372, 'brit': 4373, 'beverli': 4374, 'straightforward': 4375, 'immers': 4376, 'literari': 4377, 'impos': 4378, 'minist': 4379, 'atroc': 4380, '75': 4381, 'springer': 4382, 'worship': 4383, 'choppi': 4384, 'chamberlain': 4385, 'hopkin': 4386, 'bread': 4387, 'ingeni': 4388, 'curli': 4389, 'heist': 4390, 'counterpart': 4391, 'lectur': 4392, 'en': 4393, 'quietli': 4394, 'chavez': 4395, 'penn': 4396, 'teas': 4397, 'smell': 4398, 'posey': 4399, 'leigh': 4400, 'wwe': 4401, '1939': 4402, 'esther': 4403, 'quaid': 4404, 'laurenc': 4405, '1986': 4406, 'duel': 4407, 'skeptic': 4408, 'geni': 4409, 'bernard': 4410, 'yearn': 4411, 'watcher': 4412, 'clan': 4413, 'policeman': 4414, 'cattl': 4415, 'lindsay': 4416, 'misguid': 4417, 'heartfelt': 4418, 'nemesi': 4419, 'attenborough': 4420, 'net': 4421, 'convert': 4422, 'ratso': 4423, 'transcend': 4424, 'variat': 4425, 'enthral': 4426, 'sublim': 4427, 'missil': 4428, 'sassi': 4429, 'morbid': 4430, 'moreov': 4431, 'nolan': 4432, 'injuri': 4433, 'ace': 4434, 'entitl': 4435, 'bean': 4436, 'cruelti': 4437, '1979': 4438, 'graini': 4439, 'poe': 4440, 'mytholog': 4441, 'buzz': 4442, 'uncut': 4443, 'bye': 4444, 'dont': 4445, 'hk': 4446, 'obstacl': 4447, 'grin': 4448, 'brood': 4449, 'setup': 4450, 'puppi': 4451, 'tyler': 4452, 'hopelessli': 4453, 'artsi': 4454, 'egg': 4455, 'out': 4456, 'enabl': 4457, 'spiral': 4458, 'diari': 4459, 'youngest': 4460, 'kitti': 4461, 'kidman': 4462, 'steadi': 4463, 'reliabl': 4464, 'rosemari': 4465, 'characteris': 4466, 'unexplain': 4467, 'moder': 4468, 'facil': 4469, 'carlito': 4470, 'vader': 4471, 'gillian': 4472, 'clueless': 4473, 'hammi': 4474, 'narrow': 4475, 'preming': 4476, '1969': 4477, 'brendan': 4478, 'hain': 4479, 'oblig': 4480, 'gina': 4481, 'weather': 4482, 'bronson': 4483, 'decept': 4484, 'despic': 4485, 'underworld': 4486, 'spontan': 4487, 'martha': 4488, 'bewar': 4489, 'sweat': 4490, 'bounc': 4491, 'patricia': 4492, 'effici': 4493, 'athlet': 4494, 'baffl': 4495, 'exterior': 4496, 'acquaint': 4497, 'disastr': 4498, 'fuel': 4499, 'kline': 4500, 'niec': 4501, 'heap': 4502, 'christin': 4503, 'loath': 4504, 'circu': 4505, 'astound': 4506, 'harmless': 4507, 'candl': 4508, 'mermaid': 4509, 'scar': 4510, 'goof': 4511, 'lester': 4512, 'injur': 4513, 'biker': 4514, 'preachi': 4515, 'sooner': 4516, 'trigger': 4517, 'analyz': 4518, 'tick': 4519, 'rome': 4520, 'virtu': 4521, 'insipid': 4522, 'mayhem': 4523, 'loi': 4524, 'outlaw': 4525, 'headach': 4526, 'hepburn': 4527, 'dilemma': 4528, 'enlist': 4529, 'taboo': 4530, 'shatter': 4531, 'uh': 4532, '19': 4533, 'suprem': 4534, '73': 4535, 'angst': 4536, 'housewif': 4537, 'sleepwalk': 4538, 'renaiss': 4539, 'dandi': 4540, 'viewpoint': 4541, 'fontain': 4542, 'redund': 4543, 'immatur': 4544, 'dish': 4545, 'fluff': 4546, 'bent': 4547, 'amor': 4548, 'hostag': 4549, 'idol': 4550, 'slimi': 4551, 'dismal': 4552, 'gere': 4553, 'camcord': 4554, 'scorses': 4555, 'filth': 4556, 'spade': 4557, 'corbett': 4558, 'claustrophob': 4559, 'hokey': 4560, 'ebert': 4561, 'tripl': 4562, 'stair': 4563, 'whore': 4564, 'glorifi': 4565, 'stimul': 4566, 'surgeri': 4567, 'macho': 4568, 'hooker': 4569, 'zoom': 4570, 'steer': 4571, 'overlong': 4572, 'contempt': 4573, 'oldest': 4574, 'foolish': 4575, 'intric': 4576, 'boston': 4577, 'guin': 4578, 'sox': 4579, 'salt': 4580, 'phenomenon': 4581, 'ariel': 4582, 'cassavet': 4583, 'beard': 4584, 'margin': 4585, 'shield': 4586, 'preced': 4587, 'flag': 4588, 'remad': 4589, 'down': 4590, 'shred': 4591, 'trivia': 4592, 'faint': 4593, 'joker': 4594, 'strongest': 4595, 'obligatori': 4596, 'muscl': 4597, 'harold': 4598, 'schlock': 4599, 'rhyme': 4600, '1976': 4601, 'fascist': 4602, 'cow': 4603, 'dwarf': 4604, 'antagonist': 4605, '1981': 4606, 'assert': 4607, 'gasp': 4608, 'messi': 4609, 'proport': 4610, 'frantic': 4611, 'corman': 4612, 'naschi': 4613, 'flirt': 4614, 'zane': 4615, 'mount': 4616, 'spinal': 4617, 'conquer': 4618, 'mutual': 4619, 'perman': 4620, 'widescreen': 4621, 'gabl': 4622, 'flashi': 4623, 'cohen': 4624, 'alvin': 4625, 'astronaut': 4626, 'transplant': 4627, 'radiat': 4628, 'spree': 4629, 'keen': 4630, 'cush': 4631, 'nolt': 4632, 'brush': 4633, '1945': 4634, 'wield': 4635, 'hara': 4636, '95': 4637, 'off': 4638, 'carey': 4639, 'sensual': 4640, 'divin': 4641, 'deer': 4642, 'strive': 4643, 'boob': 4644, 'instruct': 4645, 'triangl': 4646, 'neurot': 4647, 'inflict': 4648, 'barn': 4649, 'someday': 4650, 'vaniti': 4651, 'fishburn': 4652, 'bitten': 4653, 'ritchi': 4654, 'flock': 4655, 'claud': 4656, 'info': 4657, 'resum': 4658, 'departur': 4659, 'persuad': 4660, 'discern': 4661, 'www': 4662, 'aborigin': 4663, '28': 4664, 'mol': 4665, 'bachelor': 4666, 'repris': 4667, 'danish': 4668, 'interestingli': 4669, 'archiv': 4670, 'raj': 4671, 'mobil': 4672, 'scandal': 4673, 'submit': 4674, 'earnest': 4675, 'senior': 4676, 'carlo': 4677, 'bate': 4678, 'mobster': 4679, 'colin': 4680, 'hug': 4681, 'recit': 4682, 'jade': 4683, 'timberlak': 4684, 'dylan': 4685, 'fragil': 4686, 'artwork': 4687, 'parson': 4688, 'ish': 4689, 'wendigo': 4690, 'axe': 4691, 'dame': 4692, 'clad': 4693, 'pixar': 4694, 'proclaim': 4695, 'heartwarm': 4696, 'rot': 4697, 'vibrant': 4698, 'pickford': 4699, 'loretta': 4700, 'neill': 4701, 'banter': 4702, 'biblic': 4703, 'hilar': 4704, 'luka': 4705, 'traffic': 4706, 'europa': 4707, 'cycl': 4708, 'hapless': 4709, 'cher': 4710, 'kathryn': 4711, 'cliffhang': 4712, 'dim': 4713, 'miracul': 4714, 'helm': 4715, 'harrison': 4716, 'frontier': 4717, 'cb': 4718, 'melissa': 4719, 'casino': 4720, 'prophet': 4721, 'anton': 4722, 'undermin': 4723, 'pacif': 4724, 'jo': 4725, 'blatantli': 4726, 'foil': 4727, 'token': 4728, 'wardrob': 4729, 'bikini': 4730, 'breakfast': 4731, 'isra': 4732, 'feast': 4733, 'http': 4734, 'nope': 4735, 'uma': 4736, 'cerebr': 4737, 'legitim': 4738, 'venom': 4739, 'alexandr': 4740, 'flavor': 4741, 'electron': 4742, 'rooki': 4743, 'eli': 4744, 'marlon': 4745, 'holocaust': 4746, 'illus': 4747, 'misfortun': 4748, 'shepherd': 4749, 'bondag': 4750, 'lui': 4751, 'toronto': 4752, 'pc': 4753, 'milo': 4754, 'mason': 4755, 'orphan': 4756, 'akin': 4757, 'sicken': 4758, 'seedi': 4759, 'redneck': 4760, 'lucil': 4761, 'choke': 4762, 'vile': 4763, 'northern': 4764, 'jordan': 4765, 'articl': 4766, 'razor': 4767, 'estrang': 4768, 'winchest': 4769, 'trier': 4770, 'antholog': 4771, 'static': 4772, 'vanessa': 4773, 'mathieu': 4774, 'aris': 4775, 'feminin': 4776, 'linear': 4777, 'knightley': 4778, 'shorter': 4779, 'leather': 4780, 'clinic': 4781, 'nightclub': 4782, 'swept': 4783, 'highway': 4784, 'gilbert': 4785, 'wrestler': 4786, 'frog': 4787, 'tack': 4788, 'affleck': 4789, 'howl': 4790, 'turd': 4791, 'styliz': 4792, 'glare': 4793, 'outdat': 4794, 'smack': 4795, 'ceremoni': 4796, 'cartoonish': 4797, 'peer': 4798, 'huston': 4799, 'comprehend': 4800, 'fifth': 4801, 'retriev': 4802, 'deem': 4803, 'audrey': 4804, 'abund': 4805, 'magician': 4806, 'dudley': 4807, 'psych': 4808, 'disregard': 4809, 'ideolog': 4810, 'oppon': 4811, 'boyer': 4812, 'gunga': 4813, 'charlton': 4814, 'spawn': 4815, 'newer': 4816, 'cemeteri': 4817, 'boo': 4818, 'energet': 4819, 'plate': 4820, 'mitch': 4821, 'uniformli': 4822, 'collector': 4823, 'snatch': 4824, 'breakdown': 4825, '1994': 4826, 'durat': 4827, 'potter': 4828, 'monument': 4829, 'sleaz': 4830, 'whack': 4831, 'toe': 4832, 'cuban': 4833, 'corn': 4834, 'bogu': 4835, 'phenomen': 4836, 'senat': 4837, 'btw': 4838, 'chip': 4839, 'evolut': 4840, 'client': 4841, 'braveheart': 4842, 'tara': 4843, 'lifeless': 4844, 'summar': 4845, 'bastard': 4846, 'compris': 4847, 'salman': 4848, 'lighter': 4849, 'spine': 4850, '4th': 4851, 'lavish': 4852, 'conrad': 4853, 'greet': 4854, '1991': 4855, 'moe': 4856, 'einstein': 4857, 'deliver': 4858, 'goldsworthi': 4859, 'embark': 4860, 'outright': 4861, 'appl': 4862, 'bulk': 4863, 'signal': 4864, 'pronounc': 4865, 'undead': 4866, 'creek': 4867, 'fluid': 4868, 'nina': 4869, 'wtf': 4870, 'replay': 4871, 'ol': 4872, 'healthi': 4873, 'jule': 4874, 'cecil': 4875, 'neatli': 4876, 'mcqueen': 4877, 'clara': 4878, 'kent': 4879, 'historian': 4880, 'alleg': 4881, 'belli': 4882, 'lex': 4883, 'ie': 4884, 'jam': 4885, '1977': 4886, 'spectacl': 4887, 'evelyn': 4888, 'occup': 4889, 'gilliam': 4890, 'capot': 4891, 'jare': 4892, 'constitut': 4893, 'armstrong': 4894, '1974': 4895, 'liu': 4896, 'randolph': 4897, 'bori': 4898, 'firmli': 4899, 'sorrow': 4900, 'judd': 4901, 'inaccuraci': 4902, 'trauma': 4903, 'luxuri': 4904, 'eleven': 4905, 'undertak': 4906, 'kazan': 4907, 'jedi': 4908, 'miniseri': 4909, 'propheci': 4910, 'comprehens': 4911, 'mum': 4912, 'porter': 4913, 'curtain': 4914, 'abound': 4915, 'sidewalk': 4916, 'kiddi': 4917, 'lauren': 4918, 'subtli': 4919, 'inclus': 4920, 'pioneer': 4921, 'forgiven': 4922, 'roar': 4923, 'unsuspect': 4924, 'spray': 4925, 'vain': 4926, 'relentless': 4927, 'sacrif': 4928, 'id': 4929, 'inaccur': 4930, 'decapit': 4931, 'vignett': 4932, 'antonio': 4933, 'pepper': 4934, 'unattract': 4935, 'cape': 4936, 'poker': 4937, 'meal': 4938, '1985': 4939, 'tokyo': 4940, 'genet': 4941, 'bsg': 4942, 'truman': 4943, 'congratul': 4944, 'conan': 4945, 'fruit': 4946, 'aussi': 4947, 'basket': 4948, 'paula': 4949, 'groan': 4950, 'palm': 4951, 'knee': 4952, 'blur': 4953, 'miami': 4954, 'bait': 4955, 'ash': 4956, 'comb': 4957, 'carmen': 4958, 'walt': 4959, 'goldblum': 4960, 'rosario': 4961, 'galaxi': 4962, 'lanc': 4963, 'scariest': 4964, 'motorcycl': 4965, 'casper': 4966, 'modest': 4967, 'mice': 4968, 'ingrid': 4969, 'sparkl': 4970, 'assort': 4971, 'reincarn': 4972, 'epitom': 4973, 'spill': 4974, 'ghetto': 4975, 'orchestr': 4976, 'macabr': 4977, 'sophi': 4978, 'monti': 4979, 'incorrect': 4980, 'jill': 4981, 'drone': 4982, 'profil': 4983, 'verg': 4984, 'omin': 4985, 'dubiou': 4986, 'playboy': 4987, 'handicap': 4988, 'frontal': 4989, 'rapidli': 4990, 'vastli': 4991, 'weaker': 4992, 'cypher': 4993, 'detach': 4994, 'asset': 4995, 'turtl': 4996, 'bach': 4997, 'hostil': 4998, 'growth': 4999}\n"
     ]
    }
   ],
   "source": [
    "word_dict = build_dict(train_X)\n",
    "print(word_dict)"
   ]
  },
  {
   "cell_type": "markdown",
   "metadata": {},
   "source": [
    "**Question:** What are the five most frequently appearing (tokenized) words in the training set? Does it makes sense that these words appear frequently in the training set?"
   ]
  },
  {
   "cell_type": "markdown",
   "metadata": {},
   "source": [
    "**Answer:** Five most frequently appearing words: movi, film, one, like, time.\n",
    "It makes sense because it's a movie/file review dataset, though most of these very frequent words do not relate to like/displike (except 'like')."
   ]
  },
  {
   "cell_type": "code",
   "execution_count": 14,
   "metadata": {},
   "outputs": [
    {
     "data": {
      "text/plain": [
       "['movi', 'film', 'one', 'like', 'time']"
      ]
     },
     "execution_count": 14,
     "metadata": {},
     "output_type": "execute_result"
    }
   ],
   "source": [
    "# TODO: Use this space to determine the five most frequently appearing words in the training set.\n",
    "list(word_dict.keys())[:5]"
   ]
  },
  {
   "cell_type": "markdown",
   "metadata": {},
   "source": [
    "### Save `word_dict`\n",
    "\n",
    "Later on when we construct an endpoint which processes a submitted review we will need to make use of the `word_dict` which we have created. As such, we will save it to a file now for future use."
   ]
  },
  {
   "cell_type": "code",
   "execution_count": 15,
   "metadata": {},
   "outputs": [],
   "source": [
    "data_dir = '../data/pytorch' # The folder we will use for storing data\n",
    "if not os.path.exists(data_dir): # Make sure that the folder exists\n",
    "    os.makedirs(data_dir)"
   ]
  },
  {
   "cell_type": "code",
   "execution_count": 16,
   "metadata": {},
   "outputs": [],
   "source": [
    "with open(os.path.join(data_dir, 'word_dict.pkl'), \"wb\") as f:\n",
    "    pickle.dump(word_dict, f)"
   ]
  },
  {
   "cell_type": "markdown",
   "metadata": {},
   "source": [
    "### Transform the reviews\n",
    "\n",
    "Now that we have our word dictionary which allows us to transform the words appearing in the reviews into integers, it is time to make use of it and convert our reviews to their integer sequence representation, making sure to pad or truncate to a fixed length, which in our case is `500`."
   ]
  },
  {
   "cell_type": "code",
   "execution_count": 17,
   "metadata": {},
   "outputs": [],
   "source": [
    "def convert_and_pad(word_dict, sentence, pad=500):\n",
    "    NOWORD = 0 # We will use 0 to represent the 'no word' category\n",
    "    INFREQ = 1 # and we use 1 to represent the infrequent words, i.e., words not appearing in word_dict\n",
    "    \n",
    "    working_sentence = [NOWORD] * pad\n",
    "    \n",
    "    for word_index, word in enumerate(sentence[:pad]):\n",
    "        if word in word_dict:\n",
    "            working_sentence[word_index] = word_dict[word]\n",
    "        else:\n",
    "            working_sentence[word_index] = INFREQ\n",
    "            \n",
    "    return working_sentence, min(len(sentence), pad)\n",
    "\n",
    "def convert_and_pad_data(word_dict, data, pad=500):\n",
    "    result = []\n",
    "    lengths = []\n",
    "    \n",
    "    for sentence in data:\n",
    "        converted, leng = convert_and_pad(word_dict, sentence, pad)\n",
    "        result.append(converted)\n",
    "        lengths.append(leng)\n",
    "        \n",
    "    return np.array(result), np.array(lengths)"
   ]
  },
  {
   "cell_type": "code",
   "execution_count": 18,
   "metadata": {},
   "outputs": [],
   "source": [
    "train_X, train_X_len = convert_and_pad_data(word_dict, train_X)\n",
    "test_X, test_X_len = convert_and_pad_data(word_dict, test_X)"
   ]
  },
  {
   "cell_type": "markdown",
   "metadata": {},
   "source": [
    "As a quick check to make sure that things are working as intended, check to see what one of the reviews in the training set looks like after having been processeed. Does this look reasonable? What is the length of a review in the training set?"
   ]
  },
  {
   "cell_type": "code",
   "execution_count": 19,
   "metadata": {},
   "outputs": [
    {
     "name": "stdout",
     "output_type": "stream",
     "text": [
      "500\n",
      "[ 500  234  164  303 2863   12   46  241 2210   85 2632 2744 4139    1\n",
      "  391 2534    3  418  282    7 1083    9    3  126    1  241  395    1\n",
      "   18  280 3464 1899 1206 1933  829  271  175  932 1623    1   33 3049\n",
      "   53   18    3   14   74   18 1206  400 1338 2502  725  241   85 3050\n",
      "  641 2143   85    1   33 1899    1  263   29  639    1   29  678  126\n",
      "  280   19  106 1534    1  783  669  366  280 1500  165  510 1543 2590\n",
      " 3049   85  304 3486 2210  391 4248  331 2554  169    5    0    0    0\n",
      "    0    0    0    0    0    0    0    0    0    0    0    0    0    0\n",
      "    0    0    0    0    0    0    0    0    0    0    0    0    0    0\n",
      "    0    0    0    0    0    0    0    0    0    0    0    0    0    0\n",
      "    0    0    0    0    0    0    0    0    0    0    0    0    0    0\n",
      "    0    0    0    0    0    0    0    0    0    0    0    0    0    0\n",
      "    0    0    0    0    0    0    0    0    0    0    0    0    0    0\n",
      "    0    0    0    0    0    0    0    0    0    0    0    0    0    0\n",
      "    0    0    0    0    0    0    0    0    0    0    0    0    0    0\n",
      "    0    0    0    0    0    0    0    0    0    0    0    0    0    0\n",
      "    0    0    0    0    0    0    0    0    0    0    0    0    0    0\n",
      "    0    0    0    0    0    0    0    0    0    0    0    0    0    0\n",
      "    0    0    0    0    0    0    0    0    0    0    0    0    0    0\n",
      "    0    0    0    0    0    0    0    0    0    0    0    0    0    0\n",
      "    0    0    0    0    0    0    0    0    0    0    0    0    0    0\n",
      "    0    0    0    0    0    0    0    0    0    0    0    0    0    0\n",
      "    0    0    0    0    0    0    0    0    0    0    0    0    0    0\n",
      "    0    0    0    0    0    0    0    0    0    0    0    0    0    0\n",
      "    0    0    0    0    0    0    0    0    0    0    0    0    0    0\n",
      "    0    0    0    0    0    0    0    0    0    0    0    0    0    0\n",
      "    0    0    0    0    0    0    0    0    0    0    0    0    0    0\n",
      "    0    0    0    0    0    0    0    0    0    0    0    0    0    0\n",
      "    0    0    0    0    0    0    0    0    0    0    0    0    0    0\n",
      "    0    0    0    0    0    0    0    0    0    0    0    0    0    0\n",
      "    0    0    0    0    0    0    0    0    0    0    0    0    0    0\n",
      "    0    0    0    0    0    0    0    0    0    0    0    0    0    0\n",
      "    0    0    0    0    0    0    0    0    0    0    0    0    0    0\n",
      "    0    0    0    0    0    0    0    0    0    0    0    0    0    0\n",
      "    0    0    0    0    0    0    0    0    0    0    0    0    0    0\n",
      "    0    0    0    0    0    0    0    0    0    0]\n"
     ]
    }
   ],
   "source": [
    "# Use this cell to examine one of the processed reviews to make sure everything is working as intended.\n",
    "print(len(train_X[0]))\n",
    "print(train_X[0])"
   ]
  },
  {
   "cell_type": "markdown",
   "metadata": {},
   "source": [
    "**Question:** In the cells above we use the `preprocess_data` and `convert_and_pad_data` methods to process both the training and testing set. Why or why not might this be a problem?"
   ]
  },
  {
   "cell_type": "markdown",
   "metadata": {},
   "source": [
    "**Answer:** Using the same preprocess steps for training and testing set should not be a problem. Acutally, this should be the right practice so that we know we are comparing apple to apple when we test the model."
   ]
  },
  {
   "cell_type": "markdown",
   "metadata": {},
   "source": [
    "## Step 3: Upload the data to S3\n",
    "\n",
    "As in the XGBoost notebook, we will need to upload the training dataset to S3 in order for our training code to access it. For now we will save it locally and we will upload to S3 later on.\n",
    "\n",
    "### Save the processed training dataset locally\n",
    "\n",
    "It is important to note the format of the data that we are saving as we will need to know it when we write the training code. In our case, each row of the dataset has the form `label`, `length`, `review[500]` where `review[500]` is a sequence of `500` integers representing the words in the review."
   ]
  },
  {
   "cell_type": "code",
   "execution_count": 20,
   "metadata": {},
   "outputs": [],
   "source": [
    "import pandas as pd\n",
    "    \n",
    "pd.concat([pd.DataFrame(train_y), pd.DataFrame(train_X_len), pd.DataFrame(train_X)], axis=1) \\\n",
    "        .to_csv(os.path.join(data_dir, 'train.csv'), header=False, index=False)"
   ]
  },
  {
   "cell_type": "markdown",
   "metadata": {},
   "source": [
    "### Uploading the training data\n",
    "\n",
    "\n",
    "Next, we need to upload the training data to the SageMaker default S3 bucket so that we can provide access to it while training our model."
   ]
  },
  {
   "cell_type": "code",
   "execution_count": 21,
   "metadata": {},
   "outputs": [],
   "source": [
    "import sagemaker\n",
    "\n",
    "sagemaker_session = sagemaker.Session()\n",
    "\n",
    "bucket = sagemaker_session.default_bucket()\n",
    "prefix = 'sagemaker/sentiment_rnn'\n",
    "\n",
    "role = sagemaker.get_execution_role()"
   ]
  },
  {
   "cell_type": "code",
   "execution_count": 22,
   "metadata": {},
   "outputs": [],
   "source": [
    "input_data = sagemaker_session.upload_data(path=data_dir, bucket=bucket, key_prefix=prefix)"
   ]
  },
  {
   "cell_type": "markdown",
   "metadata": {},
   "source": [
    "**NOTE:** The cell above uploads the entire contents of our data directory. This includes the `word_dict.pkl` file. This is fortunate as we will need this later on when we create an endpoint that accepts an arbitrary review. For now, we will just take note of the fact that it resides in the data directory (and so also in the S3 training bucket) and that we will need to make sure it gets saved in the model directory."
   ]
  },
  {
   "cell_type": "markdown",
   "metadata": {},
   "source": [
    "## Step 4: Build and Train the PyTorch Model\n",
    "\n",
    "In the XGBoost notebook we discussed what a model is in the SageMaker framework. In particular, a model comprises three objects\n",
    "\n",
    " - Model Artifacts,\n",
    " - Training Code, and\n",
    " - Inference Code,\n",
    " \n",
    "each of which interact with one another. In the XGBoost example we used training and inference code that was provided by Amazon. Here we will still be using containers provided by Amazon with the added benefit of being able to include our own custom code.\n",
    "\n",
    "We will start by implementing our own neural network in PyTorch along with a training script. For the purposes of this project we have provided the necessary model object in the `model.py` file, inside of the `train` folder. You can see the provided implementation by running the cell below."
   ]
  },
  {
   "cell_type": "code",
   "execution_count": 23,
   "metadata": {},
   "outputs": [
    {
     "name": "stdout",
     "output_type": "stream",
     "text": [
      "\u001b[34mimport\u001b[39;49;00m \u001b[04m\u001b[36mtorch\u001b[39;49;00m\u001b[04m\u001b[36m.\u001b[39;49;00m\u001b[04m\u001b[36mnn\u001b[39;49;00m \u001b[34mas\u001b[39;49;00m \u001b[04m\u001b[36mnn\u001b[39;49;00m\r\n",
      "\r\n",
      "\u001b[34mclass\u001b[39;49;00m \u001b[04m\u001b[32mLSTMClassifier\u001b[39;49;00m(nn.Module):\r\n",
      "    \u001b[33m\"\"\"\u001b[39;49;00m\r\n",
      "\u001b[33m    This is the simple RNN model we will be using to perform Sentiment Analysis.\u001b[39;49;00m\r\n",
      "\u001b[33m    \"\"\"\u001b[39;49;00m\r\n",
      "\r\n",
      "    \u001b[34mdef\u001b[39;49;00m \u001b[32m__init__\u001b[39;49;00m(\u001b[36mself\u001b[39;49;00m, embedding_dim, hidden_dim, vocab_size):\r\n",
      "        \u001b[33m\"\"\"\u001b[39;49;00m\r\n",
      "\u001b[33m        Initialize the model by settingg up the various layers.\u001b[39;49;00m\r\n",
      "\u001b[33m        \"\"\"\u001b[39;49;00m\r\n",
      "        \u001b[36msuper\u001b[39;49;00m(LSTMClassifier, \u001b[36mself\u001b[39;49;00m).\u001b[32m__init__\u001b[39;49;00m()\r\n",
      "\r\n",
      "        \u001b[36mself\u001b[39;49;00m.embedding = nn.Embedding(vocab_size, embedding_dim, padding_idx=\u001b[34m0\u001b[39;49;00m)\r\n",
      "        \u001b[36mself\u001b[39;49;00m.lstm = nn.LSTM(embedding_dim, hidden_dim)\r\n",
      "        \u001b[36mself\u001b[39;49;00m.dense = nn.Linear(in_features=hidden_dim, out_features=\u001b[34m1\u001b[39;49;00m)\r\n",
      "        \u001b[36mself\u001b[39;49;00m.sig = nn.Sigmoid()\r\n",
      "        \r\n",
      "        \u001b[36mself\u001b[39;49;00m.word_dict = \u001b[34mNone\u001b[39;49;00m\r\n",
      "\r\n",
      "    \u001b[34mdef\u001b[39;49;00m \u001b[32mforward\u001b[39;49;00m(\u001b[36mself\u001b[39;49;00m, x):\r\n",
      "        \u001b[33m\"\"\"\u001b[39;49;00m\r\n",
      "\u001b[33m        Perform a forward pass of our model on some input.\u001b[39;49;00m\r\n",
      "\u001b[33m        \"\"\"\u001b[39;49;00m\r\n",
      "        x = x.t()\r\n",
      "        lengths = x[\u001b[34m0\u001b[39;49;00m,:]\r\n",
      "        reviews = x[\u001b[34m1\u001b[39;49;00m:,:]\r\n",
      "        embeds = \u001b[36mself\u001b[39;49;00m.embedding(reviews)\r\n",
      "        lstm_out, _ = \u001b[36mself\u001b[39;49;00m.lstm(embeds)\r\n",
      "        out = \u001b[36mself\u001b[39;49;00m.dense(lstm_out)\r\n",
      "        out = out[lengths - \u001b[34m1\u001b[39;49;00m, \u001b[36mrange\u001b[39;49;00m(\u001b[36mlen\u001b[39;49;00m(lengths))]\r\n",
      "        \u001b[34mreturn\u001b[39;49;00m \u001b[36mself\u001b[39;49;00m.sig(out.squeeze())\r\n"
     ]
    }
   ],
   "source": [
    "!pygmentize train/model.py"
   ]
  },
  {
   "cell_type": "markdown",
   "metadata": {},
   "source": [
    "The important takeaway from the implementation provided is that there are three parameters that we may wish to tweak to improve the performance of our model. These are the embedding dimension, the hidden dimension and the size of the vocabulary. We will likely want to make these parameters configurable in the training script so that if we wish to modify them we do not need to modify the script itself. We will see how to do this later on. To start we will write some of the training code in the notebook so that we can more easily diagnose any issues that arise.\n",
    "\n",
    "First we will load a small portion of the training data set to use as a sample. It would be very time consuming to try and train the model completely in the notebook as we do not have access to a gpu and the compute instance that we are using is not particularly powerful. However, we can work on a small bit of the data to get a feel for how our training script is behaving."
   ]
  },
  {
   "cell_type": "code",
   "execution_count": 24,
   "metadata": {},
   "outputs": [],
   "source": [
    "import torch\n",
    "import torch.utils.data\n",
    "\n",
    "# Read in only the first 250 rows\n",
    "train_sample = pd.read_csv(os.path.join(data_dir, 'train.csv'), header=None, names=None, nrows=250)\n",
    "\n",
    "# Turn the input pandas dataframe into tensors\n",
    "train_sample_y = torch.from_numpy(train_sample[[0]].values).float().squeeze()\n",
    "train_sample_X = torch.from_numpy(train_sample.drop([0], axis=1).values).long()\n",
    "\n",
    "# Build the dataset\n",
    "train_sample_ds = torch.utils.data.TensorDataset(train_sample_X, train_sample_y)\n",
    "# Build the dataloader\n",
    "train_sample_dl = torch.utils.data.DataLoader(train_sample_ds, batch_size=50)"
   ]
  },
  {
   "cell_type": "markdown",
   "metadata": {},
   "source": [
    "### (TODO) Writing the training method\n",
    "\n",
    "Next we need to write the training code itself. This should be very similar to training methods that you have written before to train PyTorch models. We will leave any difficult aspects such as model saving / loading and parameter loading until a little later."
   ]
  },
  {
   "cell_type": "code",
   "execution_count": 29,
   "metadata": {},
   "outputs": [],
   "source": [
    "def train(model, train_loader, epochs, optimizer, loss_fn, device):\n",
    "    for epoch in range(1, epochs + 1):\n",
    "        model.train()\n",
    "        total_loss = 0\n",
    "        for batch in train_loader:         \n",
    "            batch_X, batch_y = batch\n",
    "            \n",
    "            batch_X = batch_X.to(device)\n",
    "            batch_y = batch_y.to(device)\n",
    "            \n",
    "            optimizer.zero_grad()\n",
    "            \n",
    "            # TODO: Complete this train method to train the model provided.\n",
    "            predict = model.forward(batch_X)\n",
    "            loss = loss_fn(predict, batch_y)\n",
    "            loss.backward()\n",
    "            optimizer.step()\n",
    "            total_loss += loss.data.item()\n",
    "        print(\"Epoch: {}, BCELoss: {}\".format(epoch, total_loss / len(train_loader)))"
   ]
  },
  {
   "cell_type": "markdown",
   "metadata": {},
   "source": [
    "Supposing we have the training method above, we will test that it is working by writing a bit of code in the notebook that executes our training method on the small sample training set that we loaded earlier. The reason for doing this in the notebook is so that we have an opportunity to fix any errors that arise early when they are easier to diagnose."
   ]
  },
  {
   "cell_type": "code",
   "execution_count": 30,
   "metadata": {},
   "outputs": [
    {
     "name": "stdout",
     "output_type": "stream",
     "text": [
      "Epoch: 1, BCELoss: 0.6946566581726075\n",
      "Epoch: 2, BCELoss: 0.6840082287788392\n",
      "Epoch: 3, BCELoss: 0.6726750135421753\n",
      "Epoch: 4, BCELoss: 0.659514582157135\n",
      "Epoch: 5, BCELoss: 0.6419317126274109\n"
     ]
    }
   ],
   "source": [
    "import torch.optim as optim\n",
    "from train.model import LSTMClassifier\n",
    "\n",
    "device = torch.device(\"cuda\" if torch.cuda.is_available() else \"cpu\")\n",
    "model = LSTMClassifier(32, 100, 5000).to(device)\n",
    "optimizer = optim.Adam(model.parameters())\n",
    "loss_fn = torch.nn.BCELoss()\n",
    "\n",
    "train(model, train_sample_dl, 5, optimizer, loss_fn, device)"
   ]
  },
  {
   "cell_type": "markdown",
   "metadata": {},
   "source": [
    "In order to construct a PyTorch model using SageMaker we must provide SageMaker with a training script. We may optionally include a directory which will be copied to the container and from which our training code will be run. When the training container is executed it will check the uploaded directory (if there is one) for a `requirements.txt` file and install any required Python libraries, after which the training script will be run."
   ]
  },
  {
   "cell_type": "markdown",
   "metadata": {},
   "source": [
    "### (TODO) Training the model\n",
    "\n",
    "When a PyTorch model is constructed in SageMaker, an entry point must be specified. This is the Python file which will be executed when the model is trained. Inside of the `train` directory is a file called `train.py` which has been provided and which contains most of the necessary code to train our model. The only thing that is missing is the implementation of the `train()` method which you wrote earlier in this notebook.\n",
    "\n",
    "**TODO**: Copy the `train()` method written above and paste it into the `train/train.py` file where required.\n",
    "\n",
    "The way that SageMaker passes hyperparameters to the training script is by way of arguments. These arguments can then be parsed and used in the training script. To see how this is done take a look at the provided `train/train.py` file."
   ]
  },
  {
   "cell_type": "code",
   "execution_count": 25,
   "metadata": {},
   "outputs": [],
   "source": [
    "from sagemaker.pytorch import PyTorch\n",
    "\n",
    "estimator = PyTorch(entry_point=\"train.py\",\n",
    "                    source_dir=\"train\",\n",
    "                    role=role,\n",
    "                    framework_version='0.4.0',\n",
    "                    train_instance_count=1,\n",
    "                    train_instance_type='ml.m4.xlarge',\n",
    "                    hyperparameters={\n",
    "                        'epochs': 10,\n",
    "                        'hidden_dim': 200,\n",
    "                    })"
   ]
  },
  {
   "cell_type": "code",
   "execution_count": 26,
   "metadata": {},
   "outputs": [
    {
     "name": "stderr",
     "output_type": "stream",
     "text": [
      "'create_image_uri' will be deprecated in favor of 'ImageURIProvider' class in SageMaker Python SDK v2.\n",
      "'s3_input' class will be renamed to 'TrainingInput' in SageMaker Python SDK v2.\n",
      "'create_image_uri' will be deprecated in favor of 'ImageURIProvider' class in SageMaker Python SDK v2.\n"
     ]
    },
    {
     "name": "stdout",
     "output_type": "stream",
     "text": [
      "2022-10-26 14:32:07 Starting - Starting the training job...\n",
      "2022-10-26 14:32:33 Starting - Preparing the instances for training............\n",
      "2022-10-26 14:34:36 Downloading - Downloading input data......\n",
      "2022-10-26 14:35:22 Training - Training image download completed. Training in progress.\u001b[34mbash: cannot set terminal process group (-1): Inappropriate ioctl for device\u001b[0m\n",
      "\u001b[34mbash: no job control in this shell\u001b[0m\n",
      "\u001b[34m2022-10-26 14:35:25,269 sagemaker-containers INFO     Imported framework sagemaker_pytorch_container.training\u001b[0m\n",
      "\u001b[34m2022-10-26 14:35:25,273 sagemaker-containers INFO     No GPUs detected (normal if no gpus installed)\u001b[0m\n",
      "\u001b[34m2022-10-26 14:35:25,293 sagemaker_pytorch_container.training INFO     Block until all host DNS lookups succeed.\u001b[0m\n",
      "\u001b[34m2022-10-26 14:35:25,302 sagemaker_pytorch_container.training INFO     Invoking user training script.\u001b[0m\n",
      "\u001b[34m2022-10-26 14:35:25,641 sagemaker-containers INFO     Module train does not provide a setup.py. \u001b[0m\n",
      "\u001b[34mGenerating setup.py\u001b[0m\n",
      "\u001b[34m2022-10-26 14:35:25,642 sagemaker-containers INFO     Generating setup.cfg\u001b[0m\n",
      "\u001b[34m2022-10-26 14:35:25,642 sagemaker-containers INFO     Generating MANIFEST.in\u001b[0m\n",
      "\u001b[34m2022-10-26 14:35:25,642 sagemaker-containers INFO     Installing module with the following command:\u001b[0m\n",
      "\u001b[34m/usr/bin/python -m pip install -U . -r requirements.txt\u001b[0m\n",
      "\u001b[34mProcessing /opt/ml/code\u001b[0m\n",
      "\u001b[34mCollecting pandas (from -r requirements.txt (line 1))\n",
      "  Downloading https://files.pythonhosted.org/packages/74/24/0cdbf8907e1e3bc5a8da03345c23cbed7044330bb8f73bb12e711a640a00/pandas-0.24.2-cp35-cp35m-manylinux1_x86_64.whl (10.0MB)\u001b[0m\n",
      "\u001b[34mCollecting numpy (from -r requirements.txt (line 2))\n",
      "  Downloading https://files.pythonhosted.org/packages/b5/36/88723426b4ff576809fec7d73594fe17a35c27f8d01f93637637a29ae25b/numpy-1.18.5-cp35-cp35m-manylinux1_x86_64.whl (19.9MB)\u001b[0m\n",
      "\u001b[34mCollecting nltk (from -r requirements.txt (line 3))\n",
      "  Downloading https://files.pythonhosted.org/packages/5e/37/9532ddd4b1bbb619333d5708aaad9bf1742f051a664c3c6fa6632a105fd8/nltk-3.6.2-py3-none-any.whl (1.5MB)\u001b[0m\n",
      "\u001b[34mCollecting beautifulsoup4 (from -r requirements.txt (line 4))\n",
      "  Downloading https://files.pythonhosted.org/packages/69/bf/f0f194d3379d3f3347478bd267f754fc68c11cbf2fe302a6ab69447b1417/beautifulsoup4-4.10.0-py3-none-any.whl (97kB)\u001b[0m\n",
      "\u001b[34mCollecting html5lib (from -r requirements.txt (line 5))\u001b[0m\n",
      "\u001b[34m  Downloading https://files.pythonhosted.org/packages/6c/dd/a834df6482147d48e225a49515aabc28974ad5a4ca3215c18a882565b028/html5lib-1.1-py2.py3-none-any.whl (112kB)\u001b[0m\n",
      "\u001b[34mCollecting pytz>=2011k (from pandas->-r requirements.txt (line 1))\n",
      "  Downloading https://files.pythonhosted.org/packages/b5/d7/91fd8911d22e7fac794803095dd192bf1ebd70c7603272085230d915e738/pytz-2022.5-py2.py3-none-any.whl (500kB)\u001b[0m\n",
      "\u001b[34mRequirement already satisfied, skipping upgrade: python-dateutil>=2.5.0 in /usr/local/lib/python3.5/dist-packages (from pandas->-r requirements.txt (line 1)) (2.7.5)\u001b[0m\n",
      "\u001b[34mRequirement already satisfied, skipping upgrade: click in /usr/local/lib/python3.5/dist-packages (from nltk->-r requirements.txt (line 3)) (7.0)\u001b[0m\n",
      "\u001b[34mCollecting joblib (from nltk->-r requirements.txt (line 3))\n",
      "  Downloading https://files.pythonhosted.org/packages/28/5c/cf6a2b65a321c4a209efcdf64c2689efae2cb62661f8f6f4bb28547cf1bf/joblib-0.14.1-py2.py3-none-any.whl (294kB)\u001b[0m\n",
      "\u001b[34mCollecting regex (from nltk->-r requirements.txt (line 3))\u001b[0m\n",
      "\u001b[34m  Downloading https://files.pythonhosted.org/packages/4c/75/b5b60055897d78882da8bc4c94609067cf531a42726df2e44ce69e8ec7a9/regex-2022.1.18.tar.gz (382kB)\u001b[0m\n",
      "\u001b[34mCollecting tqdm (from nltk->-r requirements.txt (line 3))\n",
      "  Downloading https://files.pythonhosted.org/packages/47/bb/849011636c4da2e44f1253cd927cfb20ada4374d8b3a4e425416e84900cc/tqdm-4.64.1-py2.py3-none-any.whl (78kB)\u001b[0m\n",
      "\u001b[34mCollecting soupsieve>1.2 (from beautifulsoup4->-r requirements.txt (line 4))\n",
      "  Downloading https://files.pythonhosted.org/packages/02/fb/1c65691a9aeb7bd6ac2aa505b84cb8b49ac29c976411c6ab3659425e045f/soupsieve-2.1-py3-none-any.whl\u001b[0m\n",
      "\u001b[34mCollecting webencodings (from html5lib->-r requirements.txt (line 5))\n",
      "  Downloading https://files.pythonhosted.org/packages/f4/24/2a3e3df732393fed8b3ebf2ec078f05546de641fe1b667ee316ec1dcf3b7/webencodings-0.5.1-py2.py3-none-any.whl\u001b[0m\n",
      "\u001b[34mRequirement already satisfied, skipping upgrade: six>=1.9 in /usr/local/lib/python3.5/dist-packages (from html5lib->-r requirements.txt (line 5)) (1.11.0)\u001b[0m\n",
      "\u001b[34mCollecting importlib-resources; python_version < \"3.7\" (from tqdm->nltk->-r requirements.txt (line 3))\n",
      "  Downloading https://files.pythonhosted.org/packages/e6/b5/ca7ff4e244ae51e70f603889fcd67ee142050b539b3e2f40fbbd8ca316b5/importlib_resources-3.2.1-py2.py3-none-any.whl\u001b[0m\n",
      "\u001b[34mCollecting zipp>=0.4; python_version < \"3.8\" (from importlib-resources; python_version < \"3.7\"->tqdm->nltk->-r requirements.txt (line 3))\n",
      "  Downloading https://files.pythonhosted.org/packages/96/0a/67556e9b7782df7118c1f49bdc494da5e5e429c93aa77965f33e81287c8c/zipp-1.2.0-py2.py3-none-any.whl\u001b[0m\n",
      "\u001b[34mBuilding wheels for collected packages: train, regex\n",
      "  Running setup.py bdist_wheel for train: started\u001b[0m\n",
      "\u001b[34m  Running setup.py bdist_wheel for train: finished with status 'done'\n",
      "  Stored in directory: /tmp/pip-ephem-wheel-cache-ey6gsb8u/wheels/35/24/16/37574d11bf9bde50616c67372a334f94fa8356bc7164af8ca3\n",
      "  Running setup.py bdist_wheel for regex: started\u001b[0m\n",
      "\u001b[34m  Running setup.py bdist_wheel for regex: finished with status 'done'\n",
      "  Stored in directory: /root/.cache/pip/wheels/91/d2/b9/77522f50d9ec6ab6c755f54d9dfed385ae6afd1b7296bbbcc2\u001b[0m\n",
      "\u001b[34mSuccessfully built train regex\u001b[0m\n",
      "\u001b[34mInstalling collected packages: numpy, pytz, pandas, joblib, regex, zipp, importlib-resources, tqdm, nltk, soupsieve, beautifulsoup4, webencodings, html5lib, train\n",
      "  Found existing installation: numpy 1.15.4\u001b[0m\n",
      "\u001b[34m    Uninstalling numpy-1.15.4:\u001b[0m\n",
      "\u001b[34m      Successfully uninstalled numpy-1.15.4\u001b[0m\n",
      "\u001b[34mSuccessfully installed beautifulsoup4-4.10.0 html5lib-1.1 importlib-resources-3.2.1 joblib-0.14.1 nltk-3.6.2 numpy-1.18.5 pandas-0.24.2 pytz-2022.5 regex-2022.1.18 soupsieve-2.1 tqdm-4.64.1 train-1.0.0 webencodings-0.5.1 zipp-1.2.0\u001b[0m\n",
      "\u001b[34mYou are using pip version 18.1, however version 20.3.4 is available.\u001b[0m\n",
      "\u001b[34mYou should consider upgrading via the 'pip install --upgrade pip' command.\u001b[0m\n",
      "\u001b[34m2022-10-26 14:35:52,268 sagemaker-containers INFO     No GPUs detected (normal if no gpus installed)\u001b[0m\n",
      "\u001b[34m2022-10-26 14:35:52,284 sagemaker-containers INFO     Invoking user script\u001b[0m\n",
      "\u001b[34mTraining Env:\u001b[0m\n",
      "\u001b[34m{\n",
      "    \"network_interface_name\": \"eth0\",\n",
      "    \"resource_config\": {\n",
      "        \"network_interface_name\": \"eth0\",\n",
      "        \"hosts\": [\n",
      "            \"algo-1\"\n",
      "        ],\n",
      "        \"current_group_name\": \"homogeneousCluster\",\n",
      "        \"current_host\": \"algo-1\",\n",
      "        \"instance_groups\": [\n",
      "            {\n",
      "                \"hosts\": [\n",
      "                    \"algo-1\"\n",
      "                ],\n",
      "                \"instance_group_name\": \"homogeneousCluster\",\n",
      "                \"instance_type\": \"ml.m4.xlarge\"\n",
      "            }\n",
      "        ],\n",
      "        \"current_instance_type\": \"ml.m4.xlarge\"\n",
      "    },\n",
      "    \"current_host\": \"algo-1\",\n",
      "    \"hosts\": [\n",
      "        \"algo-1\"\n",
      "    ],\n",
      "    \"input_dir\": \"/opt/ml/input\",\n",
      "    \"input_config_dir\": \"/opt/ml/input/config\",\n",
      "    \"output_dir\": \"/opt/ml/output\",\n",
      "    \"user_entry_point\": \"train.py\",\n",
      "    \"module_name\": \"train\",\n",
      "    \"output_intermediate_dir\": \"/opt/ml/output/intermediate\",\n",
      "    \"additional_framework_parameters\": {},\n",
      "    \"hyperparameters\": {\n",
      "        \"hidden_dim\": 200,\n",
      "        \"epochs\": 10\n",
      "    },\n",
      "    \"output_data_dir\": \"/opt/ml/output/data\",\n",
      "    \"num_cpus\": 4,\n",
      "    \"input_data_config\": {\n",
      "        \"training\": {\n",
      "            \"RecordWrapperType\": \"None\",\n",
      "            \"S3DistributionType\": \"FullyReplicated\",\n",
      "            \"TrainingInputMode\": \"File\"\n",
      "        }\n",
      "    },\n",
      "    \"model_dir\": \"/opt/ml/model\",\n",
      "    \"module_dir\": \"s3://sagemaker-us-east-1-875258181512/sagemaker-pytorch-2022-10-26-14-32-06-626/source/sourcedir.tar.gz\",\n",
      "    \"framework_module\": \"sagemaker_pytorch_container.training:main\",\n",
      "    \"job_name\": \"sagemaker-pytorch-2022-10-26-14-32-06-626\",\n",
      "    \"num_gpus\": 0,\n",
      "    \"channel_input_dirs\": {\n",
      "        \"training\": \"/opt/ml/input/data/training\"\n",
      "    },\n",
      "    \"log_level\": 20\u001b[0m\n",
      "\u001b[34m}\u001b[0m\n",
      "\u001b[34mEnvironment variables:\u001b[0m\n",
      "\u001b[34mSM_MODEL_DIR=/opt/ml/model\u001b[0m\n",
      "\u001b[34mSM_NETWORK_INTERFACE_NAME=eth0\u001b[0m\n",
      "\u001b[34mSM_INPUT_DATA_CONFIG={\"training\":{\"RecordWrapperType\":\"None\",\"S3DistributionType\":\"FullyReplicated\",\"TrainingInputMode\":\"File\"}}\u001b[0m\n",
      "\u001b[34mSM_HOSTS=[\"algo-1\"]\u001b[0m\n",
      "\u001b[34mSM_CHANNELS=[\"training\"]\u001b[0m\n",
      "\u001b[34mSM_TRAINING_ENV={\"additional_framework_parameters\":{},\"channel_input_dirs\":{\"training\":\"/opt/ml/input/data/training\"},\"current_host\":\"algo-1\",\"framework_module\":\"sagemaker_pytorch_container.training:main\",\"hosts\":[\"algo-1\"],\"hyperparameters\":{\"epochs\":10,\"hidden_dim\":200},\"input_config_dir\":\"/opt/ml/input/config\",\"input_data_config\":{\"training\":{\"RecordWrapperType\":\"None\",\"S3DistributionType\":\"FullyReplicated\",\"TrainingInputMode\":\"File\"}},\"input_dir\":\"/opt/ml/input\",\"job_name\":\"sagemaker-pytorch-2022-10-26-14-32-06-626\",\"log_level\":20,\"model_dir\":\"/opt/ml/model\",\"module_dir\":\"s3://sagemaker-us-east-1-875258181512/sagemaker-pytorch-2022-10-26-14-32-06-626/source/sourcedir.tar.gz\",\"module_name\":\"train\",\"network_interface_name\":\"eth0\",\"num_cpus\":4,\"num_gpus\":0,\"output_data_dir\":\"/opt/ml/output/data\",\"output_dir\":\"/opt/ml/output\",\"output_intermediate_dir\":\"/opt/ml/output/intermediate\",\"resource_config\":{\"current_group_name\":\"homogeneousCluster\",\"current_host\":\"algo-1\",\"current_instance_type\":\"ml.m4.xlarge\",\"hosts\":[\"algo-1\"],\"instance_groups\":[{\"hosts\":[\"algo-1\"],\"instance_group_name\":\"homogeneousCluster\",\"instance_type\":\"ml.m4.xlarge\"}],\"network_interface_name\":\"eth0\"},\"user_entry_point\":\"train.py\"}\u001b[0m\n",
      "\u001b[34mSM_HP_EPOCHS=10\u001b[0m\n",
      "\u001b[34mSM_USER_ARGS=[\"--epochs\",\"10\",\"--hidden_dim\",\"200\"]\u001b[0m\n",
      "\u001b[34mSM_FRAMEWORK_PARAMS={}\u001b[0m\n",
      "\u001b[34mSM_NUM_GPUS=0\u001b[0m\n",
      "\u001b[34mSM_CURRENT_HOST=algo-1\u001b[0m\n",
      "\u001b[34mSM_MODULE_DIR=s3://sagemaker-us-east-1-875258181512/sagemaker-pytorch-2022-10-26-14-32-06-626/source/sourcedir.tar.gz\u001b[0m\n",
      "\u001b[34mSM_INPUT_CONFIG_DIR=/opt/ml/input/config\u001b[0m\n",
      "\u001b[34mSM_HP_HIDDEN_DIM=200\u001b[0m\n",
      "\u001b[34mSM_INPUT_DIR=/opt/ml/input\u001b[0m\n",
      "\u001b[34mSM_NUM_CPUS=4\u001b[0m\n",
      "\u001b[34mSM_CHANNEL_TRAINING=/opt/ml/input/data/training\u001b[0m\n",
      "\u001b[34mSM_MODULE_NAME=train\u001b[0m\n",
      "\u001b[34mSM_OUTPUT_INTERMEDIATE_DIR=/opt/ml/output/intermediate\u001b[0m\n",
      "\u001b[34mSM_USER_ENTRY_POINT=train.py\u001b[0m\n",
      "\u001b[34mSM_RESOURCE_CONFIG={\"current_group_name\":\"homogeneousCluster\",\"current_host\":\"algo-1\",\"current_instance_type\":\"ml.m4.xlarge\",\"hosts\":[\"algo-1\"],\"instance_groups\":[{\"hosts\":[\"algo-1\"],\"instance_group_name\":\"homogeneousCluster\",\"instance_type\":\"ml.m4.xlarge\"}],\"network_interface_name\":\"eth0\"}\u001b[0m\n",
      "\u001b[34mSM_OUTPUT_DATA_DIR=/opt/ml/output/data\u001b[0m\n",
      "\u001b[34mPYTHONPATH=/usr/local/bin:/usr/lib/python35.zip:/usr/lib/python3.5:/usr/lib/python3.5/plat-x86_64-linux-gnu:/usr/lib/python3.5/lib-dynload:/usr/local/lib/python3.5/dist-packages:/usr/lib/python3/dist-packages\u001b[0m\n",
      "\u001b[34mSM_LOG_LEVEL=20\u001b[0m\n",
      "\u001b[34mSM_OUTPUT_DIR=/opt/ml/output\u001b[0m\n",
      "\u001b[34mSM_HPS={\"epochs\":10,\"hidden_dim\":200}\u001b[0m\n",
      "\u001b[34mSM_FRAMEWORK_MODULE=sagemaker_pytorch_container.training:main\u001b[0m\n",
      "\u001b[34mInvoking script with the following command:\u001b[0m\n",
      "\u001b[34m/usr/bin/python -m train --epochs 10 --hidden_dim 200\u001b[0m\n",
      "\u001b[34mUsing device cpu.\u001b[0m\n",
      "\u001b[34mGet train data loader.\u001b[0m\n",
      "\u001b[34mModel loaded with embedding_dim 32, hidden_dim 200, vocab_size 5000.\u001b[0m\n",
      "\u001b[34mEpoch: 1, BCELoss: 0.6774568399604486\u001b[0m\n",
      "\u001b[34mEpoch: 2, BCELoss: 0.6466116211852249\u001b[0m\n",
      "\u001b[34mEpoch: 3, BCELoss: 0.611251447881971\u001b[0m\n",
      "\u001b[34mEpoch: 4, BCELoss: 0.5585847125977886\u001b[0m\n",
      "\u001b[34mEpoch: 5, BCELoss: 0.5949682240583458\u001b[0m\n",
      "\u001b[34mEpoch: 6, BCELoss: 0.5221696976496248\u001b[0m\n",
      "\u001b[34mEpoch: 7, BCELoss: 0.5368847962544889\u001b[0m\n",
      "\u001b[34mEpoch: 8, BCELoss: 0.5158322605551505\u001b[0m\n",
      "\u001b[34mEpoch: 9, BCELoss: 0.519176572561264\u001b[0m\n",
      "\n",
      "2022-10-26 17:36:16 Uploading - Uploading generated training model\u001b[34mEpoch: 10, BCELoss: 0.5638095572286722\u001b[0m\n",
      "\u001b[34m2022-10-26 17:36:12,676 sagemaker-containers INFO     Reporting training SUCCESS\u001b[0m\n",
      "\n",
      "2022-10-26 17:36:33 Completed - Training job completed\n",
      "Training seconds: 10917\n",
      "Billable seconds: 10917\n"
     ]
    }
   ],
   "source": [
    "estimator.fit({'training': input_data})"
   ]
  },
  {
   "cell_type": "markdown",
   "metadata": {},
   "source": [
    "## Step 5: Testing the model\n",
    "\n",
    "As mentioned at the top of this notebook, we will be testing this model by first deploying it and then sending the testing data to the deployed endpoint. We will do this so that we can make sure that the deployed model is working correctly.\n",
    "\n",
    "## Step 6: Deploy the model for testing\n",
    "\n",
    "Now that we have trained our model, we would like to test it to see how it performs. Currently our model takes input of the form `review_length, review[500]` where `review[500]` is a sequence of `500` integers which describe the words present in the review, encoded using `word_dict`. Fortunately for us, SageMaker provides built-in inference code for models with simple inputs such as this.\n",
    "\n",
    "There is one thing that we need to provide, however, and that is a function which loads the saved model. This function must be called `model_fn()` and takes as its only parameter a path to the directory where the model artifacts are stored. This function must also be present in the python file which we specified as the entry point. In our case the model loading function has been provided and so no changes need to be made.\n",
    "\n",
    "**NOTE**: When the built-in inference code is run it must import the `model_fn()` method from the `train.py` file. This is why the training code is wrapped in a main guard ( ie, `if __name__ == '__main__':` )\n",
    "\n",
    "Since we don't need to change anything in the code that was uploaded during training, we can simply deploy the current model as-is.\n",
    "\n",
    "**NOTE:** When deploying a model you are asking SageMaker to launch an compute instance that will wait for data to be sent to it. As a result, this compute instance will continue to run until *you* shut it down. This is important to know since the cost of a deployed endpoint depends on how long it has been running for.\n",
    "\n",
    "In other words **If you are no longer using a deployed endpoint, shut it down!**\n",
    "\n",
    "**TODO:** Deploy the trained model."
   ]
  },
  {
   "cell_type": "code",
   "execution_count": 31,
   "metadata": {},
   "outputs": [
    {
     "name": "stderr",
     "output_type": "stream",
     "text": [
      "Parameter image will be renamed to image_uri in SageMaker Python SDK v2.\n",
      "'create_image_uri' will be deprecated in favor of 'ImageURIProvider' class in SageMaker Python SDK v2.\n",
      "Using already existing model: sagemaker-pytorch-2022-10-26-14-32-06-626\n"
     ]
    },
    {
     "name": "stdout",
     "output_type": "stream",
     "text": [
      "--------!"
     ]
    }
   ],
   "source": [
    "# TODO: Deploy the trained model\n",
    "predictor = estimator.deploy(initial_instance_count=1, instance_type='ml.m4.xlarge')"
   ]
  },
  {
   "cell_type": "markdown",
   "metadata": {},
   "source": [
    "## Step 7 - Use the model for testing\n",
    "\n",
    "Once deployed, we can read in the test data and send it off to our deployed model to get some results. Once we collect all of the results we can determine how accurate our model is."
   ]
  },
  {
   "cell_type": "code",
   "execution_count": 32,
   "metadata": {},
   "outputs": [],
   "source": [
    "test_X = pd.concat([pd.DataFrame(test_X_len), pd.DataFrame(test_X)], axis=1)"
   ]
  },
  {
   "cell_type": "code",
   "execution_count": 33,
   "metadata": {},
   "outputs": [],
   "source": [
    "# We split the data into chunks and send each chunk seperately, accumulating the results.\n",
    "\n",
    "def predict(data, rows=512):\n",
    "    split_array = np.array_split(data, int(data.shape[0] / float(rows) + 1))\n",
    "    predictions = np.array([])\n",
    "    for array in split_array:\n",
    "        predictions = np.append(predictions, predictor.predict(array))\n",
    "    \n",
    "    return predictions"
   ]
  },
  {
   "cell_type": "code",
   "execution_count": 34,
   "metadata": {},
   "outputs": [],
   "source": [
    "predictions = predict(test_X.values)\n",
    "predictions = [round(num) for num in predictions]"
   ]
  },
  {
   "cell_type": "code",
   "execution_count": 35,
   "metadata": {},
   "outputs": [
    {
     "data": {
      "text/plain": [
       "0.70124"
      ]
     },
     "execution_count": 35,
     "metadata": {},
     "output_type": "execute_result"
    }
   ],
   "source": [
    "from sklearn.metrics import accuracy_score\n",
    "accuracy_score(test_y, predictions)"
   ]
  },
  {
   "cell_type": "markdown",
   "metadata": {},
   "source": [
    "**Question:** How does this model compare to the XGBoost model you created earlier? Why might these two models perform differently on this dataset? Which do *you* think is better for sentiment analysis?"
   ]
  },
  {
   "cell_type": "markdown",
   "metadata": {},
   "source": [
    "**Answer:** This model performance slightly better because it's RNN that takes consideration of the context instead of single words."
   ]
  },
  {
   "cell_type": "markdown",
   "metadata": {},
   "source": [
    "### (TODO) More testing\n",
    "\n",
    "We now have a trained model which has been deployed and which we can send processed reviews to and which returns the predicted sentiment. However, ultimately we would like to be able to send our model an unprocessed review. That is, we would like to send the review itself as a string. For example, suppose we wish to send the following review to our model."
   ]
  },
  {
   "cell_type": "code",
   "execution_count": 36,
   "metadata": {},
   "outputs": [],
   "source": [
    "test_review = 'The simplest pleasures in life are the best, and this film is one of them. Combining a rather basic storyline of love and adventure this movie transcends the usual weekend fair with wit and unmitigated charm.'"
   ]
  },
  {
   "cell_type": "markdown",
   "metadata": {},
   "source": [
    "The question we now need to answer is, how do we send this review to our model?\n",
    "\n",
    "Recall in the first section of this notebook we did a bunch of data processing to the IMDb dataset. In particular, we did two specific things to the provided reviews.\n",
    " - Removed any html tags and stemmed the input\n",
    " - Encoded the review as a sequence of integers using `word_dict`\n",
    " \n",
    "In order process the review we will need to repeat these two steps.\n",
    "\n",
    "**TODO**: Using the `review_to_words` and `convert_and_pad` methods from section one, convert `test_review` into a numpy array `test_data` suitable to send to our model. Remember that our model expects input of the form `review_length, review[500]`. So make sure you produce two variables from processing: \n",
    "- A sequence of length 500 which represents the converted review\n",
    "- The length of the review"
   ]
  },
  {
   "cell_type": "code",
   "execution_count": 37,
   "metadata": {},
   "outputs": [],
   "source": [
    "# TODO: Convert test_review into a form usable by the model and save the results in test_data\n",
    "test_data_int, len_test  = convert_and_pad(word_dict, review_to_words(test_review))\n",
    "test_data = np.array([np.array([len_test] + test_data_int)])"
   ]
  },
  {
   "cell_type": "markdown",
   "metadata": {},
   "source": [
    "Now that we have processed the review, we can send the resulting array to our model to predict the sentiment of the review."
   ]
  },
  {
   "cell_type": "code",
   "execution_count": 38,
   "metadata": {},
   "outputs": [
    {
     "data": {
      "text/plain": [
       "array(0.88108635, dtype=float32)"
      ]
     },
     "execution_count": 38,
     "metadata": {},
     "output_type": "execute_result"
    }
   ],
   "source": [
    "predictor.predict(test_data)"
   ]
  },
  {
   "cell_type": "markdown",
   "metadata": {},
   "source": [
    "Since the return value of our model is close to `1`, we can be certain that the review we submitted is positive."
   ]
  },
  {
   "cell_type": "markdown",
   "metadata": {},
   "source": [
    "### Delete the endpoint\n",
    "\n",
    "Of course, just like in the XGBoost notebook, once we've deployed an endpoint it continues to run until we tell it to shut down. Since we are done using our endpoint for now, we can delete it."
   ]
  },
  {
   "cell_type": "code",
   "execution_count": 39,
   "metadata": {},
   "outputs": [
    {
     "name": "stderr",
     "output_type": "stream",
     "text": [
      "estimator.delete_endpoint() will be deprecated in SageMaker Python SDK v2. Please use the delete_endpoint() function on your predictor instead.\n"
     ]
    }
   ],
   "source": [
    "estimator.delete_endpoint()"
   ]
  },
  {
   "cell_type": "markdown",
   "metadata": {},
   "source": [
    "## Step 6 (again) - Deploy the model for the web app\n",
    "\n",
    "Now that we know that our model is working, it's time to create some custom inference code so that we can send the model a review which has not been processed and have it determine the sentiment of the review.\n",
    "\n",
    "As we saw above, by default the estimator which we created, when deployed, will use the entry script and directory which we provided when creating the model. However, since we now wish to accept a string as input and our model expects a processed review, we need to write some custom inference code.\n",
    "\n",
    "We will store the code that we write in the `serve` directory. Provided in this directory is the `model.py` file that we used to construct our model, a `utils.py` file which contains the `review_to_words` and `convert_and_pad` pre-processing functions which we used during the initial data processing, and `predict.py`, the file which will contain our custom inference code. Note also that `requirements.txt` is present which will tell SageMaker what Python libraries are required by our custom inference code.\n",
    "\n",
    "When deploying a PyTorch model in SageMaker, you are expected to provide four functions which the SageMaker inference container will use.\n",
    " - `model_fn`: This function is the same function that we used in the training script and it tells SageMaker how to load our model.\n",
    " - `input_fn`: This function receives the raw serialized input that has been sent to the model's endpoint and its job is to de-serialize and make the input available for the inference code.\n",
    " - `output_fn`: This function takes the output of the inference code and its job is to serialize this output and return it to the caller of the model's endpoint.\n",
    " - `predict_fn`: The heart of the inference script, this is where the actual prediction is done and is the function which you will need to complete.\n",
    "\n",
    "For the simple website that we are constructing during this project, the `input_fn` and `output_fn` methods are relatively straightforward. We only require being able to accept a string as input and we expect to return a single value as output. You might imagine though that in a more complex application the input or output may be image data or some other binary data which would require some effort to serialize.\n",
    "\n",
    "### (TODO) Writing inference code\n",
    "\n",
    "Before writing our custom inference code, we will begin by taking a look at the code which has been provided."
   ]
  },
  {
   "cell_type": "code",
   "execution_count": 40,
   "metadata": {},
   "outputs": [
    {
     "name": "stdout",
     "output_type": "stream",
     "text": [
      "\u001b[34mimport\u001b[39;49;00m \u001b[04m\u001b[36margparse\u001b[39;49;00m\r\n",
      "\u001b[34mimport\u001b[39;49;00m \u001b[04m\u001b[36mjson\u001b[39;49;00m\r\n",
      "\u001b[34mimport\u001b[39;49;00m \u001b[04m\u001b[36mos\u001b[39;49;00m\r\n",
      "\u001b[34mimport\u001b[39;49;00m \u001b[04m\u001b[36mpickle\u001b[39;49;00m\r\n",
      "\u001b[34mimport\u001b[39;49;00m \u001b[04m\u001b[36msys\u001b[39;49;00m\r\n",
      "\u001b[34mimport\u001b[39;49;00m \u001b[04m\u001b[36msagemaker_containers\u001b[39;49;00m\r\n",
      "\u001b[34mimport\u001b[39;49;00m \u001b[04m\u001b[36mpandas\u001b[39;49;00m \u001b[34mas\u001b[39;49;00m \u001b[04m\u001b[36mpd\u001b[39;49;00m\r\n",
      "\u001b[34mimport\u001b[39;49;00m \u001b[04m\u001b[36mnumpy\u001b[39;49;00m \u001b[34mas\u001b[39;49;00m \u001b[04m\u001b[36mnp\u001b[39;49;00m\r\n",
      "\u001b[34mimport\u001b[39;49;00m \u001b[04m\u001b[36mtorch\u001b[39;49;00m\r\n",
      "\u001b[34mimport\u001b[39;49;00m \u001b[04m\u001b[36mtorch\u001b[39;49;00m\u001b[04m\u001b[36m.\u001b[39;49;00m\u001b[04m\u001b[36mnn\u001b[39;49;00m \u001b[34mas\u001b[39;49;00m \u001b[04m\u001b[36mnn\u001b[39;49;00m\r\n",
      "\u001b[34mimport\u001b[39;49;00m \u001b[04m\u001b[36mtorch\u001b[39;49;00m\u001b[04m\u001b[36m.\u001b[39;49;00m\u001b[04m\u001b[36moptim\u001b[39;49;00m \u001b[34mas\u001b[39;49;00m \u001b[04m\u001b[36moptim\u001b[39;49;00m\r\n",
      "\u001b[34mimport\u001b[39;49;00m \u001b[04m\u001b[36mtorch\u001b[39;49;00m\u001b[04m\u001b[36m.\u001b[39;49;00m\u001b[04m\u001b[36mutils\u001b[39;49;00m\u001b[04m\u001b[36m.\u001b[39;49;00m\u001b[04m\u001b[36mdata\u001b[39;49;00m\r\n",
      "\r\n",
      "\u001b[34mfrom\u001b[39;49;00m \u001b[04m\u001b[36mmodel\u001b[39;49;00m \u001b[34mimport\u001b[39;49;00m LSTMClassifier\r\n",
      "\r\n",
      "\u001b[34mfrom\u001b[39;49;00m \u001b[04m\u001b[36mutils\u001b[39;49;00m \u001b[34mimport\u001b[39;49;00m review_to_words, convert_and_pad\r\n",
      "\r\n",
      "\u001b[34mdef\u001b[39;49;00m \u001b[32mmodel_fn\u001b[39;49;00m(model_dir):\r\n",
      "    \u001b[33m\"\"\"Load the PyTorch model from the `model_dir` directory.\"\"\"\u001b[39;49;00m\r\n",
      "    \u001b[36mprint\u001b[39;49;00m(\u001b[33m\"\u001b[39;49;00m\u001b[33mLoading model.\u001b[39;49;00m\u001b[33m\"\u001b[39;49;00m)\r\n",
      "\r\n",
      "    \u001b[37m# First, load the parameters used to create the model.\u001b[39;49;00m\r\n",
      "    model_info = {}\r\n",
      "    model_info_path = os.path.join(model_dir, \u001b[33m'\u001b[39;49;00m\u001b[33mmodel_info.pth\u001b[39;49;00m\u001b[33m'\u001b[39;49;00m)\r\n",
      "    \u001b[34mwith\u001b[39;49;00m \u001b[36mopen\u001b[39;49;00m(model_info_path, \u001b[33m'\u001b[39;49;00m\u001b[33mrb\u001b[39;49;00m\u001b[33m'\u001b[39;49;00m) \u001b[34mas\u001b[39;49;00m f:\r\n",
      "        model_info = torch.load(f)\r\n",
      "\r\n",
      "    \u001b[36mprint\u001b[39;49;00m(\u001b[33m\"\u001b[39;49;00m\u001b[33mmodel_info: \u001b[39;49;00m\u001b[33m{}\u001b[39;49;00m\u001b[33m\"\u001b[39;49;00m.format(model_info))\r\n",
      "\r\n",
      "    \u001b[37m# Determine the device and construct the model.\u001b[39;49;00m\r\n",
      "    device = torch.device(\u001b[33m\"\u001b[39;49;00m\u001b[33mcuda\u001b[39;49;00m\u001b[33m\"\u001b[39;49;00m \u001b[34mif\u001b[39;49;00m torch.cuda.is_available() \u001b[34melse\u001b[39;49;00m \u001b[33m\"\u001b[39;49;00m\u001b[33mcpu\u001b[39;49;00m\u001b[33m\"\u001b[39;49;00m)\r\n",
      "    model = LSTMClassifier(model_info[\u001b[33m'\u001b[39;49;00m\u001b[33membedding_dim\u001b[39;49;00m\u001b[33m'\u001b[39;49;00m], model_info[\u001b[33m'\u001b[39;49;00m\u001b[33mhidden_dim\u001b[39;49;00m\u001b[33m'\u001b[39;49;00m], model_info[\u001b[33m'\u001b[39;49;00m\u001b[33mvocab_size\u001b[39;49;00m\u001b[33m'\u001b[39;49;00m])\r\n",
      "\r\n",
      "    \u001b[37m# Load the store model parameters.\u001b[39;49;00m\r\n",
      "    model_path = os.path.join(model_dir, \u001b[33m'\u001b[39;49;00m\u001b[33mmodel.pth\u001b[39;49;00m\u001b[33m'\u001b[39;49;00m)\r\n",
      "    \u001b[34mwith\u001b[39;49;00m \u001b[36mopen\u001b[39;49;00m(model_path, \u001b[33m'\u001b[39;49;00m\u001b[33mrb\u001b[39;49;00m\u001b[33m'\u001b[39;49;00m) \u001b[34mas\u001b[39;49;00m f:\r\n",
      "        model.load_state_dict(torch.load(f))\r\n",
      "\r\n",
      "    \u001b[37m# Load the saved word_dict.\u001b[39;49;00m\r\n",
      "    word_dict_path = os.path.join(model_dir, \u001b[33m'\u001b[39;49;00m\u001b[33mword_dict.pkl\u001b[39;49;00m\u001b[33m'\u001b[39;49;00m)\r\n",
      "    \u001b[34mwith\u001b[39;49;00m \u001b[36mopen\u001b[39;49;00m(word_dict_path, \u001b[33m'\u001b[39;49;00m\u001b[33mrb\u001b[39;49;00m\u001b[33m'\u001b[39;49;00m) \u001b[34mas\u001b[39;49;00m f:\r\n",
      "        model.word_dict = pickle.load(f)\r\n",
      "\r\n",
      "    model.to(device).eval()\r\n",
      "\r\n",
      "    \u001b[36mprint\u001b[39;49;00m(\u001b[33m\"\u001b[39;49;00m\u001b[33mDone loading model.\u001b[39;49;00m\u001b[33m\"\u001b[39;49;00m)\r\n",
      "    \u001b[34mreturn\u001b[39;49;00m model\r\n",
      "\r\n",
      "\u001b[34mdef\u001b[39;49;00m \u001b[32minput_fn\u001b[39;49;00m(serialized_input_data, content_type):\r\n",
      "    \u001b[36mprint\u001b[39;49;00m(\u001b[33m'\u001b[39;49;00m\u001b[33mDeserializing the input data.\u001b[39;49;00m\u001b[33m'\u001b[39;49;00m)\r\n",
      "    \u001b[34mif\u001b[39;49;00m content_type == \u001b[33m'\u001b[39;49;00m\u001b[33mtext/plain\u001b[39;49;00m\u001b[33m'\u001b[39;49;00m:\r\n",
      "        data = serialized_input_data.decode(\u001b[33m'\u001b[39;49;00m\u001b[33mutf-8\u001b[39;49;00m\u001b[33m'\u001b[39;49;00m)\r\n",
      "        \u001b[34mreturn\u001b[39;49;00m data\r\n",
      "    \u001b[34mraise\u001b[39;49;00m \u001b[36mException\u001b[39;49;00m(\u001b[33m'\u001b[39;49;00m\u001b[33mRequested unsupported ContentType in content_type: \u001b[39;49;00m\u001b[33m'\u001b[39;49;00m + content_type)\r\n",
      "\r\n",
      "\u001b[34mdef\u001b[39;49;00m \u001b[32moutput_fn\u001b[39;49;00m(prediction_output, accept):\r\n",
      "    \u001b[36mprint\u001b[39;49;00m(\u001b[33m'\u001b[39;49;00m\u001b[33mSerializing the generated output.\u001b[39;49;00m\u001b[33m'\u001b[39;49;00m)\r\n",
      "    \u001b[34mreturn\u001b[39;49;00m \u001b[36mstr\u001b[39;49;00m(prediction_output)\r\n",
      "\r\n",
      "\u001b[34mdef\u001b[39;49;00m \u001b[32mpredict_fn\u001b[39;49;00m(input_data, model):\r\n",
      "    \u001b[36mprint\u001b[39;49;00m(\u001b[33m'\u001b[39;49;00m\u001b[33mInferring sentiment of input data.\u001b[39;49;00m\u001b[33m'\u001b[39;49;00m)\r\n",
      "\r\n",
      "    device = torch.device(\u001b[33m\"\u001b[39;49;00m\u001b[33mcuda\u001b[39;49;00m\u001b[33m\"\u001b[39;49;00m \u001b[34mif\u001b[39;49;00m torch.cuda.is_available() \u001b[34melse\u001b[39;49;00m \u001b[33m\"\u001b[39;49;00m\u001b[33mcpu\u001b[39;49;00m\u001b[33m\"\u001b[39;49;00m)\r\n",
      "    \r\n",
      "    \u001b[34mif\u001b[39;49;00m model.word_dict \u001b[35mis\u001b[39;49;00m \u001b[34mNone\u001b[39;49;00m:\r\n",
      "        \u001b[34mraise\u001b[39;49;00m \u001b[36mException\u001b[39;49;00m(\u001b[33m'\u001b[39;49;00m\u001b[33mModel has not been loaded properly, no word_dict.\u001b[39;49;00m\u001b[33m'\u001b[39;49;00m)\r\n",
      "    \r\n",
      "    \u001b[37m# TODO: Process input_data so that it is ready to be sent to our model.\u001b[39;49;00m\r\n",
      "    \u001b[37m#       You should produce two variables:\u001b[39;49;00m\r\n",
      "    \u001b[37m#         data_X   - A sequence of length 500 which represents the converted review\u001b[39;49;00m\r\n",
      "    \u001b[37m#         data_len - The length of the review\u001b[39;49;00m\r\n",
      "\r\n",
      "    data_X ,data_len = convert_and_pad(model.word_dict, review_to_words(input_data))\r\n",
      "\r\n",
      "    \u001b[37m# Using data_X and data_len we construct an appropriate input tensor. Remember\u001b[39;49;00m\r\n",
      "    \u001b[37m# that our model expects input data of the form 'len, review[500]'.\u001b[39;49;00m\r\n",
      "    data_pack = np.hstack((data_len, data_X))\r\n",
      "    data_pack = data_pack.reshape(\u001b[34m1\u001b[39;49;00m, -\u001b[34m1\u001b[39;49;00m)\r\n",
      "    \r\n",
      "    data = torch.from_numpy(data_pack)\r\n",
      "    data = data.to(device)\r\n",
      "\r\n",
      "    \u001b[37m# Make sure to put the model into evaluation mode\u001b[39;49;00m\r\n",
      "    model.eval()\r\n",
      "\r\n",
      "    \u001b[37m# TODO: Compute the result of applying the model to the input data. The variable `result` should\u001b[39;49;00m\r\n",
      "    \u001b[37m#       be a numpy array which contains a single integer which is either 1 or 0\u001b[39;49;00m\r\n",
      "    \u001b[34mwith\u001b[39;49;00m torch.no_grad():\r\n",
      "        output = model.forward(data)\r\n",
      "    result = np.round(output.numpy())\r\n",
      "\r\n",
      "    \u001b[34mreturn\u001b[39;49;00m result\r\n"
     ]
    }
   ],
   "source": [
    "!pygmentize serve/predict.py"
   ]
  },
  {
   "cell_type": "markdown",
   "metadata": {},
   "source": [
    "As mentioned earlier, the `model_fn` method is the same as the one provided in the training code and the `input_fn` and `output_fn` methods are very simple and your task will be to complete the `predict_fn` method. \n",
    "\n",
    "**Note**: Our model expects input data of the form 'len, review[500]'. So make sure you produce two variables from processing: \n",
    "- `data_X`:  A sequence of length 500 which represents the converted review\n",
    "- `data_len`: - The length of the review\n",
    "\n",
    "Make sure that you save the completed file as `predict.py` in the `serve` directory.\n",
    "\n",
    "**TODO**: Complete the `predict_fn()` method in the `serve/predict.py` file."
   ]
  },
  {
   "cell_type": "markdown",
   "metadata": {},
   "source": [
    "### Deploying the model\n",
    "\n",
    "Now that the custom inference code has been written, we will create and deploy our model. To begin with, we need to construct a new PyTorchModel object which points to the model artifacts created during training and also points to the inference code that we wish to use. Then we can call the deploy method to launch the deployment container.\n",
    "\n",
    "**NOTE**: The default behaviour for a deployed PyTorch model is to assume that any input passed to the predictor is a `numpy` array. In our case we want to send a string so we need to construct a simple wrapper around the `RealTimePredictor` class to accomodate simple strings. In a more complicated situation you may want to provide a serialization object, for example if you wanted to sent image data."
   ]
  },
  {
   "cell_type": "code",
   "execution_count": 41,
   "metadata": {},
   "outputs": [
    {
     "name": "stderr",
     "output_type": "stream",
     "text": [
      "Parameter image will be renamed to image_uri in SageMaker Python SDK v2.\n",
      "'create_image_uri' will be deprecated in favor of 'ImageURIProvider' class in SageMaker Python SDK v2.\n"
     ]
    },
    {
     "name": "stdout",
     "output_type": "stream",
     "text": [
      "-------!"
     ]
    }
   ],
   "source": [
    "from sagemaker.predictor import RealTimePredictor\n",
    "from sagemaker.pytorch import PyTorchModel\n",
    "\n",
    "class StringPredictor(RealTimePredictor):\n",
    "    def __init__(self, endpoint_name, sagemaker_session):\n",
    "        super(StringPredictor, self).__init__(endpoint_name, sagemaker_session, content_type='text/plain')\n",
    "\n",
    "model = PyTorchModel(model_data=estimator.model_data,\n",
    "                     role = role,\n",
    "                     framework_version='0.4.0',\n",
    "                     entry_point='predict.py',\n",
    "                     source_dir='serve',\n",
    "                     predictor_cls=StringPredictor)\n",
    "predictor = model.deploy(initial_instance_count=1, instance_type='ml.m4.xlarge')"
   ]
  },
  {
   "cell_type": "markdown",
   "metadata": {},
   "source": [
    "### Testing the model\n",
    "\n",
    "Now that we have deployed our model with the custom inference code, we should test to see if everything is working. Here we test our model by loading the first `250` positive and negative reviews and send them to the endpoint, then collect the results. The reason for only sending some of the data is that the amount of time it takes for our model to process the input and then perform inference is quite long and so testing the entire data set would be prohibitive."
   ]
  },
  {
   "cell_type": "code",
   "execution_count": 42,
   "metadata": {},
   "outputs": [],
   "source": [
    "import glob\n",
    "\n",
    "def test_reviews(data_dir='../data/aclImdb', stop=250):\n",
    "    \n",
    "    results = []\n",
    "    ground = []\n",
    "    \n",
    "    # We make sure to test both positive and negative reviews    \n",
    "    for sentiment in ['pos', 'neg']:\n",
    "        \n",
    "        path = os.path.join(data_dir, 'test', sentiment, '*.txt')\n",
    "        files = glob.glob(path)\n",
    "        \n",
    "        files_read = 0\n",
    "        \n",
    "        print('Starting ', sentiment, ' files')\n",
    "        \n",
    "        # Iterate through the files and send them to the predictor\n",
    "        for f in files:\n",
    "            with open(f) as review:\n",
    "                # First, we store the ground truth (was the review positive or negative)\n",
    "                if sentiment == 'pos':\n",
    "                    ground.append(1)\n",
    "                else:\n",
    "                    ground.append(0)\n",
    "                # Read in the review and convert to 'utf-8' for transmission via HTTP\n",
    "                review_input = review.read().encode('utf-8')\n",
    "                # Send the review to the predictor and store the results\n",
    "                results.append(float(predictor.predict(review_input)))\n",
    "                \n",
    "            # Sending reviews to our endpoint one at a time takes a while so we\n",
    "            # only send a small number of reviews\n",
    "            files_read += 1\n",
    "            if files_read == stop:\n",
    "                break\n",
    "            \n",
    "    return ground, results"
   ]
  },
  {
   "cell_type": "code",
   "execution_count": 43,
   "metadata": {},
   "outputs": [
    {
     "name": "stdout",
     "output_type": "stream",
     "text": [
      "Starting  pos  files\n",
      "Starting  neg  files\n"
     ]
    }
   ],
   "source": [
    "ground, results = test_reviews()"
   ]
  },
  {
   "cell_type": "code",
   "execution_count": 44,
   "metadata": {},
   "outputs": [
    {
     "data": {
      "text/plain": [
       "0.694"
      ]
     },
     "execution_count": 44,
     "metadata": {},
     "output_type": "execute_result"
    }
   ],
   "source": [
    "from sklearn.metrics import accuracy_score\n",
    "accuracy_score(ground, results)"
   ]
  },
  {
   "cell_type": "markdown",
   "metadata": {},
   "source": [
    "As an additional test, we can try sending the `test_review` that we looked at earlier."
   ]
  },
  {
   "cell_type": "code",
   "execution_count": 45,
   "metadata": {},
   "outputs": [
    {
     "data": {
      "text/plain": [
       "b'1.0'"
      ]
     },
     "execution_count": 45,
     "metadata": {},
     "output_type": "execute_result"
    }
   ],
   "source": [
    "predictor.predict(test_review)"
   ]
  },
  {
   "cell_type": "markdown",
   "metadata": {},
   "source": [
    "Now that we know our endpoint is working as expected, we can set up the web page that will interact with it. If you don't have time to finish the project now, make sure to skip down to the end of this notebook and shut down your endpoint. You can deploy it again when you come back."
   ]
  },
  {
   "cell_type": "markdown",
   "metadata": {},
   "source": [
    "## Step 7 (again): Use the model for the web app\n",
    "\n",
    "> **TODO:** This entire section and the next contain tasks for you to complete, mostly using the AWS console.\n",
    "\n",
    "So far we have been accessing our model endpoint by constructing a predictor object which uses the endpoint and then just using the predictor object to perform inference. What if we wanted to create a web app which accessed our model? The way things are set up currently makes that not possible since in order to access a SageMaker endpoint the app would first have to authenticate with AWS using an IAM role which included access to SageMaker endpoints. However, there is an easier way! We just need to use some additional AWS services.\n",
    "\n",
    "<img src=\"Web App Diagram.svg\">\n",
    "\n",
    "The diagram above gives an overview of how the various services will work together. On the far right is the model which we trained above and which is deployed using SageMaker. On the far left is our web app that collects a user's movie review, sends it off and expects a positive or negative sentiment in return.\n",
    "\n",
    "In the middle is where some of the magic happens. We will construct a Lambda function, which you can think of as a straightforward Python function that can be executed whenever a specified event occurs. We will give this function permission to send and recieve data from a SageMaker endpoint.\n",
    "\n",
    "Lastly, the method we will use to execute the Lambda function is a new endpoint that we will create using API Gateway. This endpoint will be a url that listens for data to be sent to it. Once it gets some data it will pass that data on to the Lambda function and then return whatever the Lambda function returns. Essentially it will act as an interface that lets our web app communicate with the Lambda function.\n",
    "\n",
    "### Setting up a Lambda function\n",
    "\n",
    "The first thing we are going to do is set up a Lambda function. This Lambda function will be executed whenever our public API has data sent to it. When it is executed it will receive the data, perform any sort of processing that is required, send the data (the review) to the SageMaker endpoint we've created and then return the result.\n",
    "\n",
    "#### Part A: Create an IAM Role for the Lambda function\n",
    "\n",
    "Since we want the Lambda function to call a SageMaker endpoint, we need to make sure that it has permission to do so. To do this, we will construct a role that we can later give the Lambda function.\n",
    "\n",
    "Using the AWS Console, navigate to the **IAM** page and click on **Roles**. Then, click on **Create role**. Make sure that the **AWS service** is the type of trusted entity selected and choose **Lambda** as the service that will use this role, then click **Next: Permissions**.\n",
    "\n",
    "In the search box type `sagemaker` and select the check box next to the **AmazonSageMakerFullAccess** policy. Then, click on **Next: Review**.\n",
    "\n",
    "Lastly, give this role a name. Make sure you use a name that you will remember later on, for example `LambdaSageMakerRole`. Then, click on **Create role**.\n",
    "\n",
    "#### Part B: Create a Lambda function\n",
    "\n",
    "Now it is time to actually create the Lambda function.\n",
    "\n",
    "Using the AWS Console, navigate to the AWS Lambda page and click on **Create a function**. When you get to the next page, make sure that **Author from scratch** is selected. Now, name your Lambda function, using a name that you will remember later on, for example `sentiment_analysis_func`. Make sure that the **Python 3.6** runtime is selected and then choose the role that you created in the previous part. Then, click on **Create Function**.\n",
    "\n",
    "On the next page you will see some information about the Lambda function you've just created. If you scroll down you should see an editor in which you can write the code that will be executed when your Lambda function is triggered. In our example, we will use the code below. \n",
    "\n",
    "```python\n",
    "# We need to use the low-level library to interact with SageMaker since the SageMaker API\n",
    "# is not available natively through Lambda.\n",
    "import boto3\n",
    "\n",
    "def lambda_handler(event, context):\n",
    "\n",
    "    # The SageMaker runtime is what allows us to invoke the endpoint that we've created.\n",
    "    runtime = boto3.Session().client('sagemaker-runtime')\n",
    "\n",
    "    # Now we use the SageMaker runtime to invoke our endpoint, sending the review we were given\n",
    "    response = runtime.invoke_endpoint(EndpointName = '**ENDPOINT NAME HERE**',    # The name of the endpoint we created\n",
    "                                       ContentType = 'text/plain',                 # The data format that is expected\n",
    "                                       Body = event['body'])                       # The actual review\n",
    "\n",
    "    # The response is an HTTP response whose body contains the result of our inference\n",
    "    result = response['Body'].read().decode('utf-8')\n",
    "\n",
    "    return {\n",
    "        'statusCode' : 200,\n",
    "        'headers' : { 'Content-Type' : 'text/plain', 'Access-Control-Allow-Origin' : '*' },\n",
    "        'body' : result\n",
    "    }\n",
    "```\n",
    "\n",
    "Once you have copy and pasted the code above into the Lambda code editor, replace the `**ENDPOINT NAME HERE**` portion with the name of the endpoint that we deployed earlier. You can determine the name of the endpoint using the code cell below."
   ]
  },
  {
   "cell_type": "code",
   "execution_count": 46,
   "metadata": {},
   "outputs": [
    {
     "data": {
      "text/plain": [
       "'sagemaker-pytorch-2022-10-26-18-41-09-353'"
      ]
     },
     "execution_count": 46,
     "metadata": {},
     "output_type": "execute_result"
    }
   ],
   "source": [
    "predictor.endpoint"
   ]
  },
  {
   "cell_type": "markdown",
   "metadata": {},
   "source": [
    "Once you have added the endpoint name to the Lambda function, click on **Save**. Your Lambda function is now up and running. Next we need to create a way for our web app to execute the Lambda function.\n",
    "\n",
    "### Setting up API Gateway\n",
    "\n",
    "Now that our Lambda function is set up, it is time to create a new API using API Gateway that will trigger the Lambda function we have just created.\n",
    "\n",
    "Using AWS Console, navigate to **Amazon API Gateway** and then click on **Get started**.\n",
    "\n",
    "On the next page, make sure that **New API** is selected and give the new api a name, for example, `sentiment_analysis_api`. Then, click on **Create API**.\n",
    "\n",
    "Now we have created an API, however it doesn't currently do anything. What we want it to do is to trigger the Lambda function that we created earlier.\n",
    "\n",
    "Select the **Actions** dropdown menu and click **Create Method**. A new blank method will be created, select its dropdown menu and select **POST**, then click on the check mark beside it.\n",
    "\n",
    "For the integration point, make sure that **Lambda Function** is selected and click on the **Use Lambda Proxy integration**. This option makes sure that the data that is sent to the API is then sent directly to the Lambda function with no processing. It also means that the return value must be a proper response object as it will also not be processed by API Gateway.\n",
    "\n",
    "Type the name of the Lambda function you created earlier into the **Lambda Function** text entry box and then click on **Save**. Click on **OK** in the pop-up box that then appears, giving permission to API Gateway to invoke the Lambda function you created.\n",
    "\n",
    "The last step in creating the API Gateway is to select the **Actions** dropdown and click on **Deploy API**. You will need to create a new Deployment stage and name it anything you like, for example `prod`.\n",
    "\n",
    "You have now successfully set up a public API to access your SageMaker model. Make sure to copy or write down the URL provided to invoke your newly created public API as this will be needed in the next step. This URL can be found at the top of the page, highlighted in blue next to the text **Invoke URL**."
   ]
  },
  {
   "cell_type": "markdown",
   "metadata": {},
   "source": [
    "## Step 4: Deploying our web app\n",
    "\n",
    "Now that we have a publicly available API, we can start using it in a web app. For our purposes, we have provided a simple static html file which can make use of the public api you created earlier.\n",
    "\n",
    "In the `website` folder there should be a file called `index.html`. Download the file to your computer and open that file up in a text editor of your choice. There should be a line which contains **\\*\\*REPLACE WITH PUBLIC API URL\\*\\***. Replace this string with the url that you wrote down in the last step and then save the file.\n",
    "\n",
    "Now, if you open `index.html` on your local computer, your browser will behave as a local web server and you can use the provided site to interact with your SageMaker model.\n",
    "\n",
    "If you'd like to go further, you can host this html file anywhere you'd like, for example using github or hosting a static site on Amazon's S3. Once you have done this you can share the link with anyone you'd like and have them play with it too!\n",
    "\n",
    "> **Important Note** In order for the web app to communicate with the SageMaker endpoint, the endpoint has to actually be deployed and running. This means that you are paying for it. Make sure that the endpoint is running when you want to use the web app but that you shut it down when you don't need it, otherwise you will end up with a surprisingly large AWS bill.\n",
    "\n",
    "**TODO:** Make sure that you include the edited `index.html` file in your project submission."
   ]
  },
  {
   "cell_type": "markdown",
   "metadata": {},
   "source": [
    "Now that your web app is working, trying playing around with it and see how well it works.\n",
    "\n",
    "**Question**: \n",
    "1. Post a screenshot showing a sample review that you entered into your web app and the predicted sentiment. \n",
    "2. What was the predicted sentiment of your example review?"
   ]
  },
  {
   "cell_type": "code",
   "execution_count": 47,
   "metadata": {},
   "outputs": [
    {
     "data": {
      "image/jpeg": "[encoded data removed]",
      "text/plain": [
       "<IPython.core.display.Image object>"
      ]
     },
     "execution_count": 47,
     "metadata": {},
     "output_type": "execute_result"
    }
   ],
   "source": [
    "# 1. Upload screenshot and run this cell to display it\n",
    "from IPython.display import Image\n",
    "Image(filename='Review_test.JPG') # change the screenshot filename"
   ]
  },
  {
   "cell_type": "markdown",
   "metadata": {},
   "source": [
    "**2. Answer:** The predicted sentiment is positive"
   ]
  },
  {
   "cell_type": "markdown",
   "metadata": {},
   "source": [
    "### Delete the endpoint\n",
    "\n",
    "Remember to always shut down your endpoint if you are no longer using it. You are charged for the length of time that the endpoint is running so if you forget and leave it on you could end up with an unexpectedly large bill."
   ]
  },
  {
   "cell_type": "code",
   "execution_count": 48,
   "metadata": {},
   "outputs": [],
   "source": [
    "predictor.delete_endpoint()"
   ]
  },
  {
   "cell_type": "code",
   "execution_count": null,
   "metadata": {},
   "outputs": [],
   "source": []
  }
 ],
 "metadata": {
  "kernelspec": {
   "display_name": "conda_pytorch_p38",
   "language": "python",
   "name": "conda_pytorch_p38"
  },
  "language_info": {
   "codemirror_mode": {
    "name": "ipython",
    "version": 3
   },
   "file_extension": ".py",
   "mimetype": "text/x-python",
   "name": "python",
   "nbconvert_exporter": "python",
   "pygments_lexer": "ipython3",
   "version": "3.8.12"
  }
 },
 "nbformat": 4,
 "nbformat_minor": 4
}
